{
 "metadata": {
  "language_info": {
   "codemirror_mode": {
    "name": "ipython",
    "version": 3
   },
   "file_extension": ".py",
   "mimetype": "text/x-python",
   "name": "python",
   "nbconvert_exporter": "python",
   "pygments_lexer": "ipython3",
   "version": "3.8.5-final"
  },
  "orig_nbformat": 2,
  "kernelspec": {
   "name": "python3",
   "display_name": "Python 3",
   "language": "python"
  }
 },
 "nbformat": 4,
 "nbformat_minor": 2,
 "cells": [
  {
   "cell_type": "code",
   "execution_count": 476,
   "metadata": {},
   "outputs": [],
   "source": [
    "#Importing Necessary Libraries\n",
    "import pandas as pd\n",
    "import numpy as np\n",
    "\n",
    "import pymysql\n",
    "from sqlalchemy import create_engine"
   ]
  },
  {
   "cell_type": "code",
   "execution_count": 477,
   "metadata": {},
   "outputs": [],
   "source": [
    "#Fetching Search output as Dataframe for further cleaning\n",
    "df = pd.read_json(r'search_output.json')"
   ]
  },
  {
   "cell_type": "code",
   "execution_count": 478,
   "metadata": {},
   "outputs": [
    {
     "output_type": "execute_result",
     "data": {
      "text/plain": [
       "                                                  title  \\\n",
       "0     Simple Mobile Samsung Galaxy A01 4G LTE Prepai...   \n",
       "1     Simple Mobile Samsung Galaxy A20 4G LTE Prepai...   \n",
       "2     Samsung Galaxy A21 Factory Unlocked Android Ce...   \n",
       "3     OUKITEL WP8 Pro (2020) Rugged Smartphone, 6.49...   \n",
       "4     Samsung Galaxy S20 FE 5G | Factory Unlocked An...   \n",
       "...                                                 ...   \n",
       "6631  Rechargeable Selfie Camera Ring Light - Portab...   \n",
       "6632  PAKPOD Bundle - Packable Tripod for Mirrorless...   \n",
       "6633  Swark OLED Display Compatible with Google Pixe...   \n",
       "6634  Tracfone TCL A1X 4G LTE Prepaid Smartphone (Lo...   \n",
       "6635  Gimbal Stabilizer 3-axis Handheld Portable Vlo...   \n",
       "\n",
       "                                                    url              rating  \\\n",
       "0     https://www.amazon.com/gp/slredirect/picassoRe...  4.3 out of 5 stars   \n",
       "1     https://www.amazon.com/gp/slredirect/picassoRe...  4.4 out of 5 stars   \n",
       "2     https://www.amazon.com/Samsung-Unlocked-Smartp...  4.4 out of 5 stars   \n",
       "3     https://www.amazon.com/OUKITEL-WP8-Pro-Smartph...  4.4 out of 5 stars   \n",
       "4     https://www.amazon.com/Samsung-Factory-Unlocke...  4.6 out of 5 stars   \n",
       "...                                                 ...                 ...   \n",
       "6631  https://www.amazon.com/Rechargeable-Selfie-Cam...  4.1 out of 5 stars   \n",
       "6632  https://www.amazon.com/PAKPOD-BUNDLE-Mirrorles...  5.0 out of 5 stars   \n",
       "6633  https://www.amazon.com/Display-Compatible-Smar...  3.8 out of 5 stars   \n",
       "6634  https://www.amazon.com/gp/slredirect/picassoRe...  4.1 out of 5 stars   \n",
       "6635  https://www.amazon.com/gp/slredirect/picassoRe...                None   \n",
       "\n",
       "     review_count    price  \n",
       "0             372   $53.39  \n",
       "1              30  $144.66  \n",
       "2             659   $99.00  \n",
       "3             271  $189.99  \n",
       "4           2,265  $599.99  \n",
       "...           ...      ...  \n",
       "6631           34    $7.99  \n",
       "6632            3   $99.00  \n",
       "6633           22  $188.00  \n",
       "6634           62   $59.99  \n",
       "6635         None   $55.00  \n",
       "\n",
       "[6636 rows x 5 columns]"
      ],
      "text/html": "<div>\n<style scoped>\n    .dataframe tbody tr th:only-of-type {\n        vertical-align: middle;\n    }\n\n    .dataframe tbody tr th {\n        vertical-align: top;\n    }\n\n    .dataframe thead th {\n        text-align: right;\n    }\n</style>\n<table border=\"1\" class=\"dataframe\">\n  <thead>\n    <tr style=\"text-align: right;\">\n      <th></th>\n      <th>title</th>\n      <th>url</th>\n      <th>rating</th>\n      <th>review_count</th>\n      <th>price</th>\n    </tr>\n  </thead>\n  <tbody>\n    <tr>\n      <th>0</th>\n      <td>Simple Mobile Samsung Galaxy A01 4G LTE Prepai...</td>\n      <td>https://www.amazon.com/gp/slredirect/picassoRe...</td>\n      <td>4.3 out of 5 stars</td>\n      <td>372</td>\n      <td>$53.39</td>\n    </tr>\n    <tr>\n      <th>1</th>\n      <td>Simple Mobile Samsung Galaxy A20 4G LTE Prepai...</td>\n      <td>https://www.amazon.com/gp/slredirect/picassoRe...</td>\n      <td>4.4 out of 5 stars</td>\n      <td>30</td>\n      <td>$144.66</td>\n    </tr>\n    <tr>\n      <th>2</th>\n      <td>Samsung Galaxy A21 Factory Unlocked Android Ce...</td>\n      <td>https://www.amazon.com/Samsung-Unlocked-Smartp...</td>\n      <td>4.4 out of 5 stars</td>\n      <td>659</td>\n      <td>$99.00</td>\n    </tr>\n    <tr>\n      <th>3</th>\n      <td>OUKITEL WP8 Pro (2020) Rugged Smartphone, 6.49...</td>\n      <td>https://www.amazon.com/OUKITEL-WP8-Pro-Smartph...</td>\n      <td>4.4 out of 5 stars</td>\n      <td>271</td>\n      <td>$189.99</td>\n    </tr>\n    <tr>\n      <th>4</th>\n      <td>Samsung Galaxy S20 FE 5G | Factory Unlocked An...</td>\n      <td>https://www.amazon.com/Samsung-Factory-Unlocke...</td>\n      <td>4.6 out of 5 stars</td>\n      <td>2,265</td>\n      <td>$599.99</td>\n    </tr>\n    <tr>\n      <th>...</th>\n      <td>...</td>\n      <td>...</td>\n      <td>...</td>\n      <td>...</td>\n      <td>...</td>\n    </tr>\n    <tr>\n      <th>6631</th>\n      <td>Rechargeable Selfie Camera Ring Light - Portab...</td>\n      <td>https://www.amazon.com/Rechargeable-Selfie-Cam...</td>\n      <td>4.1 out of 5 stars</td>\n      <td>34</td>\n      <td>$7.99</td>\n    </tr>\n    <tr>\n      <th>6632</th>\n      <td>PAKPOD Bundle - Packable Tripod for Mirrorless...</td>\n      <td>https://www.amazon.com/PAKPOD-BUNDLE-Mirrorles...</td>\n      <td>5.0 out of 5 stars</td>\n      <td>3</td>\n      <td>$99.00</td>\n    </tr>\n    <tr>\n      <th>6633</th>\n      <td>Swark OLED Display Compatible with Google Pixe...</td>\n      <td>https://www.amazon.com/Display-Compatible-Smar...</td>\n      <td>3.8 out of 5 stars</td>\n      <td>22</td>\n      <td>$188.00</td>\n    </tr>\n    <tr>\n      <th>6634</th>\n      <td>Tracfone TCL A1X 4G LTE Prepaid Smartphone (Lo...</td>\n      <td>https://www.amazon.com/gp/slredirect/picassoRe...</td>\n      <td>4.1 out of 5 stars</td>\n      <td>62</td>\n      <td>$59.99</td>\n    </tr>\n    <tr>\n      <th>6635</th>\n      <td>Gimbal Stabilizer 3-axis Handheld Portable Vlo...</td>\n      <td>https://www.amazon.com/gp/slredirect/picassoRe...</td>\n      <td>None</td>\n      <td>None</td>\n      <td>$55.00</td>\n    </tr>\n  </tbody>\n</table>\n<p>6636 rows × 5 columns</p>\n</div>"
     },
     "metadata": {},
     "execution_count": 478
    }
   ],
   "source": [
    "df"
   ]
  },
  {
   "cell_type": "code",
   "execution_count": 479,
   "metadata": {},
   "outputs": [
    {
     "output_type": "execute_result",
     "data": {
      "text/plain": [
       "title             0\n",
       "url               0\n",
       "rating          734\n",
       "review_count    734\n",
       "price           111\n",
       "dtype: int64"
      ]
     },
     "metadata": {},
     "execution_count": 479
    }
   ],
   "source": [
    "#Quick check on Null Values(if any)\n",
    "df.isnull().sum()"
   ]
  },
  {
   "cell_type": "code",
   "execution_count": 480,
   "metadata": {},
   "outputs": [],
   "source": [
    "df.dropna(inplace= True)"
   ]
  },
  {
   "cell_type": "code",
   "execution_count": 481,
   "metadata": {},
   "outputs": [
    {
     "output_type": "execute_result",
     "data": {
      "text/plain": [
       "0       4.3\n",
       "1       4.4\n",
       "2       4.4\n",
       "3       4.4\n",
       "4       4.6\n",
       "       ... \n",
       "6630    4.1\n",
       "6631    4.1\n",
       "6632    5.0\n",
       "6633    3.8\n",
       "6634    4.1\n",
       "Name: rating, Length: 5794, dtype: object"
      ]
     },
     "metadata": {},
     "execution_count": 481
    }
   ],
   "source": [
    "#Cleaning Rating column in order to just get 'The Rating' of the product\n",
    "df['rating'].map(lambda x:x.split(' ', 1)[0])"
   ]
  },
  {
   "cell_type": "code",
   "execution_count": 482,
   "metadata": {},
   "outputs": [
    {
     "output_type": "execute_result",
     "data": {
      "text/plain": [
       "                                               title  \\\n",
       "0  Simple Mobile Samsung Galaxy A01 4G LTE Prepai...   \n",
       "1  Simple Mobile Samsung Galaxy A20 4G LTE Prepai...   \n",
       "2  Samsung Galaxy A21 Factory Unlocked Android Ce...   \n",
       "3  OUKITEL WP8 Pro (2020) Rugged Smartphone, 6.49...   \n",
       "4  Samsung Galaxy S20 FE 5G | Factory Unlocked An...   \n",
       "\n",
       "                                                 url rating review_count  \\\n",
       "0  https://www.amazon.com/gp/slredirect/picassoRe...    4.3          372   \n",
       "1  https://www.amazon.com/gp/slredirect/picassoRe...    4.4           30   \n",
       "2  https://www.amazon.com/Samsung-Unlocked-Smartp...    4.4          659   \n",
       "3  https://www.amazon.com/OUKITEL-WP8-Pro-Smartph...    4.4          271   \n",
       "4  https://www.amazon.com/Samsung-Factory-Unlocke...    4.6        2,265   \n",
       "\n",
       "     price  \n",
       "0   $53.39  \n",
       "1  $144.66  \n",
       "2   $99.00  \n",
       "3  $189.99  \n",
       "4  $599.99  "
      ],
      "text/html": "<div>\n<style scoped>\n    .dataframe tbody tr th:only-of-type {\n        vertical-align: middle;\n    }\n\n    .dataframe tbody tr th {\n        vertical-align: top;\n    }\n\n    .dataframe thead th {\n        text-align: right;\n    }\n</style>\n<table border=\"1\" class=\"dataframe\">\n  <thead>\n    <tr style=\"text-align: right;\">\n      <th></th>\n      <th>title</th>\n      <th>url</th>\n      <th>rating</th>\n      <th>review_count</th>\n      <th>price</th>\n    </tr>\n  </thead>\n  <tbody>\n    <tr>\n      <th>0</th>\n      <td>Simple Mobile Samsung Galaxy A01 4G LTE Prepai...</td>\n      <td>https://www.amazon.com/gp/slredirect/picassoRe...</td>\n      <td>4.3</td>\n      <td>372</td>\n      <td>$53.39</td>\n    </tr>\n    <tr>\n      <th>1</th>\n      <td>Simple Mobile Samsung Galaxy A20 4G LTE Prepai...</td>\n      <td>https://www.amazon.com/gp/slredirect/picassoRe...</td>\n      <td>4.4</td>\n      <td>30</td>\n      <td>$144.66</td>\n    </tr>\n    <tr>\n      <th>2</th>\n      <td>Samsung Galaxy A21 Factory Unlocked Android Ce...</td>\n      <td>https://www.amazon.com/Samsung-Unlocked-Smartp...</td>\n      <td>4.4</td>\n      <td>659</td>\n      <td>$99.00</td>\n    </tr>\n    <tr>\n      <th>3</th>\n      <td>OUKITEL WP8 Pro (2020) Rugged Smartphone, 6.49...</td>\n      <td>https://www.amazon.com/OUKITEL-WP8-Pro-Smartph...</td>\n      <td>4.4</td>\n      <td>271</td>\n      <td>$189.99</td>\n    </tr>\n    <tr>\n      <th>4</th>\n      <td>Samsung Galaxy S20 FE 5G | Factory Unlocked An...</td>\n      <td>https://www.amazon.com/Samsung-Factory-Unlocke...</td>\n      <td>4.6</td>\n      <td>2,265</td>\n      <td>$599.99</td>\n    </tr>\n  </tbody>\n</table>\n</div>"
     },
     "metadata": {},
     "execution_count": 482
    }
   ],
   "source": [
    "df.rating = df['rating'].map(lambda x:x.split(' ', 1)[0])\n",
    "df.head()"
   ]
  },
  {
   "cell_type": "code",
   "execution_count": 483,
   "metadata": {},
   "outputs": [],
   "source": [
    "#Converting column 'Rating' as Float\n",
    "df.rating = df.rating.astype(float)"
   ]
  },
  {
   "cell_type": "code",
   "execution_count": 484,
   "metadata": {},
   "outputs": [],
   "source": [
    "df['review_count'] = df['review_count'].str.replace(',', '').astype(int)"
   ]
  },
  {
   "cell_type": "code",
   "execution_count": 485,
   "metadata": {},
   "outputs": [
    {
     "output_type": "execute_result",
     "data": {
      "text/plain": [
       "title            object\n",
       "url              object\n",
       "rating          float64\n",
       "review_count      int32\n",
       "price            object\n",
       "dtype: object"
      ]
     },
     "metadata": {},
     "execution_count": 485
    }
   ],
   "source": [
    "df.dtypes"
   ]
  },
  {
   "cell_type": "code",
   "execution_count": 486,
   "metadata": {},
   "outputs": [],
   "source": [
    "#Removing '$' from Price column\n",
    "df['price'] = df['price'].str.replace('$', '').str.replace(',', '').astype(float)"
   ]
  },
  {
   "cell_type": "code",
   "execution_count": 487,
   "metadata": {},
   "outputs": [
    {
     "output_type": "execute_result",
     "data": {
      "text/plain": [
       "                                               title  \\\n",
       "0  Simple Mobile Samsung Galaxy A01 4G LTE Prepai...   \n",
       "1  Simple Mobile Samsung Galaxy A20 4G LTE Prepai...   \n",
       "2  Samsung Galaxy A21 Factory Unlocked Android Ce...   \n",
       "3  OUKITEL WP8 Pro (2020) Rugged Smartphone, 6.49...   \n",
       "4  Samsung Galaxy S20 FE 5G | Factory Unlocked An...   \n",
       "\n",
       "                                                 url  rating  review_count  \\\n",
       "0  https://www.amazon.com/gp/slredirect/picassoRe...     4.3           372   \n",
       "1  https://www.amazon.com/gp/slredirect/picassoRe...     4.4            30   \n",
       "2  https://www.amazon.com/Samsung-Unlocked-Smartp...     4.4           659   \n",
       "3  https://www.amazon.com/OUKITEL-WP8-Pro-Smartph...     4.4           271   \n",
       "4  https://www.amazon.com/Samsung-Factory-Unlocke...     4.6          2265   \n",
       "\n",
       "    price  \n",
       "0   53.39  \n",
       "1  144.66  \n",
       "2   99.00  \n",
       "3  189.99  \n",
       "4  599.99  "
      ],
      "text/html": "<div>\n<style scoped>\n    .dataframe tbody tr th:only-of-type {\n        vertical-align: middle;\n    }\n\n    .dataframe tbody tr th {\n        vertical-align: top;\n    }\n\n    .dataframe thead th {\n        text-align: right;\n    }\n</style>\n<table border=\"1\" class=\"dataframe\">\n  <thead>\n    <tr style=\"text-align: right;\">\n      <th></th>\n      <th>title</th>\n      <th>url</th>\n      <th>rating</th>\n      <th>review_count</th>\n      <th>price</th>\n    </tr>\n  </thead>\n  <tbody>\n    <tr>\n      <th>0</th>\n      <td>Simple Mobile Samsung Galaxy A01 4G LTE Prepai...</td>\n      <td>https://www.amazon.com/gp/slredirect/picassoRe...</td>\n      <td>4.3</td>\n      <td>372</td>\n      <td>53.39</td>\n    </tr>\n    <tr>\n      <th>1</th>\n      <td>Simple Mobile Samsung Galaxy A20 4G LTE Prepai...</td>\n      <td>https://www.amazon.com/gp/slredirect/picassoRe...</td>\n      <td>4.4</td>\n      <td>30</td>\n      <td>144.66</td>\n    </tr>\n    <tr>\n      <th>2</th>\n      <td>Samsung Galaxy A21 Factory Unlocked Android Ce...</td>\n      <td>https://www.amazon.com/Samsung-Unlocked-Smartp...</td>\n      <td>4.4</td>\n      <td>659</td>\n      <td>99.00</td>\n    </tr>\n    <tr>\n      <th>3</th>\n      <td>OUKITEL WP8 Pro (2020) Rugged Smartphone, 6.49...</td>\n      <td>https://www.amazon.com/OUKITEL-WP8-Pro-Smartph...</td>\n      <td>4.4</td>\n      <td>271</td>\n      <td>189.99</td>\n    </tr>\n    <tr>\n      <th>4</th>\n      <td>Samsung Galaxy S20 FE 5G | Factory Unlocked An...</td>\n      <td>https://www.amazon.com/Samsung-Factory-Unlocke...</td>\n      <td>4.6</td>\n      <td>2265</td>\n      <td>599.99</td>\n    </tr>\n  </tbody>\n</table>\n</div>"
     },
     "metadata": {},
     "execution_count": 487
    }
   ],
   "source": [
    "df.head()"
   ]
  },
  {
   "cell_type": "code",
   "execution_count": 488,
   "metadata": {},
   "outputs": [
    {
     "output_type": "execute_result",
     "data": {
      "text/plain": [
       "                                               title  \\\n",
       "0  Simple Mobile Samsung Galaxy A01 4G LTE Prepai...   \n",
       "1  Simple Mobile Samsung Galaxy A20 4G LTE Prepai...   \n",
       "2  Samsung Galaxy A21 Factory Unlocked Android Ce...   \n",
       "3  OUKITEL WP8 Pro (2020) Rugged Smartphone, 6.49...   \n",
       "4  Samsung Galaxy S20 FE 5G | Factory Unlocked An...   \n",
       "\n",
       "                                                 url  rating  review_count  \\\n",
       "0  https://www.amazon.com/gp/slredirect/picassoRe...     4.3           372   \n",
       "1  https://www.amazon.com/gp/slredirect/picassoRe...     4.4            30   \n",
       "2  https://www.amazon.com/Samsung-Unlocked-Smartp...     4.4           659   \n",
       "3  https://www.amazon.com/OUKITEL-WP8-Pro-Smartph...     4.4           271   \n",
       "4  https://www.amazon.com/Samsung-Factory-Unlocke...     4.6          2265   \n",
       "\n",
       "    price product_type  \n",
       "0   53.39   smartphone  \n",
       "1  144.66   smartphone  \n",
       "2   99.00   smartphone  \n",
       "3  189.99   smartphone  \n",
       "4  599.99   smartphone  "
      ],
      "text/html": "<div>\n<style scoped>\n    .dataframe tbody tr th:only-of-type {\n        vertical-align: middle;\n    }\n\n    .dataframe tbody tr th {\n        vertical-align: top;\n    }\n\n    .dataframe thead th {\n        text-align: right;\n    }\n</style>\n<table border=\"1\" class=\"dataframe\">\n  <thead>\n    <tr style=\"text-align: right;\">\n      <th></th>\n      <th>title</th>\n      <th>url</th>\n      <th>rating</th>\n      <th>review_count</th>\n      <th>price</th>\n      <th>product_type</th>\n    </tr>\n  </thead>\n  <tbody>\n    <tr>\n      <th>0</th>\n      <td>Simple Mobile Samsung Galaxy A01 4G LTE Prepai...</td>\n      <td>https://www.amazon.com/gp/slredirect/picassoRe...</td>\n      <td>4.3</td>\n      <td>372</td>\n      <td>53.39</td>\n      <td>smartphone</td>\n    </tr>\n    <tr>\n      <th>1</th>\n      <td>Simple Mobile Samsung Galaxy A20 4G LTE Prepai...</td>\n      <td>https://www.amazon.com/gp/slredirect/picassoRe...</td>\n      <td>4.4</td>\n      <td>30</td>\n      <td>144.66</td>\n      <td>smartphone</td>\n    </tr>\n    <tr>\n      <th>2</th>\n      <td>Samsung Galaxy A21 Factory Unlocked Android Ce...</td>\n      <td>https://www.amazon.com/Samsung-Unlocked-Smartp...</td>\n      <td>4.4</td>\n      <td>659</td>\n      <td>99.00</td>\n      <td>smartphone</td>\n    </tr>\n    <tr>\n      <th>3</th>\n      <td>OUKITEL WP8 Pro (2020) Rugged Smartphone, 6.49...</td>\n      <td>https://www.amazon.com/OUKITEL-WP8-Pro-Smartph...</td>\n      <td>4.4</td>\n      <td>271</td>\n      <td>189.99</td>\n      <td>smartphone</td>\n    </tr>\n    <tr>\n      <th>4</th>\n      <td>Samsung Galaxy S20 FE 5G | Factory Unlocked An...</td>\n      <td>https://www.amazon.com/Samsung-Factory-Unlocke...</td>\n      <td>4.6</td>\n      <td>2265</td>\n      <td>599.99</td>\n      <td>smartphone</td>\n    </tr>\n  </tbody>\n</table>\n</div>"
     },
     "metadata": {},
     "execution_count": 488
    }
   ],
   "source": [
    "#Adding column 'Product_Type' and name it as smartphone as we would be dealing only with Smartphone product\n",
    "df['product_type'] = 'smartphone'\n",
    "df.head()"
   ]
  },
  {
   "cell_type": "code",
   "execution_count": 489,
   "metadata": {},
   "outputs": [],
   "source": [
    "#Resetting Index\n",
    "df_new = df.reset_index(drop=True)"
   ]
  },
  {
   "cell_type": "code",
   "execution_count": 490,
   "metadata": {},
   "outputs": [
    {
     "output_type": "execute_result",
     "data": {
      "text/plain": [
       "0    https://www.amazon.com/gp/slredirect/picassoRe...\n",
       "1    https://www.amazon.com/gp/slredirect/picassoRe...\n",
       "2    https://www.amazon.com/Samsung-Unlocked-Smartp...\n",
       "3    https://www.amazon.com/OUKITEL-WP8-Pro-Smartph...\n",
       "4    https://www.amazon.com/Samsung-Factory-Unlocke...\n",
       "Name: url, dtype: object"
      ]
     },
     "metadata": {},
     "execution_count": 490
    }
   ],
   "source": [
    "#Getting URLs from the dataset\n",
    "urls = df_new['url']\n",
    "urls.head()"
   ]
  },
  {
   "cell_type": "code",
   "execution_count": 491,
   "metadata": {},
   "outputs": [
    {
     "output_type": "execute_result",
     "data": {
      "text/plain": [
       "       c1              c2                                                 c3  \\\n",
       "0  https:  www.amazon.com                                                 gp   \n",
       "1  https:  www.amazon.com                                                 gp   \n",
       "2  https:  www.amazon.com  Samsung-Unlocked-Smartphone-Long-Lasting-Infinity   \n",
       "3  https:  www.amazon.com             OUKITEL-WP8-Pro-Smartphone-Fingerprint   \n",
       "4  https:  www.amazon.com      Samsung-Factory-Unlocked-Smartphone-Pro-Grade   \n",
       "5  https:  www.amazon.com                      BLU-G90-Pro-Gaming-Smartphone   \n",
       "6  https:  www.amazon.com                                                 gp   \n",
       "7  https:  www.amazon.com              DJI-OM-Handheld-Smartphone-Stabilizer   \n",
       "8  https:  www.amazon.com            TCL-Unlocked-Android-Smartphone-Display   \n",
       "9  https:  www.amazon.com      Motorola-XT2041-1-Unlocked-Android-Smartphone   \n",
       "\n",
       "           c4                    c5  \\\n",
       "0  slredirect  picassoRedirect.html   \n",
       "1  slredirect  picassoRedirect.html   \n",
       "2          dp            B08DHG8SBB   \n",
       "3          dp            B08HRJM99F   \n",
       "4          dp            B08FYTSXGQ   \n",
       "5          dp            B08C6XBCRT   \n",
       "6  slredirect  picassoRedirect.html   \n",
       "7          dp            B08CMVGVQY   \n",
       "8          dp            B087LY84RT   \n",
       "9          dp            B087MZ1GZB   \n",
       "\n",
       "                                                  c6  \n",
       "0  ref=pa_sp_atf_electronics-intl-ship_sr_pg1_1?i...  \n",
       "1  ref=pa_sp_atf_electronics-intl-ship_sr_pg1_1?i...  \n",
       "2  ref=sr_1_3?crid=17OSYBMPPLBAI&dchild=1&keyword...  \n",
       "3  ref=sr_1_4?crid=17OSYBMPPLBAI&dchild=1&keyword...  \n",
       "4  ref=sr_1_5?crid=17OSYBMPPLBAI&dchild=1&keyword...  \n",
       "5  ref=sr_1_6?crid=17OSYBMPPLBAI&dchild=1&keyword...  \n",
       "6  ref=pa_sp_mtf_electronics-intl-ship_sr_pg1_1?i...  \n",
       "7  ref=sr_1_8?crid=17OSYBMPPLBAI&dchild=1&keyword...  \n",
       "8  ref=sr_1_9?crid=17OSYBMPPLBAI&dchild=1&keyword...  \n",
       "9  ref=sr_1_10?crid=17OSYBMPPLBAI&dchild=1&keywor...  "
      ],
      "text/html": "<div>\n<style scoped>\n    .dataframe tbody tr th:only-of-type {\n        vertical-align: middle;\n    }\n\n    .dataframe tbody tr th {\n        vertical-align: top;\n    }\n\n    .dataframe thead th {\n        text-align: right;\n    }\n</style>\n<table border=\"1\" class=\"dataframe\">\n  <thead>\n    <tr style=\"text-align: right;\">\n      <th></th>\n      <th>c1</th>\n      <th>c2</th>\n      <th>c3</th>\n      <th>c4</th>\n      <th>c5</th>\n      <th>c6</th>\n    </tr>\n  </thead>\n  <tbody>\n    <tr>\n      <th>0</th>\n      <td>https:</td>\n      <td>www.amazon.com</td>\n      <td>gp</td>\n      <td>slredirect</td>\n      <td>picassoRedirect.html</td>\n      <td>ref=pa_sp_atf_electronics-intl-ship_sr_pg1_1?i...</td>\n    </tr>\n    <tr>\n      <th>1</th>\n      <td>https:</td>\n      <td>www.amazon.com</td>\n      <td>gp</td>\n      <td>slredirect</td>\n      <td>picassoRedirect.html</td>\n      <td>ref=pa_sp_atf_electronics-intl-ship_sr_pg1_1?i...</td>\n    </tr>\n    <tr>\n      <th>2</th>\n      <td>https:</td>\n      <td>www.amazon.com</td>\n      <td>Samsung-Unlocked-Smartphone-Long-Lasting-Infinity</td>\n      <td>dp</td>\n      <td>B08DHG8SBB</td>\n      <td>ref=sr_1_3?crid=17OSYBMPPLBAI&amp;dchild=1&amp;keyword...</td>\n    </tr>\n    <tr>\n      <th>3</th>\n      <td>https:</td>\n      <td>www.amazon.com</td>\n      <td>OUKITEL-WP8-Pro-Smartphone-Fingerprint</td>\n      <td>dp</td>\n      <td>B08HRJM99F</td>\n      <td>ref=sr_1_4?crid=17OSYBMPPLBAI&amp;dchild=1&amp;keyword...</td>\n    </tr>\n    <tr>\n      <th>4</th>\n      <td>https:</td>\n      <td>www.amazon.com</td>\n      <td>Samsung-Factory-Unlocked-Smartphone-Pro-Grade</td>\n      <td>dp</td>\n      <td>B08FYTSXGQ</td>\n      <td>ref=sr_1_5?crid=17OSYBMPPLBAI&amp;dchild=1&amp;keyword...</td>\n    </tr>\n    <tr>\n      <th>5</th>\n      <td>https:</td>\n      <td>www.amazon.com</td>\n      <td>BLU-G90-Pro-Gaming-Smartphone</td>\n      <td>dp</td>\n      <td>B08C6XBCRT</td>\n      <td>ref=sr_1_6?crid=17OSYBMPPLBAI&amp;dchild=1&amp;keyword...</td>\n    </tr>\n    <tr>\n      <th>6</th>\n      <td>https:</td>\n      <td>www.amazon.com</td>\n      <td>gp</td>\n      <td>slredirect</td>\n      <td>picassoRedirect.html</td>\n      <td>ref=pa_sp_mtf_electronics-intl-ship_sr_pg1_1?i...</td>\n    </tr>\n    <tr>\n      <th>7</th>\n      <td>https:</td>\n      <td>www.amazon.com</td>\n      <td>DJI-OM-Handheld-Smartphone-Stabilizer</td>\n      <td>dp</td>\n      <td>B08CMVGVQY</td>\n      <td>ref=sr_1_8?crid=17OSYBMPPLBAI&amp;dchild=1&amp;keyword...</td>\n    </tr>\n    <tr>\n      <th>8</th>\n      <td>https:</td>\n      <td>www.amazon.com</td>\n      <td>TCL-Unlocked-Android-Smartphone-Display</td>\n      <td>dp</td>\n      <td>B087LY84RT</td>\n      <td>ref=sr_1_9?crid=17OSYBMPPLBAI&amp;dchild=1&amp;keyword...</td>\n    </tr>\n    <tr>\n      <th>9</th>\n      <td>https:</td>\n      <td>www.amazon.com</td>\n      <td>Motorola-XT2041-1-Unlocked-Android-Smartphone</td>\n      <td>dp</td>\n      <td>B087MZ1GZB</td>\n      <td>ref=sr_1_10?crid=17OSYBMPPLBAI&amp;dchild=1&amp;keywor...</td>\n    </tr>\n  </tbody>\n</table>\n</div>"
     },
     "metadata": {},
     "execution_count": 491
    }
   ],
   "source": [
    "#Splitting column 'URL' in different columns in order to fetch the Unique number known as ASIN for Amazon\n",
    "cols = ['c1', 'c2', 'c3', 'c4','c5','c6']\n",
    "make_me = []\n",
    "for url in urls:\n",
    "    lst = url.split(\"/\")\n",
    "    # your business rules go here\n",
    "    make_me.append([x for x in lst if not x.isdigit() and not x == \"\"])\n",
    "    \n",
    "\n",
    "df8 = pd.DataFrame(make_me, columns=cols)\n",
    "df8.head(10)"
   ]
  },
  {
   "cell_type": "code",
   "execution_count": 492,
   "metadata": {},
   "outputs": [
    {
     "output_type": "execute_result",
     "data": {
      "text/plain": [
       "0    picassoRedirect.html\n",
       "1    picassoRedirect.html\n",
       "2              B08DHG8SBB\n",
       "3              B08HRJM99F\n",
       "4              B08FYTSXGQ\n",
       "Name: c5, dtype: object"
      ]
     },
     "metadata": {},
     "execution_count": 492
    }
   ],
   "source": [
    "#Picking only ASIN column value\n",
    "abc = df8['c5']\n",
    "abc.head()"
   ]
  },
  {
   "cell_type": "code",
   "execution_count": 493,
   "metadata": {},
   "outputs": [
    {
     "output_type": "execute_result",
     "data": {
      "text/plain": [
       "0    ref=pa_sp_atf_electronics-intl-ship_sr_pg1_1?i...\n",
       "1    ref=pa_sp_atf_electronics-intl-ship_sr_pg1_1?i...\n",
       "2    ref=sr_1_3?crid=17OSYBMPPLBAI&dchild=1&keyword...\n",
       "3    ref=sr_1_4?crid=17OSYBMPPLBAI&dchild=1&keyword...\n",
       "4    ref=sr_1_5?crid=17OSYBMPPLBAI&dchild=1&keyword...\n",
       "Name: c6, dtype: object"
      ]
     },
     "metadata": {},
     "execution_count": 493
    }
   ],
   "source": [
    "df2 = df8['c6']\n",
    "df2.head()"
   ]
  },
  {
   "cell_type": "code",
   "execution_count": 494,
   "metadata": {},
   "outputs": [
    {
     "output_type": "execute_result",
     "data": {
      "text/plain": [
       "                                                     c1  \\\n",
       "0     https://www.amazon.com/gp/slredirect/picassoRe...   \n",
       "1     https://www.amazon.com/gp/slredirect/picassoRe...   \n",
       "2     https://www.amazon.com/Samsung-Unlocked-Smartp...   \n",
       "3     https://www.amazon.com/OUKITEL-WP8-Pro-Smartph...   \n",
       "4     https://www.amazon.com/Samsung-Factory-Unlocke...   \n",
       "...                                                 ...   \n",
       "5789  https://www.amazon.com/Sevenoak-SK-R01-Shoulde...   \n",
       "5790  https://www.amazon.com/Rechargeable-Selfie-Cam...   \n",
       "5791  https://www.amazon.com/PAKPOD-BUNDLE-Mirrorles...   \n",
       "5792  https://www.amazon.com/Display-Compatible-Smar...   \n",
       "5793  https://www.amazon.com/gp/slredirect/picassoRe...   \n",
       "\n",
       "                                             c2              c3           d4  \\\n",
       "0     FSimple-Mobile-Samsung-Prepaid-Smartphone             Fdp  FB088N774B7   \n",
       "1     FSimple-Mobile-Samsung-Prepaid-Smartphone             Fdp  FB07Y5V9CSW   \n",
       "2                        Celectronics-intl-ship     C250&sr=1-3         None   \n",
       "3                        Celectronics-intl-ship     C250&sr=1-4         None   \n",
       "4                        Celectronics-intl-ship     C250&sr=1-5         None   \n",
       "...                                         ...             ...          ...   \n",
       "5789                     Celectronics-intl-ship  C250&sr=1-4429         None   \n",
       "5790                     Celectronics-intl-ship  C250&sr=1-4430         None   \n",
       "5791                     Celectronics-intl-ship  C250&sr=1-4431         None   \n",
       "5792                     Celectronics-intl-ship  C250&sr=1-4432         None   \n",
       "5793    FTracfone-TCL-Prepaid-Smartphone-Locked             Fdp  FB07Y5V385Y   \n",
       "\n",
       "                                                c5           c6  \\\n",
       "0        Fref%3Dsr_1_1_sspa%3Fcrid%3D17OSYBMPPLBAI  6dchild%3D1   \n",
       "1        Fref%3Dsr_1_2_sspa%3Fcrid%3D17OSYBMPPLBAI  6dchild%3D1   \n",
       "2                                             None         None   \n",
       "3                                             None         None   \n",
       "4                                             None         None   \n",
       "...                                            ...          ...   \n",
       "5789                                          None         None   \n",
       "5790                                          None         None   \n",
       "5791                                          None         None   \n",
       "5792                                          None         None   \n",
       "5793  Fref%3Dsr_1_4433_sspa%3Fcrid%3D17OSYBMPPLBAI  6dchild%3D1   \n",
       "\n",
       "                          c7                 c8                c9  \\\n",
       "0     6keywords%3Dsmartphone  6qid%3D1611430937  6s%3Delectronics   \n",
       "1     6keywords%3Dsmartphone  6qid%3D1611430937  6s%3Delectronics   \n",
       "2                       None               None              None   \n",
       "3                       None               None              None   \n",
       "4                       None               None              None   \n",
       "...                      ...                ...               ...   \n",
       "5789                    None               None              None   \n",
       "5790                    None               None              None   \n",
       "5791                    None               None              None   \n",
       "5792                    None               None              None   \n",
       "5793  6keywords%3Dsmartphone  6qid%3D1611056237  6s%3Delectronics   \n",
       "\n",
       "                   c10                       c11     c12                 c13  \\\n",
       "0     6sprefix%3Dsmart  52Celectronics-intl-ship  52C250     6sr%3D1-1-spons   \n",
       "1     6sprefix%3Dsmart  52Celectronics-intl-ship  52C250     6sr%3D1-2-spons   \n",
       "2                 None                      None    None                None   \n",
       "3                 None                      None    None                None   \n",
       "4                 None                      None    None                None   \n",
       "...                ...                       ...     ...                 ...   \n",
       "5789              None                      None    None                None   \n",
       "5790              None                      None    None                None   \n",
       "5791              None                      None    None                None   \n",
       "5792              None                      None    None                None   \n",
       "5793  6sprefix%3Dsmart  52Celectronics-intl-ship  52C250  6sr%3D1-4433-spons   \n",
       "\n",
       "                                                    c14   c15  \n",
       "0     6psc%3D1&qualifier=1611430937&id=8516783865991...  None  \n",
       "1     6psc%3D1&qualifier=1611430937&id=8516783865991...  None  \n",
       "2                                                  None  None  \n",
       "3                                                  None  None  \n",
       "4                                                  None  None  \n",
       "...                                                 ...   ...  \n",
       "5789                                               None  None  \n",
       "5790                                               None  None  \n",
       "5791                                               None  None  \n",
       "5792                                               None  None  \n",
       "5793  6psc%3D1&qualifier=1611431381&id=2472638034998...  None  \n",
       "\n",
       "[5794 rows x 15 columns]"
      ],
      "text/html": "<div>\n<style scoped>\n    .dataframe tbody tr th:only-of-type {\n        vertical-align: middle;\n    }\n\n    .dataframe tbody tr th {\n        vertical-align: top;\n    }\n\n    .dataframe thead th {\n        text-align: right;\n    }\n</style>\n<table border=\"1\" class=\"dataframe\">\n  <thead>\n    <tr style=\"text-align: right;\">\n      <th></th>\n      <th>c1</th>\n      <th>c2</th>\n      <th>c3</th>\n      <th>d4</th>\n      <th>c5</th>\n      <th>c6</th>\n      <th>c7</th>\n      <th>c8</th>\n      <th>c9</th>\n      <th>c10</th>\n      <th>c11</th>\n      <th>c12</th>\n      <th>c13</th>\n      <th>c14</th>\n      <th>c15</th>\n    </tr>\n  </thead>\n  <tbody>\n    <tr>\n      <th>0</th>\n      <td>https://www.amazon.com/gp/slredirect/picassoRe...</td>\n      <td>FSimple-Mobile-Samsung-Prepaid-Smartphone</td>\n      <td>Fdp</td>\n      <td>FB088N774B7</td>\n      <td>Fref%3Dsr_1_1_sspa%3Fcrid%3D17OSYBMPPLBAI</td>\n      <td>6dchild%3D1</td>\n      <td>6keywords%3Dsmartphone</td>\n      <td>6qid%3D1611430937</td>\n      <td>6s%3Delectronics</td>\n      <td>6sprefix%3Dsmart</td>\n      <td>52Celectronics-intl-ship</td>\n      <td>52C250</td>\n      <td>6sr%3D1-1-spons</td>\n      <td>6psc%3D1&amp;qualifier=1611430937&amp;id=8516783865991...</td>\n      <td>None</td>\n    </tr>\n    <tr>\n      <th>1</th>\n      <td>https://www.amazon.com/gp/slredirect/picassoRe...</td>\n      <td>FSimple-Mobile-Samsung-Prepaid-Smartphone</td>\n      <td>Fdp</td>\n      <td>FB07Y5V9CSW</td>\n      <td>Fref%3Dsr_1_2_sspa%3Fcrid%3D17OSYBMPPLBAI</td>\n      <td>6dchild%3D1</td>\n      <td>6keywords%3Dsmartphone</td>\n      <td>6qid%3D1611430937</td>\n      <td>6s%3Delectronics</td>\n      <td>6sprefix%3Dsmart</td>\n      <td>52Celectronics-intl-ship</td>\n      <td>52C250</td>\n      <td>6sr%3D1-2-spons</td>\n      <td>6psc%3D1&amp;qualifier=1611430937&amp;id=8516783865991...</td>\n      <td>None</td>\n    </tr>\n    <tr>\n      <th>2</th>\n      <td>https://www.amazon.com/Samsung-Unlocked-Smartp...</td>\n      <td>Celectronics-intl-ship</td>\n      <td>C250&amp;sr=1-3</td>\n      <td>None</td>\n      <td>None</td>\n      <td>None</td>\n      <td>None</td>\n      <td>None</td>\n      <td>None</td>\n      <td>None</td>\n      <td>None</td>\n      <td>None</td>\n      <td>None</td>\n      <td>None</td>\n      <td>None</td>\n    </tr>\n    <tr>\n      <th>3</th>\n      <td>https://www.amazon.com/OUKITEL-WP8-Pro-Smartph...</td>\n      <td>Celectronics-intl-ship</td>\n      <td>C250&amp;sr=1-4</td>\n      <td>None</td>\n      <td>None</td>\n      <td>None</td>\n      <td>None</td>\n      <td>None</td>\n      <td>None</td>\n      <td>None</td>\n      <td>None</td>\n      <td>None</td>\n      <td>None</td>\n      <td>None</td>\n      <td>None</td>\n    </tr>\n    <tr>\n      <th>4</th>\n      <td>https://www.amazon.com/Samsung-Factory-Unlocke...</td>\n      <td>Celectronics-intl-ship</td>\n      <td>C250&amp;sr=1-5</td>\n      <td>None</td>\n      <td>None</td>\n      <td>None</td>\n      <td>None</td>\n      <td>None</td>\n      <td>None</td>\n      <td>None</td>\n      <td>None</td>\n      <td>None</td>\n      <td>None</td>\n      <td>None</td>\n      <td>None</td>\n    </tr>\n    <tr>\n      <th>...</th>\n      <td>...</td>\n      <td>...</td>\n      <td>...</td>\n      <td>...</td>\n      <td>...</td>\n      <td>...</td>\n      <td>...</td>\n      <td>...</td>\n      <td>...</td>\n      <td>...</td>\n      <td>...</td>\n      <td>...</td>\n      <td>...</td>\n      <td>...</td>\n      <td>...</td>\n    </tr>\n    <tr>\n      <th>5789</th>\n      <td>https://www.amazon.com/Sevenoak-SK-R01-Shoulde...</td>\n      <td>Celectronics-intl-ship</td>\n      <td>C250&amp;sr=1-4429</td>\n      <td>None</td>\n      <td>None</td>\n      <td>None</td>\n      <td>None</td>\n      <td>None</td>\n      <td>None</td>\n      <td>None</td>\n      <td>None</td>\n      <td>None</td>\n      <td>None</td>\n      <td>None</td>\n      <td>None</td>\n    </tr>\n    <tr>\n      <th>5790</th>\n      <td>https://www.amazon.com/Rechargeable-Selfie-Cam...</td>\n      <td>Celectronics-intl-ship</td>\n      <td>C250&amp;sr=1-4430</td>\n      <td>None</td>\n      <td>None</td>\n      <td>None</td>\n      <td>None</td>\n      <td>None</td>\n      <td>None</td>\n      <td>None</td>\n      <td>None</td>\n      <td>None</td>\n      <td>None</td>\n      <td>None</td>\n      <td>None</td>\n    </tr>\n    <tr>\n      <th>5791</th>\n      <td>https://www.amazon.com/PAKPOD-BUNDLE-Mirrorles...</td>\n      <td>Celectronics-intl-ship</td>\n      <td>C250&amp;sr=1-4431</td>\n      <td>None</td>\n      <td>None</td>\n      <td>None</td>\n      <td>None</td>\n      <td>None</td>\n      <td>None</td>\n      <td>None</td>\n      <td>None</td>\n      <td>None</td>\n      <td>None</td>\n      <td>None</td>\n      <td>None</td>\n    </tr>\n    <tr>\n      <th>5792</th>\n      <td>https://www.amazon.com/Display-Compatible-Smar...</td>\n      <td>Celectronics-intl-ship</td>\n      <td>C250&amp;sr=1-4432</td>\n      <td>None</td>\n      <td>None</td>\n      <td>None</td>\n      <td>None</td>\n      <td>None</td>\n      <td>None</td>\n      <td>None</td>\n      <td>None</td>\n      <td>None</td>\n      <td>None</td>\n      <td>None</td>\n      <td>None</td>\n    </tr>\n    <tr>\n      <th>5793</th>\n      <td>https://www.amazon.com/gp/slredirect/picassoRe...</td>\n      <td>FTracfone-TCL-Prepaid-Smartphone-Locked</td>\n      <td>Fdp</td>\n      <td>FB07Y5V385Y</td>\n      <td>Fref%3Dsr_1_4433_sspa%3Fcrid%3D17OSYBMPPLBAI</td>\n      <td>6dchild%3D1</td>\n      <td>6keywords%3Dsmartphone</td>\n      <td>6qid%3D1611056237</td>\n      <td>6s%3Delectronics</td>\n      <td>6sprefix%3Dsmart</td>\n      <td>52Celectronics-intl-ship</td>\n      <td>52C250</td>\n      <td>6sr%3D1-4433-spons</td>\n      <td>6psc%3D1&amp;qualifier=1611431381&amp;id=2472638034998...</td>\n      <td>None</td>\n    </tr>\n  </tbody>\n</table>\n<p>5794 rows × 15 columns</p>\n</div>"
     },
     "metadata": {},
     "execution_count": 494
    }
   ],
   "source": [
    "cols = ['c1','c2','c3','d4','c5','c6','c7','c8','c9','c10','c11','c12','c13','c14', 'c15']\n",
    "make_me = []\n",
    "for url in urls:\n",
    "    lst = url.split(\"%2\")\n",
    "    # your business rules go here\n",
    "    make_me.append([x for x in lst if not x.isdigit() and not x == \"\"])\n",
    "    \n",
    "\n",
    "df4 = pd.DataFrame(make_me, columns=cols)\n",
    "df4"
   ]
  },
  {
   "cell_type": "code",
   "execution_count": 495,
   "metadata": {},
   "outputs": [
    {
     "output_type": "execute_result",
     "data": {
      "text/plain": [
       "0       FB088N774B7\n",
       "1       FB07Y5V9CSW\n",
       "2              None\n",
       "3              None\n",
       "4              None\n",
       "           ...     \n",
       "5789           None\n",
       "5790           None\n",
       "5791           None\n",
       "5792           None\n",
       "5793    FB07Y5V385Y\n",
       "Name: d4, Length: 5794, dtype: object"
      ]
     },
     "metadata": {},
     "execution_count": 495
    }
   ],
   "source": [
    "abcd = df4['d4']\n",
    "abcd"
   ]
  },
  {
   "cell_type": "code",
   "execution_count": 496,
   "metadata": {},
   "outputs": [
    {
     "output_type": "execute_result",
     "data": {
      "text/plain": [
       "               d4\n",
       "0     FB088N774B7\n",
       "1     FB07Y5V9CSW\n",
       "2            None\n",
       "3            None\n",
       "4            None\n",
       "...           ...\n",
       "5789         None\n",
       "5790         None\n",
       "5791         None\n",
       "5792         None\n",
       "5793  FB07Y5V385Y\n",
       "\n",
       "[5794 rows x 1 columns]"
      ],
      "text/html": "<div>\n<style scoped>\n    .dataframe tbody tr th:only-of-type {\n        vertical-align: middle;\n    }\n\n    .dataframe tbody tr th {\n        vertical-align: top;\n    }\n\n    .dataframe thead th {\n        text-align: right;\n    }\n</style>\n<table border=\"1\" class=\"dataframe\">\n  <thead>\n    <tr style=\"text-align: right;\">\n      <th></th>\n      <th>d4</th>\n    </tr>\n  </thead>\n  <tbody>\n    <tr>\n      <th>0</th>\n      <td>FB088N774B7</td>\n    </tr>\n    <tr>\n      <th>1</th>\n      <td>FB07Y5V9CSW</td>\n    </tr>\n    <tr>\n      <th>2</th>\n      <td>None</td>\n    </tr>\n    <tr>\n      <th>3</th>\n      <td>None</td>\n    </tr>\n    <tr>\n      <th>4</th>\n      <td>None</td>\n    </tr>\n    <tr>\n      <th>...</th>\n      <td>...</td>\n    </tr>\n    <tr>\n      <th>5789</th>\n      <td>None</td>\n    </tr>\n    <tr>\n      <th>5790</th>\n      <td>None</td>\n    </tr>\n    <tr>\n      <th>5791</th>\n      <td>None</td>\n    </tr>\n    <tr>\n      <th>5792</th>\n      <td>None</td>\n    </tr>\n    <tr>\n      <th>5793</th>\n      <td>FB07Y5V385Y</td>\n    </tr>\n  </tbody>\n</table>\n<p>5794 rows × 1 columns</p>\n</div>"
     },
     "metadata": {},
     "execution_count": 496
    }
   ],
   "source": [
    "pd.DataFrame(abcd)"
   ]
  },
  {
   "cell_type": "code",
   "execution_count": 497,
   "metadata": {},
   "outputs": [
    {
     "output_type": "execute_result",
     "data": {
      "text/plain": [
       "                        c5           d4\n",
       "0     picassoRedirect.html  FB088N774B7\n",
       "1     picassoRedirect.html  FB07Y5V9CSW\n",
       "2               B08DHG8SBB         None\n",
       "3               B08HRJM99F         None\n",
       "4               B08FYTSXGQ         None\n",
       "...                    ...          ...\n",
       "5789            B0079X63BQ         None\n",
       "5790            B088Z5FPMB         None\n",
       "5791            B01M8NUQWK         None\n",
       "5792            B07BGYRFYP         None\n",
       "5793  picassoRedirect.html  FB07Y5V385Y\n",
       "\n",
       "[5794 rows x 2 columns]"
      ],
      "text/html": "<div>\n<style scoped>\n    .dataframe tbody tr th:only-of-type {\n        vertical-align: middle;\n    }\n\n    .dataframe tbody tr th {\n        vertical-align: top;\n    }\n\n    .dataframe thead th {\n        text-align: right;\n    }\n</style>\n<table border=\"1\" class=\"dataframe\">\n  <thead>\n    <tr style=\"text-align: right;\">\n      <th></th>\n      <th>c5</th>\n      <th>d4</th>\n    </tr>\n  </thead>\n  <tbody>\n    <tr>\n      <th>0</th>\n      <td>picassoRedirect.html</td>\n      <td>FB088N774B7</td>\n    </tr>\n    <tr>\n      <th>1</th>\n      <td>picassoRedirect.html</td>\n      <td>FB07Y5V9CSW</td>\n    </tr>\n    <tr>\n      <th>2</th>\n      <td>B08DHG8SBB</td>\n      <td>None</td>\n    </tr>\n    <tr>\n      <th>3</th>\n      <td>B08HRJM99F</td>\n      <td>None</td>\n    </tr>\n    <tr>\n      <th>4</th>\n      <td>B08FYTSXGQ</td>\n      <td>None</td>\n    </tr>\n    <tr>\n      <th>...</th>\n      <td>...</td>\n      <td>...</td>\n    </tr>\n    <tr>\n      <th>5789</th>\n      <td>B0079X63BQ</td>\n      <td>None</td>\n    </tr>\n    <tr>\n      <th>5790</th>\n      <td>B088Z5FPMB</td>\n      <td>None</td>\n    </tr>\n    <tr>\n      <th>5791</th>\n      <td>B01M8NUQWK</td>\n      <td>None</td>\n    </tr>\n    <tr>\n      <th>5792</th>\n      <td>B07BGYRFYP</td>\n      <td>None</td>\n    </tr>\n    <tr>\n      <th>5793</th>\n      <td>picassoRedirect.html</td>\n      <td>FB07Y5V385Y</td>\n    </tr>\n  </tbody>\n</table>\n<p>5794 rows × 2 columns</p>\n</div>"
     },
     "metadata": {},
     "execution_count": 497
    }
   ],
   "source": [
    "#Merging 2 datasets in order t fetch all ASIN numbers\n",
    "abcde = pd.concat([abc, abcd], axis=1)\n",
    "abcde"
   ]
  },
  {
   "cell_type": "code",
   "execution_count": 498,
   "metadata": {},
   "outputs": [
    {
     "output_type": "execute_result",
     "data": {
      "text/plain": [
       "                        c5          d4\n",
       "0     picassoRedirect.html  B088N774B7\n",
       "1     picassoRedirect.html  B07Y5V9CSW\n",
       "2               B08DHG8SBB        None\n",
       "3               B08HRJM99F        None\n",
       "4               B08FYTSXGQ        None\n",
       "...                    ...         ...\n",
       "5789            B0079X63BQ        None\n",
       "5790            B088Z5FPMB        None\n",
       "5791            B01M8NUQWK        None\n",
       "5792            B07BGYRFYP        None\n",
       "5793  picassoRedirect.html  B07Y5V385Y\n",
       "\n",
       "[5794 rows x 2 columns]"
      ],
      "text/html": "<div>\n<style scoped>\n    .dataframe tbody tr th:only-of-type {\n        vertical-align: middle;\n    }\n\n    .dataframe tbody tr th {\n        vertical-align: top;\n    }\n\n    .dataframe thead th {\n        text-align: right;\n    }\n</style>\n<table border=\"1\" class=\"dataframe\">\n  <thead>\n    <tr style=\"text-align: right;\">\n      <th></th>\n      <th>c5</th>\n      <th>d4</th>\n    </tr>\n  </thead>\n  <tbody>\n    <tr>\n      <th>0</th>\n      <td>picassoRedirect.html</td>\n      <td>B088N774B7</td>\n    </tr>\n    <tr>\n      <th>1</th>\n      <td>picassoRedirect.html</td>\n      <td>B07Y5V9CSW</td>\n    </tr>\n    <tr>\n      <th>2</th>\n      <td>B08DHG8SBB</td>\n      <td>None</td>\n    </tr>\n    <tr>\n      <th>3</th>\n      <td>B08HRJM99F</td>\n      <td>None</td>\n    </tr>\n    <tr>\n      <th>4</th>\n      <td>B08FYTSXGQ</td>\n      <td>None</td>\n    </tr>\n    <tr>\n      <th>...</th>\n      <td>...</td>\n      <td>...</td>\n    </tr>\n    <tr>\n      <th>5789</th>\n      <td>B0079X63BQ</td>\n      <td>None</td>\n    </tr>\n    <tr>\n      <th>5790</th>\n      <td>B088Z5FPMB</td>\n      <td>None</td>\n    </tr>\n    <tr>\n      <th>5791</th>\n      <td>B01M8NUQWK</td>\n      <td>None</td>\n    </tr>\n    <tr>\n      <th>5792</th>\n      <td>B07BGYRFYP</td>\n      <td>None</td>\n    </tr>\n    <tr>\n      <th>5793</th>\n      <td>picassoRedirect.html</td>\n      <td>B07Y5V385Y</td>\n    </tr>\n  </tbody>\n</table>\n<p>5794 rows × 2 columns</p>\n</div>"
     },
     "metadata": {},
     "execution_count": 498
    }
   ],
   "source": [
    "abcde['d4'] = abcde['d4'].str[1:]\n",
    "abcde"
   ]
  },
  {
   "cell_type": "code",
   "execution_count": 499,
   "metadata": {},
   "outputs": [
    {
     "output_type": "execute_result",
     "data": {
      "text/plain": [
       "              c5          d4\n",
       "0     B088N774B7  B088N774B7\n",
       "1     B07Y5V9CSW  B07Y5V9CSW\n",
       "2     B08DHG8SBB        None\n",
       "3     B08HRJM99F        None\n",
       "4     B08FYTSXGQ        None\n",
       "...          ...         ...\n",
       "5789  B0079X63BQ        None\n",
       "5790  B088Z5FPMB        None\n",
       "5791  B01M8NUQWK        None\n",
       "5792  B07BGYRFYP        None\n",
       "5793  B07Y5V385Y  B07Y5V385Y\n",
       "\n",
       "[5794 rows x 2 columns]"
      ],
      "text/html": "<div>\n<style scoped>\n    .dataframe tbody tr th:only-of-type {\n        vertical-align: middle;\n    }\n\n    .dataframe tbody tr th {\n        vertical-align: top;\n    }\n\n    .dataframe thead th {\n        text-align: right;\n    }\n</style>\n<table border=\"1\" class=\"dataframe\">\n  <thead>\n    <tr style=\"text-align: right;\">\n      <th></th>\n      <th>c5</th>\n      <th>d4</th>\n    </tr>\n  </thead>\n  <tbody>\n    <tr>\n      <th>0</th>\n      <td>B088N774B7</td>\n      <td>B088N774B7</td>\n    </tr>\n    <tr>\n      <th>1</th>\n      <td>B07Y5V9CSW</td>\n      <td>B07Y5V9CSW</td>\n    </tr>\n    <tr>\n      <th>2</th>\n      <td>B08DHG8SBB</td>\n      <td>None</td>\n    </tr>\n    <tr>\n      <th>3</th>\n      <td>B08HRJM99F</td>\n      <td>None</td>\n    </tr>\n    <tr>\n      <th>4</th>\n      <td>B08FYTSXGQ</td>\n      <td>None</td>\n    </tr>\n    <tr>\n      <th>...</th>\n      <td>...</td>\n      <td>...</td>\n    </tr>\n    <tr>\n      <th>5789</th>\n      <td>B0079X63BQ</td>\n      <td>None</td>\n    </tr>\n    <tr>\n      <th>5790</th>\n      <td>B088Z5FPMB</td>\n      <td>None</td>\n    </tr>\n    <tr>\n      <th>5791</th>\n      <td>B01M8NUQWK</td>\n      <td>None</td>\n    </tr>\n    <tr>\n      <th>5792</th>\n      <td>B07BGYRFYP</td>\n      <td>None</td>\n    </tr>\n    <tr>\n      <th>5793</th>\n      <td>B07Y5V385Y</td>\n      <td>B07Y5V385Y</td>\n    </tr>\n  </tbody>\n</table>\n<p>5794 rows × 2 columns</p>\n</div>"
     },
     "metadata": {},
     "execution_count": 499
    }
   ],
   "source": [
    "abcde['c5'] = np.where(abcde['c5'] == 'picassoRedirect.html', abcde['d4'], abcde['c5'])\n",
    "abcde"
   ]
  },
  {
   "cell_type": "code",
   "execution_count": 500,
   "metadata": {},
   "outputs": [
    {
     "output_type": "execute_result",
     "data": {
      "text/plain": [
       "              c5\n",
       "0     B088N774B7\n",
       "1     B07Y5V9CSW\n",
       "2     B08DHG8SBB\n",
       "3     B08HRJM99F\n",
       "4     B08FYTSXGQ\n",
       "...          ...\n",
       "5789  B0079X63BQ\n",
       "5790  B088Z5FPMB\n",
       "5791  B01M8NUQWK\n",
       "5792  B07BGYRFYP\n",
       "5793  B07Y5V385Y\n",
       "\n",
       "[5794 rows x 1 columns]"
      ],
      "text/html": "<div>\n<style scoped>\n    .dataframe tbody tr th:only-of-type {\n        vertical-align: middle;\n    }\n\n    .dataframe tbody tr th {\n        vertical-align: top;\n    }\n\n    .dataframe thead th {\n        text-align: right;\n    }\n</style>\n<table border=\"1\" class=\"dataframe\">\n  <thead>\n    <tr style=\"text-align: right;\">\n      <th></th>\n      <th>c5</th>\n    </tr>\n  </thead>\n  <tbody>\n    <tr>\n      <th>0</th>\n      <td>B088N774B7</td>\n    </tr>\n    <tr>\n      <th>1</th>\n      <td>B07Y5V9CSW</td>\n    </tr>\n    <tr>\n      <th>2</th>\n      <td>B08DHG8SBB</td>\n    </tr>\n    <tr>\n      <th>3</th>\n      <td>B08HRJM99F</td>\n    </tr>\n    <tr>\n      <th>4</th>\n      <td>B08FYTSXGQ</td>\n    </tr>\n    <tr>\n      <th>...</th>\n      <td>...</td>\n    </tr>\n    <tr>\n      <th>5789</th>\n      <td>B0079X63BQ</td>\n    </tr>\n    <tr>\n      <th>5790</th>\n      <td>B088Z5FPMB</td>\n    </tr>\n    <tr>\n      <th>5791</th>\n      <td>B01M8NUQWK</td>\n    </tr>\n    <tr>\n      <th>5792</th>\n      <td>B07BGYRFYP</td>\n    </tr>\n    <tr>\n      <th>5793</th>\n      <td>B07Y5V385Y</td>\n    </tr>\n  </tbody>\n</table>\n<p>5794 rows × 1 columns</p>\n</div>"
     },
     "metadata": {},
     "execution_count": 500
    }
   ],
   "source": [
    "#Here is the new column with all ASIN(Unque number attached to every product)\n",
    "new_f1 = abcde.drop(['d4',], axis=1)\n",
    "new_f1"
   ]
  },
  {
   "cell_type": "code",
   "execution_count": 501,
   "metadata": {},
   "outputs": [
    {
     "output_type": "execute_result",
     "data": {
      "text/plain": [
       "                                                  title  \\\n",
       "0     Simple Mobile Samsung Galaxy A01 4G LTE Prepai...   \n",
       "1     Simple Mobile Samsung Galaxy A20 4G LTE Prepai...   \n",
       "2     Samsung Galaxy A21 Factory Unlocked Android Ce...   \n",
       "3     OUKITEL WP8 Pro (2020) Rugged Smartphone, 6.49...   \n",
       "4     Samsung Galaxy S20 FE 5G | Factory Unlocked An...   \n",
       "...                                                 ...   \n",
       "5789  Handheld Stabilizer & Video Led Lights & Remot...   \n",
       "5790  Rechargeable Selfie Camera Ring Light - Portab...   \n",
       "5791  PAKPOD Bundle - Packable Tripod for Mirrorless...   \n",
       "5792  Swark OLED Display Compatible with Google Pixe...   \n",
       "5793  Tracfone TCL A1X 4G LTE Prepaid Smartphone (Lo...   \n",
       "\n",
       "                                                    url  rating  review_count  \\\n",
       "0     https://www.amazon.com/gp/slredirect/picassoRe...     4.3           372   \n",
       "1     https://www.amazon.com/gp/slredirect/picassoRe...     4.4            30   \n",
       "2     https://www.amazon.com/Samsung-Unlocked-Smartp...     4.4           659   \n",
       "3     https://www.amazon.com/OUKITEL-WP8-Pro-Smartph...     4.4           271   \n",
       "4     https://www.amazon.com/Samsung-Factory-Unlocke...     4.6          2265   \n",
       "...                                                 ...     ...           ...   \n",
       "5789  https://www.amazon.com/Sevenoak-SK-R01-Shoulde...     4.1            37   \n",
       "5790  https://www.amazon.com/Rechargeable-Selfie-Cam...     4.1            34   \n",
       "5791  https://www.amazon.com/PAKPOD-BUNDLE-Mirrorles...     5.0             3   \n",
       "5792  https://www.amazon.com/Display-Compatible-Smar...     3.8            22   \n",
       "5793  https://www.amazon.com/gp/slredirect/picassoRe...     4.1            62   \n",
       "\n",
       "       price product_type          c5  \n",
       "0      53.39   smartphone  B088N774B7  \n",
       "1     144.66   smartphone  B07Y5V9CSW  \n",
       "2      99.00   smartphone  B08DHG8SBB  \n",
       "3     189.99   smartphone  B08HRJM99F  \n",
       "4     599.99   smartphone  B08FYTSXGQ  \n",
       "...      ...          ...         ...  \n",
       "5789   54.99   smartphone  B0079X63BQ  \n",
       "5790    7.99   smartphone  B088Z5FPMB  \n",
       "5791   99.00   smartphone  B01M8NUQWK  \n",
       "5792  188.00   smartphone  B07BGYRFYP  \n",
       "5793   59.99   smartphone  B07Y5V385Y  \n",
       "\n",
       "[5794 rows x 7 columns]"
      ],
      "text/html": "<div>\n<style scoped>\n    .dataframe tbody tr th:only-of-type {\n        vertical-align: middle;\n    }\n\n    .dataframe tbody tr th {\n        vertical-align: top;\n    }\n\n    .dataframe thead th {\n        text-align: right;\n    }\n</style>\n<table border=\"1\" class=\"dataframe\">\n  <thead>\n    <tr style=\"text-align: right;\">\n      <th></th>\n      <th>title</th>\n      <th>url</th>\n      <th>rating</th>\n      <th>review_count</th>\n      <th>price</th>\n      <th>product_type</th>\n      <th>c5</th>\n    </tr>\n  </thead>\n  <tbody>\n    <tr>\n      <th>0</th>\n      <td>Simple Mobile Samsung Galaxy A01 4G LTE Prepai...</td>\n      <td>https://www.amazon.com/gp/slredirect/picassoRe...</td>\n      <td>4.3</td>\n      <td>372</td>\n      <td>53.39</td>\n      <td>smartphone</td>\n      <td>B088N774B7</td>\n    </tr>\n    <tr>\n      <th>1</th>\n      <td>Simple Mobile Samsung Galaxy A20 4G LTE Prepai...</td>\n      <td>https://www.amazon.com/gp/slredirect/picassoRe...</td>\n      <td>4.4</td>\n      <td>30</td>\n      <td>144.66</td>\n      <td>smartphone</td>\n      <td>B07Y5V9CSW</td>\n    </tr>\n    <tr>\n      <th>2</th>\n      <td>Samsung Galaxy A21 Factory Unlocked Android Ce...</td>\n      <td>https://www.amazon.com/Samsung-Unlocked-Smartp...</td>\n      <td>4.4</td>\n      <td>659</td>\n      <td>99.00</td>\n      <td>smartphone</td>\n      <td>B08DHG8SBB</td>\n    </tr>\n    <tr>\n      <th>3</th>\n      <td>OUKITEL WP8 Pro (2020) Rugged Smartphone, 6.49...</td>\n      <td>https://www.amazon.com/OUKITEL-WP8-Pro-Smartph...</td>\n      <td>4.4</td>\n      <td>271</td>\n      <td>189.99</td>\n      <td>smartphone</td>\n      <td>B08HRJM99F</td>\n    </tr>\n    <tr>\n      <th>4</th>\n      <td>Samsung Galaxy S20 FE 5G | Factory Unlocked An...</td>\n      <td>https://www.amazon.com/Samsung-Factory-Unlocke...</td>\n      <td>4.6</td>\n      <td>2265</td>\n      <td>599.99</td>\n      <td>smartphone</td>\n      <td>B08FYTSXGQ</td>\n    </tr>\n    <tr>\n      <th>...</th>\n      <td>...</td>\n      <td>...</td>\n      <td>...</td>\n      <td>...</td>\n      <td>...</td>\n      <td>...</td>\n      <td>...</td>\n    </tr>\n    <tr>\n      <th>5789</th>\n      <td>Handheld Stabilizer &amp; Video Led Lights &amp; Remot...</td>\n      <td>https://www.amazon.com/Sevenoak-SK-R01-Shoulde...</td>\n      <td>4.1</td>\n      <td>37</td>\n      <td>54.99</td>\n      <td>smartphone</td>\n      <td>B0079X63BQ</td>\n    </tr>\n    <tr>\n      <th>5790</th>\n      <td>Rechargeable Selfie Camera Ring Light - Portab...</td>\n      <td>https://www.amazon.com/Rechargeable-Selfie-Cam...</td>\n      <td>4.1</td>\n      <td>34</td>\n      <td>7.99</td>\n      <td>smartphone</td>\n      <td>B088Z5FPMB</td>\n    </tr>\n    <tr>\n      <th>5791</th>\n      <td>PAKPOD Bundle - Packable Tripod for Mirrorless...</td>\n      <td>https://www.amazon.com/PAKPOD-BUNDLE-Mirrorles...</td>\n      <td>5.0</td>\n      <td>3</td>\n      <td>99.00</td>\n      <td>smartphone</td>\n      <td>B01M8NUQWK</td>\n    </tr>\n    <tr>\n      <th>5792</th>\n      <td>Swark OLED Display Compatible with Google Pixe...</td>\n      <td>https://www.amazon.com/Display-Compatible-Smar...</td>\n      <td>3.8</td>\n      <td>22</td>\n      <td>188.00</td>\n      <td>smartphone</td>\n      <td>B07BGYRFYP</td>\n    </tr>\n    <tr>\n      <th>5793</th>\n      <td>Tracfone TCL A1X 4G LTE Prepaid Smartphone (Lo...</td>\n      <td>https://www.amazon.com/gp/slredirect/picassoRe...</td>\n      <td>4.1</td>\n      <td>62</td>\n      <td>59.99</td>\n      <td>smartphone</td>\n      <td>B07Y5V385Y</td>\n    </tr>\n  </tbody>\n</table>\n<p>5794 rows × 7 columns</p>\n</div>"
     },
     "metadata": {},
     "execution_count": 501
    }
   ],
   "source": [
    "#Including ASIN(Unique Number) to the main data frame\n",
    "final_1 = pd.concat([df_new, new_f1], axis=1)\n",
    "final_1"
   ]
  },
  {
   "cell_type": "code",
   "execution_count": 502,
   "metadata": {},
   "outputs": [
    {
     "output_type": "execute_result",
     "data": {
      "text/plain": [
       "                                                  title  rating  review_count  \\\n",
       "0     Simple Mobile Samsung Galaxy A01 4G LTE Prepai...     4.3           372   \n",
       "1     Simple Mobile Samsung Galaxy A20 4G LTE Prepai...     4.4            30   \n",
       "2     Samsung Galaxy A21 Factory Unlocked Android Ce...     4.4           659   \n",
       "3     OUKITEL WP8 Pro (2020) Rugged Smartphone, 6.49...     4.4           271   \n",
       "4     Samsung Galaxy S20 FE 5G | Factory Unlocked An...     4.6          2265   \n",
       "...                                                 ...     ...           ...   \n",
       "5789  Handheld Stabilizer & Video Led Lights & Remot...     4.1            37   \n",
       "5790  Rechargeable Selfie Camera Ring Light - Portab...     4.1            34   \n",
       "5791  PAKPOD Bundle - Packable Tripod for Mirrorless...     5.0             3   \n",
       "5792  Swark OLED Display Compatible with Google Pixe...     3.8            22   \n",
       "5793  Tracfone TCL A1X 4G LTE Prepaid Smartphone (Lo...     4.1            62   \n",
       "\n",
       "       price product_type          c5  \n",
       "0      53.39   smartphone  B088N774B7  \n",
       "1     144.66   smartphone  B07Y5V9CSW  \n",
       "2      99.00   smartphone  B08DHG8SBB  \n",
       "3     189.99   smartphone  B08HRJM99F  \n",
       "4     599.99   smartphone  B08FYTSXGQ  \n",
       "...      ...          ...         ...  \n",
       "5789   54.99   smartphone  B0079X63BQ  \n",
       "5790    7.99   smartphone  B088Z5FPMB  \n",
       "5791   99.00   smartphone  B01M8NUQWK  \n",
       "5792  188.00   smartphone  B07BGYRFYP  \n",
       "5793   59.99   smartphone  B07Y5V385Y  \n",
       "\n",
       "[5794 rows x 6 columns]"
      ],
      "text/html": "<div>\n<style scoped>\n    .dataframe tbody tr th:only-of-type {\n        vertical-align: middle;\n    }\n\n    .dataframe tbody tr th {\n        vertical-align: top;\n    }\n\n    .dataframe thead th {\n        text-align: right;\n    }\n</style>\n<table border=\"1\" class=\"dataframe\">\n  <thead>\n    <tr style=\"text-align: right;\">\n      <th></th>\n      <th>title</th>\n      <th>rating</th>\n      <th>review_count</th>\n      <th>price</th>\n      <th>product_type</th>\n      <th>c5</th>\n    </tr>\n  </thead>\n  <tbody>\n    <tr>\n      <th>0</th>\n      <td>Simple Mobile Samsung Galaxy A01 4G LTE Prepai...</td>\n      <td>4.3</td>\n      <td>372</td>\n      <td>53.39</td>\n      <td>smartphone</td>\n      <td>B088N774B7</td>\n    </tr>\n    <tr>\n      <th>1</th>\n      <td>Simple Mobile Samsung Galaxy A20 4G LTE Prepai...</td>\n      <td>4.4</td>\n      <td>30</td>\n      <td>144.66</td>\n      <td>smartphone</td>\n      <td>B07Y5V9CSW</td>\n    </tr>\n    <tr>\n      <th>2</th>\n      <td>Samsung Galaxy A21 Factory Unlocked Android Ce...</td>\n      <td>4.4</td>\n      <td>659</td>\n      <td>99.00</td>\n      <td>smartphone</td>\n      <td>B08DHG8SBB</td>\n    </tr>\n    <tr>\n      <th>3</th>\n      <td>OUKITEL WP8 Pro (2020) Rugged Smartphone, 6.49...</td>\n      <td>4.4</td>\n      <td>271</td>\n      <td>189.99</td>\n      <td>smartphone</td>\n      <td>B08HRJM99F</td>\n    </tr>\n    <tr>\n      <th>4</th>\n      <td>Samsung Galaxy S20 FE 5G | Factory Unlocked An...</td>\n      <td>4.6</td>\n      <td>2265</td>\n      <td>599.99</td>\n      <td>smartphone</td>\n      <td>B08FYTSXGQ</td>\n    </tr>\n    <tr>\n      <th>...</th>\n      <td>...</td>\n      <td>...</td>\n      <td>...</td>\n      <td>...</td>\n      <td>...</td>\n      <td>...</td>\n    </tr>\n    <tr>\n      <th>5789</th>\n      <td>Handheld Stabilizer &amp; Video Led Lights &amp; Remot...</td>\n      <td>4.1</td>\n      <td>37</td>\n      <td>54.99</td>\n      <td>smartphone</td>\n      <td>B0079X63BQ</td>\n    </tr>\n    <tr>\n      <th>5790</th>\n      <td>Rechargeable Selfie Camera Ring Light - Portab...</td>\n      <td>4.1</td>\n      <td>34</td>\n      <td>7.99</td>\n      <td>smartphone</td>\n      <td>B088Z5FPMB</td>\n    </tr>\n    <tr>\n      <th>5791</th>\n      <td>PAKPOD Bundle - Packable Tripod for Mirrorless...</td>\n      <td>5.0</td>\n      <td>3</td>\n      <td>99.00</td>\n      <td>smartphone</td>\n      <td>B01M8NUQWK</td>\n    </tr>\n    <tr>\n      <th>5792</th>\n      <td>Swark OLED Display Compatible with Google Pixe...</td>\n      <td>3.8</td>\n      <td>22</td>\n      <td>188.00</td>\n      <td>smartphone</td>\n      <td>B07BGYRFYP</td>\n    </tr>\n    <tr>\n      <th>5793</th>\n      <td>Tracfone TCL A1X 4G LTE Prepaid Smartphone (Lo...</td>\n      <td>4.1</td>\n      <td>62</td>\n      <td>59.99</td>\n      <td>smartphone</td>\n      <td>B07Y5V385Y</td>\n    </tr>\n  </tbody>\n</table>\n<p>5794 rows × 6 columns</p>\n</div>"
     },
     "metadata": {},
     "execution_count": 502
    }
   ],
   "source": [
    "#Dropping URL from the dataset\n",
    "new_f2 = final_1.drop(['url',], axis=1)\n",
    "new_f2"
   ]
  },
  {
   "cell_type": "code",
   "execution_count": 503,
   "metadata": {},
   "outputs": [
    {
     "output_type": "execute_result",
     "data": {
      "text/plain": [
       "                                                  title  rating  review_count  \\\n",
       "0     Simple Mobile Samsung Galaxy A01 4G LTE Prepai...     4.3           372   \n",
       "1     Simple Mobile Samsung Galaxy A20 4G LTE Prepai...     4.4            30   \n",
       "2     Samsung Galaxy A21 Factory Unlocked Android Ce...     4.4           659   \n",
       "3     OUKITEL WP8 Pro (2020) Rugged Smartphone, 6.49...     4.4           271   \n",
       "4     Samsung Galaxy S20 FE 5G | Factory Unlocked An...     4.6          2265   \n",
       "...                                                 ...     ...           ...   \n",
       "5789  Handheld Stabilizer & Video Led Lights & Remot...     4.1            37   \n",
       "5790  Rechargeable Selfie Camera Ring Light - Portab...     4.1            34   \n",
       "5791  PAKPOD Bundle - Packable Tripod for Mirrorless...     5.0             3   \n",
       "5792  Swark OLED Display Compatible with Google Pixe...     3.8            22   \n",
       "5793  Tracfone TCL A1X 4G LTE Prepaid Smartphone (Lo...     4.1            62   \n",
       "\n",
       "       price product_type        ASIN  \n",
       "0      53.39   smartphone  B088N774B7  \n",
       "1     144.66   smartphone  B07Y5V9CSW  \n",
       "2      99.00   smartphone  B08DHG8SBB  \n",
       "3     189.99   smartphone  B08HRJM99F  \n",
       "4     599.99   smartphone  B08FYTSXGQ  \n",
       "...      ...          ...         ...  \n",
       "5789   54.99   smartphone  B0079X63BQ  \n",
       "5790    7.99   smartphone  B088Z5FPMB  \n",
       "5791   99.00   smartphone  B01M8NUQWK  \n",
       "5792  188.00   smartphone  B07BGYRFYP  \n",
       "5793   59.99   smartphone  B07Y5V385Y  \n",
       "\n",
       "[5794 rows x 6 columns]"
      ],
      "text/html": "<div>\n<style scoped>\n    .dataframe tbody tr th:only-of-type {\n        vertical-align: middle;\n    }\n\n    .dataframe tbody tr th {\n        vertical-align: top;\n    }\n\n    .dataframe thead th {\n        text-align: right;\n    }\n</style>\n<table border=\"1\" class=\"dataframe\">\n  <thead>\n    <tr style=\"text-align: right;\">\n      <th></th>\n      <th>title</th>\n      <th>rating</th>\n      <th>review_count</th>\n      <th>price</th>\n      <th>product_type</th>\n      <th>ASIN</th>\n    </tr>\n  </thead>\n  <tbody>\n    <tr>\n      <th>0</th>\n      <td>Simple Mobile Samsung Galaxy A01 4G LTE Prepai...</td>\n      <td>4.3</td>\n      <td>372</td>\n      <td>53.39</td>\n      <td>smartphone</td>\n      <td>B088N774B7</td>\n    </tr>\n    <tr>\n      <th>1</th>\n      <td>Simple Mobile Samsung Galaxy A20 4G LTE Prepai...</td>\n      <td>4.4</td>\n      <td>30</td>\n      <td>144.66</td>\n      <td>smartphone</td>\n      <td>B07Y5V9CSW</td>\n    </tr>\n    <tr>\n      <th>2</th>\n      <td>Samsung Galaxy A21 Factory Unlocked Android Ce...</td>\n      <td>4.4</td>\n      <td>659</td>\n      <td>99.00</td>\n      <td>smartphone</td>\n      <td>B08DHG8SBB</td>\n    </tr>\n    <tr>\n      <th>3</th>\n      <td>OUKITEL WP8 Pro (2020) Rugged Smartphone, 6.49...</td>\n      <td>4.4</td>\n      <td>271</td>\n      <td>189.99</td>\n      <td>smartphone</td>\n      <td>B08HRJM99F</td>\n    </tr>\n    <tr>\n      <th>4</th>\n      <td>Samsung Galaxy S20 FE 5G | Factory Unlocked An...</td>\n      <td>4.6</td>\n      <td>2265</td>\n      <td>599.99</td>\n      <td>smartphone</td>\n      <td>B08FYTSXGQ</td>\n    </tr>\n    <tr>\n      <th>...</th>\n      <td>...</td>\n      <td>...</td>\n      <td>...</td>\n      <td>...</td>\n      <td>...</td>\n      <td>...</td>\n    </tr>\n    <tr>\n      <th>5789</th>\n      <td>Handheld Stabilizer &amp; Video Led Lights &amp; Remot...</td>\n      <td>4.1</td>\n      <td>37</td>\n      <td>54.99</td>\n      <td>smartphone</td>\n      <td>B0079X63BQ</td>\n    </tr>\n    <tr>\n      <th>5790</th>\n      <td>Rechargeable Selfie Camera Ring Light - Portab...</td>\n      <td>4.1</td>\n      <td>34</td>\n      <td>7.99</td>\n      <td>smartphone</td>\n      <td>B088Z5FPMB</td>\n    </tr>\n    <tr>\n      <th>5791</th>\n      <td>PAKPOD Bundle - Packable Tripod for Mirrorless...</td>\n      <td>5.0</td>\n      <td>3</td>\n      <td>99.00</td>\n      <td>smartphone</td>\n      <td>B01M8NUQWK</td>\n    </tr>\n    <tr>\n      <th>5792</th>\n      <td>Swark OLED Display Compatible with Google Pixe...</td>\n      <td>3.8</td>\n      <td>22</td>\n      <td>188.00</td>\n      <td>smartphone</td>\n      <td>B07BGYRFYP</td>\n    </tr>\n    <tr>\n      <th>5793</th>\n      <td>Tracfone TCL A1X 4G LTE Prepaid Smartphone (Lo...</td>\n      <td>4.1</td>\n      <td>62</td>\n      <td>59.99</td>\n      <td>smartphone</td>\n      <td>B07Y5V385Y</td>\n    </tr>\n  </tbody>\n</table>\n<p>5794 rows × 6 columns</p>\n</div>"
     },
     "metadata": {},
     "execution_count": 503
    }
   ],
   "source": [
    "#Renaming \n",
    "new_f3 =new_f2.rename(columns={'c5': 'ASIN'})\n",
    "new_f3"
   ]
  },
  {
   "cell_type": "code",
   "execution_count": 504,
   "metadata": {},
   "outputs": [
    {
     "output_type": "execute_result",
     "data": {
      "text/plain": [
       "['title', 'rating', 'review_count', 'price', 'product_type', 'ASIN']"
      ]
     },
     "metadata": {},
     "execution_count": 504
    }
   ],
   "source": [
    "cols = new_f3.columns.tolist()\n",
    "cols"
   ]
  },
  {
   "cell_type": "code",
   "execution_count": 505,
   "metadata": {},
   "outputs": [
    {
     "output_type": "execute_result",
     "data": {
      "text/plain": [
       "['ASIN', 'title', 'rating', 'review_count', 'price', 'product_type']"
      ]
     },
     "metadata": {},
     "execution_count": 505
    }
   ],
   "source": [
    "cols = cols[-1:] + cols[:-1]\n",
    "cols"
   ]
  },
  {
   "cell_type": "code",
   "execution_count": 506,
   "metadata": {},
   "outputs": [
    {
     "output_type": "execute_result",
     "data": {
      "text/plain": [
       "            ASIN                                              title  rating  \\\n",
       "0     B088N774B7  Simple Mobile Samsung Galaxy A01 4G LTE Prepai...     4.3   \n",
       "1     B07Y5V9CSW  Simple Mobile Samsung Galaxy A20 4G LTE Prepai...     4.4   \n",
       "2     B08DHG8SBB  Samsung Galaxy A21 Factory Unlocked Android Ce...     4.4   \n",
       "3     B08HRJM99F  OUKITEL WP8 Pro (2020) Rugged Smartphone, 6.49...     4.4   \n",
       "4     B08FYTSXGQ  Samsung Galaxy S20 FE 5G | Factory Unlocked An...     4.6   \n",
       "...          ...                                                ...     ...   \n",
       "5789  B0079X63BQ  Handheld Stabilizer & Video Led Lights & Remot...     4.1   \n",
       "5790  B088Z5FPMB  Rechargeable Selfie Camera Ring Light - Portab...     4.1   \n",
       "5791  B01M8NUQWK  PAKPOD Bundle - Packable Tripod for Mirrorless...     5.0   \n",
       "5792  B07BGYRFYP  Swark OLED Display Compatible with Google Pixe...     3.8   \n",
       "5793  B07Y5V385Y  Tracfone TCL A1X 4G LTE Prepaid Smartphone (Lo...     4.1   \n",
       "\n",
       "      review_count   price product_type  \n",
       "0              372   53.39   smartphone  \n",
       "1               30  144.66   smartphone  \n",
       "2              659   99.00   smartphone  \n",
       "3              271  189.99   smartphone  \n",
       "4             2265  599.99   smartphone  \n",
       "...            ...     ...          ...  \n",
       "5789            37   54.99   smartphone  \n",
       "5790            34    7.99   smartphone  \n",
       "5791             3   99.00   smartphone  \n",
       "5792            22  188.00   smartphone  \n",
       "5793            62   59.99   smartphone  \n",
       "\n",
       "[5794 rows x 6 columns]"
      ],
      "text/html": "<div>\n<style scoped>\n    .dataframe tbody tr th:only-of-type {\n        vertical-align: middle;\n    }\n\n    .dataframe tbody tr th {\n        vertical-align: top;\n    }\n\n    .dataframe thead th {\n        text-align: right;\n    }\n</style>\n<table border=\"1\" class=\"dataframe\">\n  <thead>\n    <tr style=\"text-align: right;\">\n      <th></th>\n      <th>ASIN</th>\n      <th>title</th>\n      <th>rating</th>\n      <th>review_count</th>\n      <th>price</th>\n      <th>product_type</th>\n    </tr>\n  </thead>\n  <tbody>\n    <tr>\n      <th>0</th>\n      <td>B088N774B7</td>\n      <td>Simple Mobile Samsung Galaxy A01 4G LTE Prepai...</td>\n      <td>4.3</td>\n      <td>372</td>\n      <td>53.39</td>\n      <td>smartphone</td>\n    </tr>\n    <tr>\n      <th>1</th>\n      <td>B07Y5V9CSW</td>\n      <td>Simple Mobile Samsung Galaxy A20 4G LTE Prepai...</td>\n      <td>4.4</td>\n      <td>30</td>\n      <td>144.66</td>\n      <td>smartphone</td>\n    </tr>\n    <tr>\n      <th>2</th>\n      <td>B08DHG8SBB</td>\n      <td>Samsung Galaxy A21 Factory Unlocked Android Ce...</td>\n      <td>4.4</td>\n      <td>659</td>\n      <td>99.00</td>\n      <td>smartphone</td>\n    </tr>\n    <tr>\n      <th>3</th>\n      <td>B08HRJM99F</td>\n      <td>OUKITEL WP8 Pro (2020) Rugged Smartphone, 6.49...</td>\n      <td>4.4</td>\n      <td>271</td>\n      <td>189.99</td>\n      <td>smartphone</td>\n    </tr>\n    <tr>\n      <th>4</th>\n      <td>B08FYTSXGQ</td>\n      <td>Samsung Galaxy S20 FE 5G | Factory Unlocked An...</td>\n      <td>4.6</td>\n      <td>2265</td>\n      <td>599.99</td>\n      <td>smartphone</td>\n    </tr>\n    <tr>\n      <th>...</th>\n      <td>...</td>\n      <td>...</td>\n      <td>...</td>\n      <td>...</td>\n      <td>...</td>\n      <td>...</td>\n    </tr>\n    <tr>\n      <th>5789</th>\n      <td>B0079X63BQ</td>\n      <td>Handheld Stabilizer &amp; Video Led Lights &amp; Remot...</td>\n      <td>4.1</td>\n      <td>37</td>\n      <td>54.99</td>\n      <td>smartphone</td>\n    </tr>\n    <tr>\n      <th>5790</th>\n      <td>B088Z5FPMB</td>\n      <td>Rechargeable Selfie Camera Ring Light - Portab...</td>\n      <td>4.1</td>\n      <td>34</td>\n      <td>7.99</td>\n      <td>smartphone</td>\n    </tr>\n    <tr>\n      <th>5791</th>\n      <td>B01M8NUQWK</td>\n      <td>PAKPOD Bundle - Packable Tripod for Mirrorless...</td>\n      <td>5.0</td>\n      <td>3</td>\n      <td>99.00</td>\n      <td>smartphone</td>\n    </tr>\n    <tr>\n      <th>5792</th>\n      <td>B07BGYRFYP</td>\n      <td>Swark OLED Display Compatible with Google Pixe...</td>\n      <td>3.8</td>\n      <td>22</td>\n      <td>188.00</td>\n      <td>smartphone</td>\n    </tr>\n    <tr>\n      <th>5793</th>\n      <td>B07Y5V385Y</td>\n      <td>Tracfone TCL A1X 4G LTE Prepaid Smartphone (Lo...</td>\n      <td>4.1</td>\n      <td>62</td>\n      <td>59.99</td>\n      <td>smartphone</td>\n    </tr>\n  </tbody>\n</table>\n<p>5794 rows × 6 columns</p>\n</div>"
     },
     "metadata": {},
     "execution_count": 506
    }
   ],
   "source": [
    "new_f3 = new_f3[cols]\n",
    "new_f3"
   ]
  },
  {
   "cell_type": "code",
   "execution_count": 507,
   "metadata": {},
   "outputs": [
    {
     "output_type": "execute_result",
     "data": {
      "text/plain": [
       "            ASIN                                              title  rating  \\\n",
       "3586  B0887CHVFF  SAMSUNG EVO Select 512GB microSDXC UHS-I U3 10...     4.8   \n",
       "2765  B07TWFWJDZ  Fitbit Versa 2 Health and Fitness Smartwatch w...     4.6   \n",
       "5754  B00R2AZLD2  NETGEAR Nighthawk Smart Wi-Fi Router, R6700 - ...     4.3   \n",
       "4697  B019U00D7K  COWIN E7 Active Noise Cancelling Headphones Bl...     4.4   \n",
       "1301  B01KZC1EAW  Syncwire Long Aux Cable 6.5Ft- Auxiliary Audio...     4.6   \n",
       "...          ...                                                ...     ...   \n",
       "3524  B07HMP8K11  PHONSUN USB Charging Flex Cable w Microphone R...     1.0   \n",
       "3531  B07HMP8K11  PHONSUN USB Charging Flex Cable w Microphone R...     1.0   \n",
       "3680  B00XV0BYME  Samsung Galaxy S6 EDGE G925v 32GB 5\" AMOLED Ve...     1.0   \n",
       "5426  B08PYJK6XT  Pocket Printer - Wireless Mini Photo Printer f...     1.0   \n",
       "5571  B01N4P5DI9  3.5mm Smartphone Headset to RJ9 Adapter for Aa...     1.0   \n",
       "\n",
       "      review_count   price product_type  \n",
       "3586         99921   64.99   smartphone  \n",
       "2765         84420  177.00   smartphone  \n",
       "5754         66736   76.49   smartphone  \n",
       "4697         62473   69.99   smartphone  \n",
       "1301         50605   11.99   smartphone  \n",
       "...            ...     ...          ...  \n",
       "3524             1   13.49   smartphone  \n",
       "3531             1   13.49   smartphone  \n",
       "3680             1  199.99   smartphone  \n",
       "5426             1   49.99   smartphone  \n",
       "5571             1    6.43   smartphone  \n",
       "\n",
       "[5794 rows x 6 columns]"
      ],
      "text/html": "<div>\n<style scoped>\n    .dataframe tbody tr th:only-of-type {\n        vertical-align: middle;\n    }\n\n    .dataframe tbody tr th {\n        vertical-align: top;\n    }\n\n    .dataframe thead th {\n        text-align: right;\n    }\n</style>\n<table border=\"1\" class=\"dataframe\">\n  <thead>\n    <tr style=\"text-align: right;\">\n      <th></th>\n      <th>ASIN</th>\n      <th>title</th>\n      <th>rating</th>\n      <th>review_count</th>\n      <th>price</th>\n      <th>product_type</th>\n    </tr>\n  </thead>\n  <tbody>\n    <tr>\n      <th>3586</th>\n      <td>B0887CHVFF</td>\n      <td>SAMSUNG EVO Select 512GB microSDXC UHS-I U3 10...</td>\n      <td>4.8</td>\n      <td>99921</td>\n      <td>64.99</td>\n      <td>smartphone</td>\n    </tr>\n    <tr>\n      <th>2765</th>\n      <td>B07TWFWJDZ</td>\n      <td>Fitbit Versa 2 Health and Fitness Smartwatch w...</td>\n      <td>4.6</td>\n      <td>84420</td>\n      <td>177.00</td>\n      <td>smartphone</td>\n    </tr>\n    <tr>\n      <th>5754</th>\n      <td>B00R2AZLD2</td>\n      <td>NETGEAR Nighthawk Smart Wi-Fi Router, R6700 - ...</td>\n      <td>4.3</td>\n      <td>66736</td>\n      <td>76.49</td>\n      <td>smartphone</td>\n    </tr>\n    <tr>\n      <th>4697</th>\n      <td>B019U00D7K</td>\n      <td>COWIN E7 Active Noise Cancelling Headphones Bl...</td>\n      <td>4.4</td>\n      <td>62473</td>\n      <td>69.99</td>\n      <td>smartphone</td>\n    </tr>\n    <tr>\n      <th>1301</th>\n      <td>B01KZC1EAW</td>\n      <td>Syncwire Long Aux Cable 6.5Ft- Auxiliary Audio...</td>\n      <td>4.6</td>\n      <td>50605</td>\n      <td>11.99</td>\n      <td>smartphone</td>\n    </tr>\n    <tr>\n      <th>...</th>\n      <td>...</td>\n      <td>...</td>\n      <td>...</td>\n      <td>...</td>\n      <td>...</td>\n      <td>...</td>\n    </tr>\n    <tr>\n      <th>3524</th>\n      <td>B07HMP8K11</td>\n      <td>PHONSUN USB Charging Flex Cable w Microphone R...</td>\n      <td>1.0</td>\n      <td>1</td>\n      <td>13.49</td>\n      <td>smartphone</td>\n    </tr>\n    <tr>\n      <th>3531</th>\n      <td>B07HMP8K11</td>\n      <td>PHONSUN USB Charging Flex Cable w Microphone R...</td>\n      <td>1.0</td>\n      <td>1</td>\n      <td>13.49</td>\n      <td>smartphone</td>\n    </tr>\n    <tr>\n      <th>3680</th>\n      <td>B00XV0BYME</td>\n      <td>Samsung Galaxy S6 EDGE G925v 32GB 5\" AMOLED Ve...</td>\n      <td>1.0</td>\n      <td>1</td>\n      <td>199.99</td>\n      <td>smartphone</td>\n    </tr>\n    <tr>\n      <th>5426</th>\n      <td>B08PYJK6XT</td>\n      <td>Pocket Printer - Wireless Mini Photo Printer f...</td>\n      <td>1.0</td>\n      <td>1</td>\n      <td>49.99</td>\n      <td>smartphone</td>\n    </tr>\n    <tr>\n      <th>5571</th>\n      <td>B01N4P5DI9</td>\n      <td>3.5mm Smartphone Headset to RJ9 Adapter for Aa...</td>\n      <td>1.0</td>\n      <td>1</td>\n      <td>6.43</td>\n      <td>smartphone</td>\n    </tr>\n  </tbody>\n</table>\n<p>5794 rows × 6 columns</p>\n</div>"
     },
     "metadata": {},
     "execution_count": 507
    }
   ],
   "source": [
    "#Finding the best reviewed product with maximum rating. \n",
    "best_1 = new_f3.sort_values(['review_count','rating'], ascending= False)\n",
    "best_1"
   ]
  },
  {
   "cell_type": "code",
   "execution_count": 508,
   "metadata": {},
   "outputs": [],
   "source": [
    "#Saving it to CSV\n",
    "new_f3.to_csv('search_smartphone.csv')"
   ]
  },
  {
   "cell_type": "code",
   "execution_count": 509,
   "metadata": {},
   "outputs": [
    {
     "output_type": "execute_result",
     "data": {
      "text/plain": [
       "                                                name  \\\n",
       "0  Simple Mobile Samsung Galaxy A01 4G LTE Prepai...   \n",
       "1  Simple Mobile Samsung Galaxy A20 4G LTE Prepai...   \n",
       "2                                               None   \n",
       "3  OUKITEL WP8 Pro (2020) Rugged Smartphone, 6.49...   \n",
       "4  Samsung Galaxy S20 FE 5G | Factory Unlocked An...   \n",
       "\n",
       "                                   product_tech_spec              seller  \\\n",
       "0  [{'info': 'Product Dimensions', 'value': '6.75...                None   \n",
       "1  [{'info': 'Product Dimensions', 'value': '7.25...                None   \n",
       "2                                               None                None   \n",
       "3  [{'info': 'Product Dimensions', 'value': '7.01...  Moon and Six Pence   \n",
       "4  [{'info': 'Product Dimensions', 'value': '6.7 ...                None   \n",
       "\n",
       "                                         seller_link  \\\n",
       "0                                               None   \n",
       "1                                               None   \n",
       "2                                               None   \n",
       "3  https://www.amazon.com/gp/help/seller/at-a-gla...   \n",
       "4                                               None   \n",
       "\n",
       "                                         freq_bought  \\\n",
       "0  Simple Mobile LG Journey 4G LTE Prepaid Smartp...   \n",
       "1  [3-PACK]-Mr.Shield For Samsung Galaxy A20 [Not...   \n",
       "2                                               None   \n",
       "3  SAMSUNG: EVO Select 128GB MicroSDXC UHS-I U3 1...   \n",
       "4                                               None   \n",
       "\n",
       "                                    freq_bought_link  \\\n",
       "0  /Simple-Mobile-Journey-Prepaid-Smartphone/dp/B...   \n",
       "1  /Mr-Shield-Samsung-Galaxy-A20-Tempered-Protect...   \n",
       "2                                               None   \n",
       "3  https://www.amazon.com/SAMSUNG-Select-microSDX...   \n",
       "4                                               None   \n",
       "\n",
       "                                 link_to_all_reviews  \n",
       "0  /Simple-Mobile-Samsung-Prepaid-Smartphone/prod...  \n",
       "1  /Simple-Mobile-Samsung-Prepaid-Smartphone/prod...  \n",
       "2                                               None  \n",
       "3  /OUKITEL-WP8-Pro-Smartphone-Fingerprint/produc...  \n",
       "4  /Samsung-Factory-Unlocked-Smartphone-Pro-Grade...  "
      ],
      "text/html": "<div>\n<style scoped>\n    .dataframe tbody tr th:only-of-type {\n        vertical-align: middle;\n    }\n\n    .dataframe tbody tr th {\n        vertical-align: top;\n    }\n\n    .dataframe thead th {\n        text-align: right;\n    }\n</style>\n<table border=\"1\" class=\"dataframe\">\n  <thead>\n    <tr style=\"text-align: right;\">\n      <th></th>\n      <th>name</th>\n      <th>product_tech_spec</th>\n      <th>seller</th>\n      <th>seller_link</th>\n      <th>freq_bought</th>\n      <th>freq_bought_link</th>\n      <th>link_to_all_reviews</th>\n    </tr>\n  </thead>\n  <tbody>\n    <tr>\n      <th>0</th>\n      <td>Simple Mobile Samsung Galaxy A01 4G LTE Prepai...</td>\n      <td>[{'info': 'Product Dimensions', 'value': '6.75...</td>\n      <td>None</td>\n      <td>None</td>\n      <td>Simple Mobile LG Journey 4G LTE Prepaid Smartp...</td>\n      <td>/Simple-Mobile-Journey-Prepaid-Smartphone/dp/B...</td>\n      <td>/Simple-Mobile-Samsung-Prepaid-Smartphone/prod...</td>\n    </tr>\n    <tr>\n      <th>1</th>\n      <td>Simple Mobile Samsung Galaxy A20 4G LTE Prepai...</td>\n      <td>[{'info': 'Product Dimensions', 'value': '7.25...</td>\n      <td>None</td>\n      <td>None</td>\n      <td>[3-PACK]-Mr.Shield For Samsung Galaxy A20 [Not...</td>\n      <td>/Mr-Shield-Samsung-Galaxy-A20-Tempered-Protect...</td>\n      <td>/Simple-Mobile-Samsung-Prepaid-Smartphone/prod...</td>\n    </tr>\n    <tr>\n      <th>2</th>\n      <td>None</td>\n      <td>None</td>\n      <td>None</td>\n      <td>None</td>\n      <td>None</td>\n      <td>None</td>\n      <td>None</td>\n    </tr>\n    <tr>\n      <th>3</th>\n      <td>OUKITEL WP8 Pro (2020) Rugged Smartphone, 6.49...</td>\n      <td>[{'info': 'Product Dimensions', 'value': '7.01...</td>\n      <td>Moon and Six Pence</td>\n      <td>https://www.amazon.com/gp/help/seller/at-a-gla...</td>\n      <td>SAMSUNG: EVO Select 128GB MicroSDXC UHS-I U3 1...</td>\n      <td>https://www.amazon.com/SAMSUNG-Select-microSDX...</td>\n      <td>/OUKITEL-WP8-Pro-Smartphone-Fingerprint/produc...</td>\n    </tr>\n    <tr>\n      <th>4</th>\n      <td>Samsung Galaxy S20 FE 5G | Factory Unlocked An...</td>\n      <td>[{'info': 'Product Dimensions', 'value': '6.7 ...</td>\n      <td>None</td>\n      <td>None</td>\n      <td>None</td>\n      <td>None</td>\n      <td>/Samsung-Factory-Unlocked-Smartphone-Pro-Grade...</td>\n    </tr>\n  </tbody>\n</table>\n</div>"
     },
     "metadata": {},
     "execution_count": 509
    }
   ],
   "source": [
    "#Fetching Product Output from the folder\n",
    "df1 = pd.read_json(r'product_output.json')\n",
    "df1.head()"
   ]
  },
  {
   "cell_type": "code",
   "execution_count": 510,
   "metadata": {},
   "outputs": [
    {
     "output_type": "execute_result",
     "data": {
      "text/plain": [
       "name                     33\n",
       "product_tech_spec       139\n",
       "seller                 1730\n",
       "seller_link            1730\n",
       "freq_bought            2853\n",
       "freq_bought_link       2853\n",
       "link_to_all_reviews     920\n",
       "dtype: int64"
      ]
     },
     "metadata": {},
     "execution_count": 510
    }
   ],
   "source": [
    "#Quick check on Null values\n",
    "df1.isnull().sum()"
   ]
  },
  {
   "cell_type": "code",
   "execution_count": 511,
   "metadata": {},
   "outputs": [
    {
     "output_type": "execute_result",
     "data": {
      "text/plain": [
       "                                                   name  \\\n",
       "0     Simple Mobile Samsung Galaxy A01 4G LTE Prepai...   \n",
       "1     Simple Mobile Samsung Galaxy A20 4G LTE Prepai...   \n",
       "2                                                  None   \n",
       "3     OUKITEL WP8 Pro (2020) Rugged Smartphone, 6.49...   \n",
       "4     Samsung Galaxy S20 FE 5G | Factory Unlocked An...   \n",
       "...                                                 ...   \n",
       "5528  Samsung Galaxy S20 FE 5G | Factory Unlocked An...   \n",
       "5529  Gimbal Stabilizer 3-axis Handheld Portable Vlo...   \n",
       "5530  Godox X2T-S 2.4G TTL Wireless Flash Trigger wi...   \n",
       "5531  Car Phone Mount,Cell Phone Holder for Car,Anti...   \n",
       "5532  3 Pack Beg Hug Bunny Webcam Cover Camera Priva...   \n",
       "\n",
       "                                      product_tech_spec  \n",
       "0     [{'info': 'Product Dimensions', 'value': '6.75...  \n",
       "1     [{'info': 'Product Dimensions', 'value': '7.25...  \n",
       "2                                                  None  \n",
       "3     [{'info': 'Product Dimensions', 'value': '7.01...  \n",
       "4     [{'info': 'Product Dimensions', 'value': '6.7 ...  \n",
       "...                                                 ...  \n",
       "5528  [{'info': 'Product Dimensions', 'value': '6.7 ...  \n",
       "5529  [{'info': 'Package Dimensions', 'value': '8.46...  \n",
       "5530  [{'info': 'Package Dimensions', 'value': '7.72...  \n",
       "5531  [{'info': 'Package Dimensions', 'value': '4.9 ...  \n",
       "5532  [{'info': 'ASIN', 'value': 'B088FYXT4K'}, {'in...  \n",
       "\n",
       "[5533 rows x 2 columns]"
      ],
      "text/html": "<div>\n<style scoped>\n    .dataframe tbody tr th:only-of-type {\n        vertical-align: middle;\n    }\n\n    .dataframe tbody tr th {\n        vertical-align: top;\n    }\n\n    .dataframe thead th {\n        text-align: right;\n    }\n</style>\n<table border=\"1\" class=\"dataframe\">\n  <thead>\n    <tr style=\"text-align: right;\">\n      <th></th>\n      <th>name</th>\n      <th>product_tech_spec</th>\n    </tr>\n  </thead>\n  <tbody>\n    <tr>\n      <th>0</th>\n      <td>Simple Mobile Samsung Galaxy A01 4G LTE Prepai...</td>\n      <td>[{'info': 'Product Dimensions', 'value': '6.75...</td>\n    </tr>\n    <tr>\n      <th>1</th>\n      <td>Simple Mobile Samsung Galaxy A20 4G LTE Prepai...</td>\n      <td>[{'info': 'Product Dimensions', 'value': '7.25...</td>\n    </tr>\n    <tr>\n      <th>2</th>\n      <td>None</td>\n      <td>None</td>\n    </tr>\n    <tr>\n      <th>3</th>\n      <td>OUKITEL WP8 Pro (2020) Rugged Smartphone, 6.49...</td>\n      <td>[{'info': 'Product Dimensions', 'value': '7.01...</td>\n    </tr>\n    <tr>\n      <th>4</th>\n      <td>Samsung Galaxy S20 FE 5G | Factory Unlocked An...</td>\n      <td>[{'info': 'Product Dimensions', 'value': '6.7 ...</td>\n    </tr>\n    <tr>\n      <th>...</th>\n      <td>...</td>\n      <td>...</td>\n    </tr>\n    <tr>\n      <th>5528</th>\n      <td>Samsung Galaxy S20 FE 5G | Factory Unlocked An...</td>\n      <td>[{'info': 'Product Dimensions', 'value': '6.7 ...</td>\n    </tr>\n    <tr>\n      <th>5529</th>\n      <td>Gimbal Stabilizer 3-axis Handheld Portable Vlo...</td>\n      <td>[{'info': 'Package Dimensions', 'value': '8.46...</td>\n    </tr>\n    <tr>\n      <th>5530</th>\n      <td>Godox X2T-S 2.4G TTL Wireless Flash Trigger wi...</td>\n      <td>[{'info': 'Package Dimensions', 'value': '7.72...</td>\n    </tr>\n    <tr>\n      <th>5531</th>\n      <td>Car Phone Mount,Cell Phone Holder for Car,Anti...</td>\n      <td>[{'info': 'Package Dimensions', 'value': '4.9 ...</td>\n    </tr>\n    <tr>\n      <th>5532</th>\n      <td>3 Pack Beg Hug Bunny Webcam Cover Camera Priva...</td>\n      <td>[{'info': 'ASIN', 'value': 'B088FYXT4K'}, {'in...</td>\n    </tr>\n  </tbody>\n</table>\n<p>5533 rows × 2 columns</p>\n</div>"
     },
     "metadata": {},
     "execution_count": 511
    }
   ],
   "source": [
    "#Checking Product Specification of fetched products\n",
    "p1 = df1[['name', 'product_tech_spec']]\n",
    "p1"
   ]
  },
  {
   "cell_type": "code",
   "execution_count": 512,
   "metadata": {},
   "outputs": [
    {
     "output_type": "execute_result",
     "data": {
      "text/plain": [
       "[{'info': 'Product Dimensions', 'value': '6.75 x 2.5 x 10.38 inches'},\n",
       " {'info': 'Item Weight', 'value': '14.4 ounces'},\n",
       " {'info': 'Domestic Shipping', 'value': 'Item can be shipped within U.S.'},\n",
       " {'info': 'International Shipping',\n",
       "  'value': 'This item can be shipped to select countries outside of the U.S. Learn More'},\n",
       " {'info': 'ASIN', 'value': 'B088N774B7'},\n",
       " {'info': 'Item model number', 'value': 'SMSAS111DGP5'},\n",
       " {'info': 'Batteries',\n",
       "  'value': '1 Lithium ion batteries required. (included)'},\n",
       " {'info': 'Customer Reviews',\n",
       "  'value': '/*\\n* Fix for UDP-1061. Average customer reviews has a small extra line on hover\\n* https://omni-grok.amazon.com/xref/src/appgroup/websiteTemplates/retail/SoftlinesDetailPageAssets/udp-intl-lock/src/legacy.css?indexName=WebsiteTemplates#40\\n*/\\n.noUnderline a:hover {\\ntext-decoration: none;\\n} 4.3 out of 5 stars 379 ratings P.when(\\'A\\', \\'ready\\').execute(function(A) {\\nA.declarative(\\'acrLink-click-metrics\\', \\'click\\', { \"allowLinkDefault\" : true }, function(event){\\nif(window.ue) {\\nue.count(\"acrLinkClickCount\", (ue.count(\"acrLinkClickCount\") || 0) + 1);\\n}\\n});\\n}); P.when(\\'A\\', \\'cf\\').execute(function(A) {\\nA.declarative(\\'acrStarsLink-click-metrics\\', \\'click\\', { \"allowLinkDefault\" : true },  function(event){\\nif(window.ue) {\\nue.count(\"acrStarsLinkWithPopoverClickCount\", (ue.count(\"acrStarsLinkWithPopoverClickCount\") || 0) + 1);\\n}\\n});\\n}); 4.3 out of 5 stars'},\n",
       " {'info': 'Best Sellers Rank',\n",
       "  'value': '#3,750 in Cell Phones & Accessories ( See Top 100 in Cell Phones & Accessories ) #8 in Cell Phone SIM Cards'},\n",
       " {'info': 'OS', 'value': 'Android'},\n",
       " {'info': 'GPS', 'value': 'True'},\n",
       " {'info': 'Other display features', 'value': 'Wireless'},\n",
       " {'info': 'Device interface - primary', 'value': 'Touchscreen'},\n",
       " {'info': 'Other camera features', 'value': 'Rear, Front'},\n",
       " {'info': 'Form Factor', 'value': 'Smartphone'},\n",
       " {'info': 'Manufacturer', 'value': 'Simple Mobile'},\n",
       " {'info': 'Date First Available', 'value': 'May 13, 2020'}]"
      ]
     },
     "metadata": {},
     "execution_count": 512
    }
   ],
   "source": [
    "p1.product_tech_spec[0]"
   ]
  },
  {
   "cell_type": "code",
   "execution_count": 513,
   "metadata": {},
   "outputs": [],
   "source": [
    "#Splitting info section from the product specification\n",
    "add_col =  []\n",
    "for i in range(p1.shape[0]):\n",
    "    try:\n",
    "        for j in range(len(p1.product_tech_spec[i])):\n",
    "            col = p1.product_tech_spec[i][j]['info']\n",
    "            if col not in add_col:\n",
    "                add_col.append(col)\n",
    "    except:\n",
    "        continue"
   ]
  },
  {
   "cell_type": "code",
   "execution_count": 514,
   "metadata": {},
   "outputs": [
    {
     "output_type": "execute_result",
     "data": {
      "text/plain": [
       "['Product Dimensions',\n",
       " 'Item Weight',\n",
       " 'Domestic Shipping',\n",
       " 'International Shipping',\n",
       " 'ASIN',\n",
       " 'Item model number',\n",
       " 'Batteries',\n",
       " 'Customer Reviews',\n",
       " 'Best Sellers Rank',\n",
       " 'OS',\n",
       " 'GPS',\n",
       " 'Other display features',\n",
       " 'Device interface - primary',\n",
       " 'Other camera features',\n",
       " 'Form Factor',\n",
       " 'Manufacturer',\n",
       " 'Date First Available',\n",
       " 'RAM',\n",
       " 'Connectivity technologies',\n",
       " 'Included Components',\n",
       " 'Wireless communication technologies',\n",
       " 'Display technology',\n",
       " 'Colour',\n",
       " 'Battery Power Rating',\n",
       " 'Is Discontinued By Manufacturer',\n",
       " 'Language:',\n",
       " 'Additional Features',\n",
       " 'Package Dimensions',\n",
       " 'Scanner Resolution',\n",
       " 'Audio Jack',\n",
       " 'Phone Talk Time',\n",
       " 'Color Name',\n",
       " 'Hardware Platform',\n",
       " 'Department',\n",
       " 'Compatible Devices',\n",
       " 'Material Type',\n",
       " 'Size',\n",
       " 'Connector Type',\n",
       " 'Power Source',\n",
       " 'Phone Standy Time (with data)',\n",
       " 'Battery type',\n",
       " 'Display resolution',\n",
       " 'Warranty Description',\n",
       " 'Batteries Required',\n",
       " 'Import Designation',\n",
       " 'Body Material',\n",
       " 'Hardware Interface',\n",
       " 'Supported Software',\n",
       " 'Speaker Count',\n",
       " 'Output Wattage',\n",
       " 'Wireless Microphone Frequency',\n",
       " 'GSM frequencies',\n",
       " 'Color Screen',\n",
       " 'Voltage',\n",
       " 'Pricing',\n",
       " 'Binding',\n",
       " 'Rated',\n",
       " 'Is Assembly Required?',\n",
       " 'Manufacturer recommended age',\n",
       " 'Release date',\n",
       " 'Mfg Recommended age',\n",
       " 'Compatible Phone Models',\n",
       " 'Standing screen display size',\n",
       " 'GPU',\n",
       " 'Specific Uses For Product',\n",
       " 'Flash',\n",
       " 'Finish Types']"
      ]
     },
     "metadata": {},
     "execution_count": 514
    }
   ],
   "source": [
    "add_col"
   ]
  },
  {
   "cell_type": "code",
   "execution_count": 515,
   "metadata": {},
   "outputs": [
    {
     "output_type": "execute_result",
     "data": {
      "text/plain": [
       "Empty DataFrame\n",
       "Columns: [name, Product Dimensions, Item Weight, Domestic Shipping, International Shipping, ASIN, Item model number, Batteries, Customer Reviews, Best Sellers Rank, OS, GPS, Other display features, Device interface - primary, Other camera features, Form Factor, Manufacturer, Date First Available, RAM, Connectivity technologies, Included Components, Wireless communication technologies, Display technology, Colour, Battery Power Rating, Is Discontinued By Manufacturer, Language:, Additional Features, Package Dimensions, Scanner Resolution, Audio Jack, Phone Talk Time, Color Name, Hardware Platform, Department, Compatible Devices, Material Type, Size, Connector Type, Power Source, Phone Standy Time (with data), Battery type, Display resolution, Warranty Description, Batteries Required, Import Designation, Body Material, Hardware Interface, Supported Software, Speaker Count, Output Wattage, Wireless Microphone Frequency, GSM frequencies, Color Screen, Voltage, Pricing, Binding, Rated, Is Assembly Required?, Manufacturer recommended age, Release date, Mfg Recommended age, Compatible Phone Models, Standing screen display size, GPU, Specific Uses For Product, Flash, Finish Types]\n",
       "Index: []\n",
       "\n",
       "[0 rows x 68 columns]"
      ],
      "text/html": "<div>\n<style scoped>\n    .dataframe tbody tr th:only-of-type {\n        vertical-align: middle;\n    }\n\n    .dataframe tbody tr th {\n        vertical-align: top;\n    }\n\n    .dataframe thead th {\n        text-align: right;\n    }\n</style>\n<table border=\"1\" class=\"dataframe\">\n  <thead>\n    <tr style=\"text-align: right;\">\n      <th></th>\n      <th>name</th>\n      <th>Product Dimensions</th>\n      <th>Item Weight</th>\n      <th>Domestic Shipping</th>\n      <th>International Shipping</th>\n      <th>ASIN</th>\n      <th>Item model number</th>\n      <th>Batteries</th>\n      <th>Customer Reviews</th>\n      <th>Best Sellers Rank</th>\n      <th>...</th>\n      <th>Is Assembly Required?</th>\n      <th>Manufacturer recommended age</th>\n      <th>Release date</th>\n      <th>Mfg Recommended age</th>\n      <th>Compatible Phone Models</th>\n      <th>Standing screen display size</th>\n      <th>GPU</th>\n      <th>Specific Uses For Product</th>\n      <th>Flash</th>\n      <th>Finish Types</th>\n    </tr>\n  </thead>\n  <tbody>\n  </tbody>\n</table>\n<p>0 rows × 68 columns</p>\n</div>"
     },
     "metadata": {},
     "execution_count": 515
    }
   ],
   "source": [
    "#Adding name of the product to the dataset\n",
    "m_1 = pd.DataFrame(columns=['name'] + add_col)\n",
    "m_1"
   ]
  },
  {
   "cell_type": "code",
   "execution_count": 516,
   "metadata": {},
   "outputs": [],
   "source": [
    "for i in range(p1.shape[0]):\n",
    "    try:\n",
    "        for j in range(len(p1.product_tech_spec[i])):\n",
    "            col = p1.product_tech_spec[i][j]['info']\n",
    "            val = p1.product_tech_spec[i][j]['value']\n",
    "\n",
    "            m_1.loc[i,col] = val\n",
    "            \n",
    "    except:\n",
    "        m_1.loc[i,col] = ''\n",
    "        continue"
   ]
  },
  {
   "cell_type": "code",
   "execution_count": 517,
   "metadata": {},
   "outputs": [
    {
     "output_type": "execute_result",
     "data": {
      "text/plain": [
       "                                                name  \\\n",
       "0  Simple Mobile Samsung Galaxy A01 4G LTE Prepai...   \n",
       "1  Simple Mobile Samsung Galaxy A20 4G LTE Prepai...   \n",
       "2                                               None   \n",
       "3  OUKITEL WP8 Pro (2020) Rugged Smartphone, 6.49...   \n",
       "4  Samsung Galaxy S20 FE 5G | Factory Unlocked An...   \n",
       "\n",
       "           Product Dimensions  Item Weight                Domestic Shipping  \\\n",
       "0   6.75 x 2.5 x 10.38 inches  14.4 ounces  Item can be shipped within U.S.   \n",
       "1  7.25 x 1.65 x 10.25 inches  15.2 ounces  Item can be shipped within U.S.   \n",
       "2                         NaN          NaN                              NaN   \n",
       "3   7.01 x 3.33 x 0.51 inches  1.23 pounds                              NaN   \n",
       "4     6.7 x 3.4 x 2.44 inches   6.7 ounces                              NaN   \n",
       "\n",
       "                              International Shipping        ASIN  \\\n",
       "0  This item can be shipped to select countries o...  B088N774B7   \n",
       "1  This item can be shipped to select countries o...  B07Y5V9CSW   \n",
       "2                                                NaN         NaN   \n",
       "3                                                NaN  B08HRJM99F   \n",
       "4                                                NaN  B08FYTSXGQ   \n",
       "\n",
       "  Item model number                                         Batteries  \\\n",
       "0      SMSAS111DGP5      1 Lithium ion batteries required. (included)   \n",
       "1      SMSAS205DGP5      1 Lithium ion batteries required. (included)   \n",
       "2               NaN                                               NaN   \n",
       "3           WP8 Pro  1 Lithium Polymer batteries required. (included)   \n",
       "4    SM-G781UZBMXAA      1 Lithium ion batteries required. (included)   \n",
       "\n",
       "                                    Customer Reviews  \\\n",
       "0  /*\\n* Fix for UDP-1061. Average customer revie...   \n",
       "1  /*\\n* Fix for UDP-1061. Average customer revie...   \n",
       "2                                                NaN   \n",
       "3  /*\\n* Fix for UDP-1061. Average customer revie...   \n",
       "4  /*\\n* Fix for UDP-1061. Average customer revie...   \n",
       "\n",
       "                                   Best Sellers Rank  ...  \\\n",
       "0  #3,750 in Cell Phones & Accessories ( See Top ...  ...   \n",
       "1  #45,762 in Cell Phones & Accessories ( See Top...  ...   \n",
       "2                                                NaN  ...   \n",
       "3  #9,229 in Cell Phones & Accessories ( See Top ...  ...   \n",
       "4  #491 in Cell Phones & Accessories ( See Top 10...  ...   \n",
       "\n",
       "  Is Assembly Required? Manufacturer recommended age Release date  \\\n",
       "0                   NaN                          NaN          NaN   \n",
       "1                   NaN                          NaN          NaN   \n",
       "2                   NaN                          NaN          NaN   \n",
       "3                   NaN                          NaN          NaN   \n",
       "4                   NaN                          NaN          NaN   \n",
       "\n",
       "  Mfg Recommended age Compatible Phone Models Standing screen display size  \\\n",
       "0                 NaN                     NaN                          NaN   \n",
       "1                 NaN                     NaN                          NaN   \n",
       "2                 NaN                     NaN                          NaN   \n",
       "3                 NaN                     NaN                          NaN   \n",
       "4                 NaN                     NaN                          NaN   \n",
       "\n",
       "   GPU Specific Uses For Product Flash Finish Types  \n",
       "0  NaN                       NaN   NaN          NaN  \n",
       "1  NaN                       NaN   NaN          NaN  \n",
       "2  NaN                       NaN   NaN          NaN  \n",
       "3  NaN                       NaN   NaN          NaN  \n",
       "4  NaN                       NaN   NaN          NaN  \n",
       "\n",
       "[5 rows x 68 columns]"
      ],
      "text/html": "<div>\n<style scoped>\n    .dataframe tbody tr th:only-of-type {\n        vertical-align: middle;\n    }\n\n    .dataframe tbody tr th {\n        vertical-align: top;\n    }\n\n    .dataframe thead th {\n        text-align: right;\n    }\n</style>\n<table border=\"1\" class=\"dataframe\">\n  <thead>\n    <tr style=\"text-align: right;\">\n      <th></th>\n      <th>name</th>\n      <th>Product Dimensions</th>\n      <th>Item Weight</th>\n      <th>Domestic Shipping</th>\n      <th>International Shipping</th>\n      <th>ASIN</th>\n      <th>Item model number</th>\n      <th>Batteries</th>\n      <th>Customer Reviews</th>\n      <th>Best Sellers Rank</th>\n      <th>...</th>\n      <th>Is Assembly Required?</th>\n      <th>Manufacturer recommended age</th>\n      <th>Release date</th>\n      <th>Mfg Recommended age</th>\n      <th>Compatible Phone Models</th>\n      <th>Standing screen display size</th>\n      <th>GPU</th>\n      <th>Specific Uses For Product</th>\n      <th>Flash</th>\n      <th>Finish Types</th>\n    </tr>\n  </thead>\n  <tbody>\n    <tr>\n      <th>0</th>\n      <td>Simple Mobile Samsung Galaxy A01 4G LTE Prepai...</td>\n      <td>6.75 x 2.5 x 10.38 inches</td>\n      <td>14.4 ounces</td>\n      <td>Item can be shipped within U.S.</td>\n      <td>This item can be shipped to select countries o...</td>\n      <td>B088N774B7</td>\n      <td>SMSAS111DGP5</td>\n      <td>1 Lithium ion batteries required. (included)</td>\n      <td>/*\\n* Fix for UDP-1061. Average customer revie...</td>\n      <td>#3,750 in Cell Phones &amp; Accessories ( See Top ...</td>\n      <td>...</td>\n      <td>NaN</td>\n      <td>NaN</td>\n      <td>NaN</td>\n      <td>NaN</td>\n      <td>NaN</td>\n      <td>NaN</td>\n      <td>NaN</td>\n      <td>NaN</td>\n      <td>NaN</td>\n      <td>NaN</td>\n    </tr>\n    <tr>\n      <th>1</th>\n      <td>Simple Mobile Samsung Galaxy A20 4G LTE Prepai...</td>\n      <td>7.25 x 1.65 x 10.25 inches</td>\n      <td>15.2 ounces</td>\n      <td>Item can be shipped within U.S.</td>\n      <td>This item can be shipped to select countries o...</td>\n      <td>B07Y5V9CSW</td>\n      <td>SMSAS205DGP5</td>\n      <td>1 Lithium ion batteries required. (included)</td>\n      <td>/*\\n* Fix for UDP-1061. Average customer revie...</td>\n      <td>#45,762 in Cell Phones &amp; Accessories ( See Top...</td>\n      <td>...</td>\n      <td>NaN</td>\n      <td>NaN</td>\n      <td>NaN</td>\n      <td>NaN</td>\n      <td>NaN</td>\n      <td>NaN</td>\n      <td>NaN</td>\n      <td>NaN</td>\n      <td>NaN</td>\n      <td>NaN</td>\n    </tr>\n    <tr>\n      <th>2</th>\n      <td>None</td>\n      <td>NaN</td>\n      <td>NaN</td>\n      <td>NaN</td>\n      <td>NaN</td>\n      <td>NaN</td>\n      <td>NaN</td>\n      <td>NaN</td>\n      <td>NaN</td>\n      <td>NaN</td>\n      <td>...</td>\n      <td>NaN</td>\n      <td>NaN</td>\n      <td>NaN</td>\n      <td>NaN</td>\n      <td>NaN</td>\n      <td>NaN</td>\n      <td>NaN</td>\n      <td>NaN</td>\n      <td>NaN</td>\n      <td>NaN</td>\n    </tr>\n    <tr>\n      <th>3</th>\n      <td>OUKITEL WP8 Pro (2020) Rugged Smartphone, 6.49...</td>\n      <td>7.01 x 3.33 x 0.51 inches</td>\n      <td>1.23 pounds</td>\n      <td>NaN</td>\n      <td>NaN</td>\n      <td>B08HRJM99F</td>\n      <td>WP8 Pro</td>\n      <td>1 Lithium Polymer batteries required. (included)</td>\n      <td>/*\\n* Fix for UDP-1061. Average customer revie...</td>\n      <td>#9,229 in Cell Phones &amp; Accessories ( See Top ...</td>\n      <td>...</td>\n      <td>NaN</td>\n      <td>NaN</td>\n      <td>NaN</td>\n      <td>NaN</td>\n      <td>NaN</td>\n      <td>NaN</td>\n      <td>NaN</td>\n      <td>NaN</td>\n      <td>NaN</td>\n      <td>NaN</td>\n    </tr>\n    <tr>\n      <th>4</th>\n      <td>Samsung Galaxy S20 FE 5G | Factory Unlocked An...</td>\n      <td>6.7 x 3.4 x 2.44 inches</td>\n      <td>6.7 ounces</td>\n      <td>NaN</td>\n      <td>NaN</td>\n      <td>B08FYTSXGQ</td>\n      <td>SM-G781UZBMXAA</td>\n      <td>1 Lithium ion batteries required. (included)</td>\n      <td>/*\\n* Fix for UDP-1061. Average customer revie...</td>\n      <td>#491 in Cell Phones &amp; Accessories ( See Top 10...</td>\n      <td>...</td>\n      <td>NaN</td>\n      <td>NaN</td>\n      <td>NaN</td>\n      <td>NaN</td>\n      <td>NaN</td>\n      <td>NaN</td>\n      <td>NaN</td>\n      <td>NaN</td>\n      <td>NaN</td>\n      <td>NaN</td>\n    </tr>\n  </tbody>\n</table>\n<p>5 rows × 68 columns</p>\n</div>"
     },
     "metadata": {},
     "execution_count": 517
    }
   ],
   "source": [
    "m_1.name = p1.name\n",
    "m_1.head()"
   ]
  },
  {
   "cell_type": "code",
   "execution_count": 518,
   "metadata": {},
   "outputs": [
    {
     "output_type": "execute_result",
     "data": {
      "text/plain": [
       "Package Dimensions               3664\n",
       "Scanner Resolution               5408\n",
       "Audio Jack                       5461\n",
       "Phone Talk Time                  5483\n",
       "Color Name                       5484\n",
       "Hardware Platform                5469\n",
       "Department                       5442\n",
       "Compatible Devices               5529\n",
       "Material Type                    5512\n",
       "Size                             5506\n",
       "Connector Type                   5474\n",
       "Power Source                     5498\n",
       "Phone Standy Time (with data)    5515\n",
       "Battery type                     5514\n",
       "Display resolution               5496\n",
       "Warranty Description             5528\n",
       "Batteries Required               5514\n",
       "Import Designation               5530\n",
       "Body Material                    5530\n",
       "Hardware Interface               5532\n",
       "Supported Software               5532\n",
       "Speaker Count                    5532\n",
       "Output Wattage                   5532\n",
       "Wireless Microphone Frequency    5531\n",
       "GSM frequencies                  5532\n",
       "Color Screen                     5528\n",
       "Voltage                          5529\n",
       "Pricing                          5529\n",
       "Binding                          5529\n",
       "Rated                            5532\n",
       "Is Assembly Required?            5530\n",
       "Manufacturer recommended age     5531\n",
       "Release date                     5531\n",
       "Mfg Recommended age              5531\n",
       "Compatible Phone Models          5531\n",
       "Standing screen display size     5532\n",
       "GPU                              5532\n",
       "Specific Uses For Product        5532\n",
       "Flash                            5532\n",
       "Finish Types                     5532\n",
       "dtype: int64"
      ]
     },
     "metadata": {},
     "execution_count": 518
    }
   ],
   "source": [
    "m_1.isnull().sum().tail(40)"
   ]
  },
  {
   "cell_type": "code",
   "execution_count": 519,
   "metadata": {},
   "outputs": [
    {
     "output_type": "stream",
     "name": "stdout",
     "text": [
      "name\nProduct Dimensions\nItem Weight\nDomestic Shipping\nInternational Shipping\nASIN\nItem model number\nBatteries\nCustomer Reviews\nBest Sellers Rank\nOS\nGPS\nOther display features\nDevice interface - primary\nOther camera features\nForm Factor\nManufacturer\nDate First Available\nRAM\nConnectivity technologies\nIncluded Components\nWireless communication technologies\nDisplay technology\nColour\nBattery Power Rating\nIs Discontinued By Manufacturer\nLanguage:\nAdditional Features\nPackage Dimensions\nScanner Resolution\nAudio Jack\nPhone Talk Time\nColor Name\nHardware Platform\nDepartment\nCompatible Devices\nMaterial Type\nSize\nConnector Type\nPower Source\nPhone Standy Time (with data)\nBattery type\nDisplay resolution\nWarranty Description\nBatteries Required\nImport Designation\nBody Material\nHardware Interface\nSupported Software\nSpeaker Count\nOutput Wattage\nWireless Microphone Frequency\nGSM frequencies\nColor Screen\nVoltage\nPricing\nBinding\nRated\nIs Assembly Required?\nManufacturer recommended age\nRelease date\nMfg Recommended age\nCompatible Phone Models\nStanding screen display size\nGPU\nSpecific Uses For Product\nFlash\nFinish Types\n"
     ]
    }
   ],
   "source": [
    "for col_name in m_1.columns:\n",
    "    print(col_name)"
   ]
  },
  {
   "cell_type": "code",
   "execution_count": 520,
   "metadata": {},
   "outputs": [
    {
     "output_type": "execute_result",
     "data": {
      "text/plain": [
       "                                                name        ASIN  \\\n",
       "0  Simple Mobile Samsung Galaxy A01 4G LTE Prepai...  B088N774B7   \n",
       "1  Simple Mobile Samsung Galaxy A20 4G LTE Prepai...  B07Y5V9CSW   \n",
       "2                                               None         NaN   \n",
       "3  OUKITEL WP8 Pro (2020) Rugged Smartphone, 6.49...  B08HRJM99F   \n",
       "4  Samsung Galaxy S20 FE 5G | Factory Unlocked An...  B08FYTSXGQ   \n",
       "\n",
       "                                   Best Sellers Rank   Manufacturer  \\\n",
       "0  #3,750 in Cell Phones & Accessories ( See Top ...  Simple Mobile   \n",
       "1  #45,762 in Cell Phones & Accessories ( See Top...  Simple Mobile   \n",
       "2                                                NaN            NaN   \n",
       "3  #9,229 in Cell Phones & Accessories ( See Top ...        OUKITEL   \n",
       "4  #491 in Cell Phones & Accessories ( See Top 10...        Samsung   \n",
       "\n",
       "           Product Dimensions Package Dimensions  Item Weight  \\\n",
       "0   6.75 x 2.5 x 10.38 inches                NaN  14.4 ounces   \n",
       "1  7.25 x 1.65 x 10.25 inches                NaN  15.2 ounces   \n",
       "2                         NaN                NaN          NaN   \n",
       "3   7.01 x 3.33 x 0.51 inches                NaN  1.23 pounds   \n",
       "4     6.7 x 3.4 x 2.44 inches                NaN   6.7 ounces   \n",
       "\n",
       "  Date First Available Is Discontinued By Manufacturer Item model number  \\\n",
       "0         May 13, 2020                             NaN      SMSAS111DGP5   \n",
       "1   September 20, 2019                             NaN      SMSAS205DGP5   \n",
       "2                                                  NaN               NaN   \n",
       "3     October 22, 2020                             NaN           WP8 Pro   \n",
       "4   September 23, 2020                             NaN    SM-G781UZBMXAA   \n",
       "\n",
       "                                          Batteries Voltage  \\\n",
       "0      1 Lithium ion batteries required. (included)     NaN   \n",
       "1      1 Lithium ion batteries required. (included)     NaN   \n",
       "2                                               NaN     NaN   \n",
       "3  1 Lithium Polymer batteries required. (included)     NaN   \n",
       "4      1 Lithium ion batteries required. (included)     NaN   \n",
       "\n",
       "  Standing screen display size      Colour Color Name  \n",
       "0                          NaN         NaN        NaN  \n",
       "1                          NaN         NaN        NaN  \n",
       "2                          NaN         NaN        NaN  \n",
       "3                          NaN      Orange        NaN  \n",
       "4                          NaN  Cloud Navy        NaN  "
      ],
      "text/html": "<div>\n<style scoped>\n    .dataframe tbody tr th:only-of-type {\n        vertical-align: middle;\n    }\n\n    .dataframe tbody tr th {\n        vertical-align: top;\n    }\n\n    .dataframe thead th {\n        text-align: right;\n    }\n</style>\n<table border=\"1\" class=\"dataframe\">\n  <thead>\n    <tr style=\"text-align: right;\">\n      <th></th>\n      <th>name</th>\n      <th>ASIN</th>\n      <th>Best Sellers Rank</th>\n      <th>Manufacturer</th>\n      <th>Product Dimensions</th>\n      <th>Package Dimensions</th>\n      <th>Item Weight</th>\n      <th>Date First Available</th>\n      <th>Is Discontinued By Manufacturer</th>\n      <th>Item model number</th>\n      <th>Batteries</th>\n      <th>Voltage</th>\n      <th>Standing screen display size</th>\n      <th>Colour</th>\n      <th>Color Name</th>\n    </tr>\n  </thead>\n  <tbody>\n    <tr>\n      <th>0</th>\n      <td>Simple Mobile Samsung Galaxy A01 4G LTE Prepai...</td>\n      <td>B088N774B7</td>\n      <td>#3,750 in Cell Phones &amp; Accessories ( See Top ...</td>\n      <td>Simple Mobile</td>\n      <td>6.75 x 2.5 x 10.38 inches</td>\n      <td>NaN</td>\n      <td>14.4 ounces</td>\n      <td>May 13, 2020</td>\n      <td>NaN</td>\n      <td>SMSAS111DGP5</td>\n      <td>1 Lithium ion batteries required. (included)</td>\n      <td>NaN</td>\n      <td>NaN</td>\n      <td>NaN</td>\n      <td>NaN</td>\n    </tr>\n    <tr>\n      <th>1</th>\n      <td>Simple Mobile Samsung Galaxy A20 4G LTE Prepai...</td>\n      <td>B07Y5V9CSW</td>\n      <td>#45,762 in Cell Phones &amp; Accessories ( See Top...</td>\n      <td>Simple Mobile</td>\n      <td>7.25 x 1.65 x 10.25 inches</td>\n      <td>NaN</td>\n      <td>15.2 ounces</td>\n      <td>September 20, 2019</td>\n      <td>NaN</td>\n      <td>SMSAS205DGP5</td>\n      <td>1 Lithium ion batteries required. (included)</td>\n      <td>NaN</td>\n      <td>NaN</td>\n      <td>NaN</td>\n      <td>NaN</td>\n    </tr>\n    <tr>\n      <th>2</th>\n      <td>None</td>\n      <td>NaN</td>\n      <td>NaN</td>\n      <td>NaN</td>\n      <td>NaN</td>\n      <td>NaN</td>\n      <td>NaN</td>\n      <td></td>\n      <td>NaN</td>\n      <td>NaN</td>\n      <td>NaN</td>\n      <td>NaN</td>\n      <td>NaN</td>\n      <td>NaN</td>\n      <td>NaN</td>\n    </tr>\n    <tr>\n      <th>3</th>\n      <td>OUKITEL WP8 Pro (2020) Rugged Smartphone, 6.49...</td>\n      <td>B08HRJM99F</td>\n      <td>#9,229 in Cell Phones &amp; Accessories ( See Top ...</td>\n      <td>OUKITEL</td>\n      <td>7.01 x 3.33 x 0.51 inches</td>\n      <td>NaN</td>\n      <td>1.23 pounds</td>\n      <td>October 22, 2020</td>\n      <td>NaN</td>\n      <td>WP8 Pro</td>\n      <td>1 Lithium Polymer batteries required. (included)</td>\n      <td>NaN</td>\n      <td>NaN</td>\n      <td>Orange</td>\n      <td>NaN</td>\n    </tr>\n    <tr>\n      <th>4</th>\n      <td>Samsung Galaxy S20 FE 5G | Factory Unlocked An...</td>\n      <td>B08FYTSXGQ</td>\n      <td>#491 in Cell Phones &amp; Accessories ( See Top 10...</td>\n      <td>Samsung</td>\n      <td>6.7 x 3.4 x 2.44 inches</td>\n      <td>NaN</td>\n      <td>6.7 ounces</td>\n      <td>September 23, 2020</td>\n      <td>NaN</td>\n      <td>SM-G781UZBMXAA</td>\n      <td>1 Lithium ion batteries required. (included)</td>\n      <td>NaN</td>\n      <td>NaN</td>\n      <td>Cloud Navy</td>\n      <td>NaN</td>\n    </tr>\n  </tbody>\n</table>\n</div>"
     },
     "metadata": {},
     "execution_count": 520
    }
   ],
   "source": [
    "#Creating Final dataset\n",
    "final = m_1[['name','ASIN', 'Best Sellers Rank', 'Manufacturer', 'Product Dimensions','Package Dimensions','Item Weight','Date First Available','Is Discontinued By Manufacturer', 'Item model number','Batteries','Voltage',  'Standing screen display size',  'Colour', 'Color Name',   ]]\n",
    "final.head()"
   ]
  },
  {
   "cell_type": "code",
   "execution_count": 521,
   "metadata": {},
   "outputs": [
    {
     "output_type": "stream",
     "name": "stderr",
     "text": [
      "<ipython-input-521-868a276802f6>:2: SettingWithCopyWarning: \nA value is trying to be set on a copy of a slice from a DataFrame\n\nSee the caveats in the documentation: https://pandas.pydata.org/pandas-docs/stable/user_guide/indexing.html#returning-a-view-versus-a-copy\n  final.drop_duplicates(subset =\"ASIN\",keep = False, inplace = True)\n"
     ]
    },
    {
     "output_type": "execute_result",
     "data": {
      "text/plain": [
       "                                                 name        ASIN  \\\n",
       "3   OUKITEL WP8 Pro (2020) Rugged Smartphone, 6.49...  B08HRJM99F   \n",
       "4   Samsung Galaxy S20 FE 5G | Factory Unlocked An...  B08FYTSXGQ   \n",
       "5   BLU G90 Pro – 6.5” HD+ Gaming Smartphone, Quad...  B08C6XBCRT   \n",
       "8   TCL 10L, Unlocked Android Smartphone with 6.53...  B087LY84RT   \n",
       "10  OUKITEL WP5 (2020) Rugged Smartphone, 8000mAh ...  B0836TG4XB   \n",
       "\n",
       "                                    Best Sellers Rank Manufacturer  \\\n",
       "3   #9,229 in Cell Phones & Accessories ( See Top ...      OUKITEL   \n",
       "4   #491 in Cell Phones & Accessories ( See Top 10...      Samsung   \n",
       "5   #1,506 in Cell Phones & Accessories ( See Top ...          BLU   \n",
       "8   #4,182 in Cell Phones & Accessories ( See Top ...          TCL   \n",
       "10  #12,321 in Cell Phones & Accessories ( See Top...      OUKITEL   \n",
       "\n",
       "           Product Dimensions Package Dimensions   Item Weight  \\\n",
       "3   7.01 x 3.33 x 0.51 inches                NaN   1.23 pounds   \n",
       "4     6.7 x 3.4 x 2.44 inches                NaN    6.7 ounces   \n",
       "5     15.99 x 8.99 x 1 inches                NaN  0.023 ounces   \n",
       "8   6.38 x 2.98 x 0.33 inches                NaN     12 ounces   \n",
       "10  6.06 x 2.92 x 0.71 inches                NaN    9.8 ounces   \n",
       "\n",
       "   Date First Available Is Discontinued By Manufacturer     Item model number  \\\n",
       "3      October 22, 2020                             NaN               WP8 Pro   \n",
       "4    September 23, 2020                             NaN        SM-G781UZBMXAA   \n",
       "5          July 1, 2020                             NaN               G0310WW   \n",
       "8        April 22, 2020                             NaN  TCL-T770B-2ALCUS11-2   \n",
       "10    December 27, 2019                             NaN                   WP5   \n",
       "\n",
       "                                           Batteries Voltage  \\\n",
       "3   1 Lithium Polymer batteries required. (included)     NaN   \n",
       "4       1 Lithium ion batteries required. (included)     NaN   \n",
       "5       1 Lithium ion batteries required. (included)     NaN   \n",
       "8       1 Lithium ion batteries required. (included)     NaN   \n",
       "10  1 Lithium Polymer batteries required. (included)     NaN   \n",
       "\n",
       "   Standing screen display size        Colour Color Name  \n",
       "3                           NaN        Orange        NaN  \n",
       "4                           NaN    Cloud Navy        NaN  \n",
       "5                           NaN           NaN        NaN  \n",
       "8                           NaN  Arctic White        NaN  \n",
       "10                          NaN         Black        NaN  "
      ],
      "text/html": "<div>\n<style scoped>\n    .dataframe tbody tr th:only-of-type {\n        vertical-align: middle;\n    }\n\n    .dataframe tbody tr th {\n        vertical-align: top;\n    }\n\n    .dataframe thead th {\n        text-align: right;\n    }\n</style>\n<table border=\"1\" class=\"dataframe\">\n  <thead>\n    <tr style=\"text-align: right;\">\n      <th></th>\n      <th>name</th>\n      <th>ASIN</th>\n      <th>Best Sellers Rank</th>\n      <th>Manufacturer</th>\n      <th>Product Dimensions</th>\n      <th>Package Dimensions</th>\n      <th>Item Weight</th>\n      <th>Date First Available</th>\n      <th>Is Discontinued By Manufacturer</th>\n      <th>Item model number</th>\n      <th>Batteries</th>\n      <th>Voltage</th>\n      <th>Standing screen display size</th>\n      <th>Colour</th>\n      <th>Color Name</th>\n    </tr>\n  </thead>\n  <tbody>\n    <tr>\n      <th>3</th>\n      <td>OUKITEL WP8 Pro (2020) Rugged Smartphone, 6.49...</td>\n      <td>B08HRJM99F</td>\n      <td>#9,229 in Cell Phones &amp; Accessories ( See Top ...</td>\n      <td>OUKITEL</td>\n      <td>7.01 x 3.33 x 0.51 inches</td>\n      <td>NaN</td>\n      <td>1.23 pounds</td>\n      <td>October 22, 2020</td>\n      <td>NaN</td>\n      <td>WP8 Pro</td>\n      <td>1 Lithium Polymer batteries required. (included)</td>\n      <td>NaN</td>\n      <td>NaN</td>\n      <td>Orange</td>\n      <td>NaN</td>\n    </tr>\n    <tr>\n      <th>4</th>\n      <td>Samsung Galaxy S20 FE 5G | Factory Unlocked An...</td>\n      <td>B08FYTSXGQ</td>\n      <td>#491 in Cell Phones &amp; Accessories ( See Top 10...</td>\n      <td>Samsung</td>\n      <td>6.7 x 3.4 x 2.44 inches</td>\n      <td>NaN</td>\n      <td>6.7 ounces</td>\n      <td>September 23, 2020</td>\n      <td>NaN</td>\n      <td>SM-G781UZBMXAA</td>\n      <td>1 Lithium ion batteries required. (included)</td>\n      <td>NaN</td>\n      <td>NaN</td>\n      <td>Cloud Navy</td>\n      <td>NaN</td>\n    </tr>\n    <tr>\n      <th>5</th>\n      <td>BLU G90 Pro – 6.5” HD+ Gaming Smartphone, Quad...</td>\n      <td>B08C6XBCRT</td>\n      <td>#1,506 in Cell Phones &amp; Accessories ( See Top ...</td>\n      <td>BLU</td>\n      <td>15.99 x 8.99 x 1 inches</td>\n      <td>NaN</td>\n      <td>0.023 ounces</td>\n      <td>July 1, 2020</td>\n      <td>NaN</td>\n      <td>G0310WW</td>\n      <td>1 Lithium ion batteries required. (included)</td>\n      <td>NaN</td>\n      <td>NaN</td>\n      <td>NaN</td>\n      <td>NaN</td>\n    </tr>\n    <tr>\n      <th>8</th>\n      <td>TCL 10L, Unlocked Android Smartphone with 6.53...</td>\n      <td>B087LY84RT</td>\n      <td>#4,182 in Cell Phones &amp; Accessories ( See Top ...</td>\n      <td>TCL</td>\n      <td>6.38 x 2.98 x 0.33 inches</td>\n      <td>NaN</td>\n      <td>12 ounces</td>\n      <td>April 22, 2020</td>\n      <td>NaN</td>\n      <td>TCL-T770B-2ALCUS11-2</td>\n      <td>1 Lithium ion batteries required. (included)</td>\n      <td>NaN</td>\n      <td>NaN</td>\n      <td>Arctic White</td>\n      <td>NaN</td>\n    </tr>\n    <tr>\n      <th>10</th>\n      <td>OUKITEL WP5 (2020) Rugged Smartphone, 8000mAh ...</td>\n      <td>B0836TG4XB</td>\n      <td>#12,321 in Cell Phones &amp; Accessories ( See Top...</td>\n      <td>OUKITEL</td>\n      <td>6.06 x 2.92 x 0.71 inches</td>\n      <td>NaN</td>\n      <td>9.8 ounces</td>\n      <td>December 27, 2019</td>\n      <td>NaN</td>\n      <td>WP5</td>\n      <td>1 Lithium Polymer batteries required. (included)</td>\n      <td>NaN</td>\n      <td>NaN</td>\n      <td>Black</td>\n      <td>NaN</td>\n    </tr>\n  </tbody>\n</table>\n</div>"
     },
     "metadata": {},
     "execution_count": 521
    }
   ],
   "source": [
    "#Dropping duplicates from final dataset\n",
    "final.drop_duplicates(subset =\"ASIN\",keep = False, inplace = True) \n",
    "final.head()"
   ]
  },
  {
   "cell_type": "code",
   "execution_count": 522,
   "metadata": {},
   "outputs": [
    {
     "output_type": "execute_result",
     "data": {
      "text/plain": [
       "                                                name        ASIN  \\\n",
       "0  OUKITEL WP8 Pro (2020) Rugged Smartphone, 6.49...  B08HRJM99F   \n",
       "1  Samsung Galaxy S20 FE 5G | Factory Unlocked An...  B08FYTSXGQ   \n",
       "2  BLU G90 Pro – 6.5” HD+ Gaming Smartphone, Quad...  B08C6XBCRT   \n",
       "3  TCL 10L, Unlocked Android Smartphone with 6.53...  B087LY84RT   \n",
       "4  OUKITEL WP5 (2020) Rugged Smartphone, 8000mAh ...  B0836TG4XB   \n",
       "\n",
       "                                   Best Sellers Rank Manufacturer  \\\n",
       "0  #9,229 in Cell Phones & Accessories ( See Top ...      OUKITEL   \n",
       "1  #491 in Cell Phones & Accessories ( See Top 10...      Samsung   \n",
       "2  #1,506 in Cell Phones & Accessories ( See Top ...          BLU   \n",
       "3  #4,182 in Cell Phones & Accessories ( See Top ...          TCL   \n",
       "4  #12,321 in Cell Phones & Accessories ( See Top...      OUKITEL   \n",
       "\n",
       "          Product Dimensions Package Dimensions   Item Weight  \\\n",
       "0  7.01 x 3.33 x 0.51 inches                NaN   1.23 pounds   \n",
       "1    6.7 x 3.4 x 2.44 inches                NaN    6.7 ounces   \n",
       "2    15.99 x 8.99 x 1 inches                NaN  0.023 ounces   \n",
       "3  6.38 x 2.98 x 0.33 inches                NaN     12 ounces   \n",
       "4  6.06 x 2.92 x 0.71 inches                NaN    9.8 ounces   \n",
       "\n",
       "  Date First Available Is Discontinued By Manufacturer     Item model number  \\\n",
       "0     October 22, 2020                             NaN               WP8 Pro   \n",
       "1   September 23, 2020                             NaN        SM-G781UZBMXAA   \n",
       "2         July 1, 2020                             NaN               G0310WW   \n",
       "3       April 22, 2020                             NaN  TCL-T770B-2ALCUS11-2   \n",
       "4    December 27, 2019                             NaN                   WP5   \n",
       "\n",
       "                                          Batteries Voltage  \\\n",
       "0  1 Lithium Polymer batteries required. (included)     NaN   \n",
       "1      1 Lithium ion batteries required. (included)     NaN   \n",
       "2      1 Lithium ion batteries required. (included)     NaN   \n",
       "3      1 Lithium ion batteries required. (included)     NaN   \n",
       "4  1 Lithium Polymer batteries required. (included)     NaN   \n",
       "\n",
       "  Standing screen display size        Colour Color Name  \n",
       "0                          NaN        Orange        NaN  \n",
       "1                          NaN    Cloud Navy        NaN  \n",
       "2                          NaN           NaN        NaN  \n",
       "3                          NaN  Arctic White        NaN  \n",
       "4                          NaN         Black        NaN  "
      ],
      "text/html": "<div>\n<style scoped>\n    .dataframe tbody tr th:only-of-type {\n        vertical-align: middle;\n    }\n\n    .dataframe tbody tr th {\n        vertical-align: top;\n    }\n\n    .dataframe thead th {\n        text-align: right;\n    }\n</style>\n<table border=\"1\" class=\"dataframe\">\n  <thead>\n    <tr style=\"text-align: right;\">\n      <th></th>\n      <th>name</th>\n      <th>ASIN</th>\n      <th>Best Sellers Rank</th>\n      <th>Manufacturer</th>\n      <th>Product Dimensions</th>\n      <th>Package Dimensions</th>\n      <th>Item Weight</th>\n      <th>Date First Available</th>\n      <th>Is Discontinued By Manufacturer</th>\n      <th>Item model number</th>\n      <th>Batteries</th>\n      <th>Voltage</th>\n      <th>Standing screen display size</th>\n      <th>Colour</th>\n      <th>Color Name</th>\n    </tr>\n  </thead>\n  <tbody>\n    <tr>\n      <th>0</th>\n      <td>OUKITEL WP8 Pro (2020) Rugged Smartphone, 6.49...</td>\n      <td>B08HRJM99F</td>\n      <td>#9,229 in Cell Phones &amp; Accessories ( See Top ...</td>\n      <td>OUKITEL</td>\n      <td>7.01 x 3.33 x 0.51 inches</td>\n      <td>NaN</td>\n      <td>1.23 pounds</td>\n      <td>October 22, 2020</td>\n      <td>NaN</td>\n      <td>WP8 Pro</td>\n      <td>1 Lithium Polymer batteries required. (included)</td>\n      <td>NaN</td>\n      <td>NaN</td>\n      <td>Orange</td>\n      <td>NaN</td>\n    </tr>\n    <tr>\n      <th>1</th>\n      <td>Samsung Galaxy S20 FE 5G | Factory Unlocked An...</td>\n      <td>B08FYTSXGQ</td>\n      <td>#491 in Cell Phones &amp; Accessories ( See Top 10...</td>\n      <td>Samsung</td>\n      <td>6.7 x 3.4 x 2.44 inches</td>\n      <td>NaN</td>\n      <td>6.7 ounces</td>\n      <td>September 23, 2020</td>\n      <td>NaN</td>\n      <td>SM-G781UZBMXAA</td>\n      <td>1 Lithium ion batteries required. (included)</td>\n      <td>NaN</td>\n      <td>NaN</td>\n      <td>Cloud Navy</td>\n      <td>NaN</td>\n    </tr>\n    <tr>\n      <th>2</th>\n      <td>BLU G90 Pro – 6.5” HD+ Gaming Smartphone, Quad...</td>\n      <td>B08C6XBCRT</td>\n      <td>#1,506 in Cell Phones &amp; Accessories ( See Top ...</td>\n      <td>BLU</td>\n      <td>15.99 x 8.99 x 1 inches</td>\n      <td>NaN</td>\n      <td>0.023 ounces</td>\n      <td>July 1, 2020</td>\n      <td>NaN</td>\n      <td>G0310WW</td>\n      <td>1 Lithium ion batteries required. (included)</td>\n      <td>NaN</td>\n      <td>NaN</td>\n      <td>NaN</td>\n      <td>NaN</td>\n    </tr>\n    <tr>\n      <th>3</th>\n      <td>TCL 10L, Unlocked Android Smartphone with 6.53...</td>\n      <td>B087LY84RT</td>\n      <td>#4,182 in Cell Phones &amp; Accessories ( See Top ...</td>\n      <td>TCL</td>\n      <td>6.38 x 2.98 x 0.33 inches</td>\n      <td>NaN</td>\n      <td>12 ounces</td>\n      <td>April 22, 2020</td>\n      <td>NaN</td>\n      <td>TCL-T770B-2ALCUS11-2</td>\n      <td>1 Lithium ion batteries required. (included)</td>\n      <td>NaN</td>\n      <td>NaN</td>\n      <td>Arctic White</td>\n      <td>NaN</td>\n    </tr>\n    <tr>\n      <th>4</th>\n      <td>OUKITEL WP5 (2020) Rugged Smartphone, 8000mAh ...</td>\n      <td>B0836TG4XB</td>\n      <td>#12,321 in Cell Phones &amp; Accessories ( See Top...</td>\n      <td>OUKITEL</td>\n      <td>6.06 x 2.92 x 0.71 inches</td>\n      <td>NaN</td>\n      <td>9.8 ounces</td>\n      <td>December 27, 2019</td>\n      <td>NaN</td>\n      <td>WP5</td>\n      <td>1 Lithium Polymer batteries required. (included)</td>\n      <td>NaN</td>\n      <td>NaN</td>\n      <td>Black</td>\n      <td>NaN</td>\n    </tr>\n  </tbody>\n</table>\n</div>"
     },
     "metadata": {},
     "execution_count": 522
    }
   ],
   "source": [
    "#Resetting Index\n",
    "final = final.reset_index(drop= True)\n",
    "final.head()"
   ]
  },
  {
   "cell_type": "code",
   "execution_count": 523,
   "metadata": {},
   "outputs": [
    {
     "output_type": "execute_result",
     "data": {
      "text/plain": [
       "0       7.01 x 3.33 x 0.51\n",
       "1         6.7 x 3.4 x 2.44\n",
       "2         15.99 x 8.99 x 1\n",
       "3       6.38 x 2.98 x 0.33\n",
       "4       6.06 x 2.92 x 0.71\n",
       "               ...        \n",
       "2720             2 x 6 x 3\n",
       "2721    5.91 x 4.72 x 2.36\n",
       "2722                   NaN\n",
       "2723                   NaN\n",
       "2724                   NaN\n",
       "Name: Product Dimensions (inches), Length: 2725, dtype: object"
      ]
     },
     "metadata": {},
     "execution_count": 523
    }
   ],
   "source": [
    "final['Product Dimensions (inches)'] = final['Product Dimensions'].str.rstrip(' inches')\n",
    "final['Product Dimensions (inches)']"
   ]
  },
  {
   "cell_type": "code",
   "execution_count": 524,
   "metadata": {},
   "outputs": [
    {
     "output_type": "execute_result",
     "data": {
      "text/plain": [
       "                                                name        ASIN  \\\n",
       "0  OUKITEL WP8 Pro (2020) Rugged Smartphone, 6.49...  B08HRJM99F   \n",
       "1  Samsung Galaxy S20 FE 5G | Factory Unlocked An...  B08FYTSXGQ   \n",
       "2  BLU G90 Pro – 6.5” HD+ Gaming Smartphone, Quad...  B08C6XBCRT   \n",
       "3  TCL 10L, Unlocked Android Smartphone with 6.53...  B087LY84RT   \n",
       "4  OUKITEL WP5 (2020) Rugged Smartphone, 8000mAh ...  B0836TG4XB   \n",
       "\n",
       "                                   Best Sellers Rank Manufacturer  \\\n",
       "0  #9,229 in Cell Phones & Accessories ( See Top ...      OUKITEL   \n",
       "1  #491 in Cell Phones & Accessories ( See Top 10...      Samsung   \n",
       "2  #1,506 in Cell Phones & Accessories ( See Top ...          BLU   \n",
       "3  #4,182 in Cell Phones & Accessories ( See Top ...          TCL   \n",
       "4  #12,321 in Cell Phones & Accessories ( See Top...      OUKITEL   \n",
       "\n",
       "   Product Dimensions Package Dimensions   Item Weight Date First Available  \\\n",
       "0  7.01 x 3.33 x 0.51                NaN   1.23 pounds     October 22, 2020   \n",
       "1    6.7 x 3.4 x 2.44                NaN    6.7 ounces   September 23, 2020   \n",
       "2    15.99 x 8.99 x 1                NaN  0.023 ounces         July 1, 2020   \n",
       "3  6.38 x 2.98 x 0.33                NaN     12 ounces       April 22, 2020   \n",
       "4  6.06 x 2.92 x 0.71                NaN    9.8 ounces    December 27, 2019   \n",
       "\n",
       "  Is Discontinued By Manufacturer     Item model number  \\\n",
       "0                             NaN               WP8 Pro   \n",
       "1                             NaN        SM-G781UZBMXAA   \n",
       "2                             NaN               G0310WW   \n",
       "3                             NaN  TCL-T770B-2ALCUS11-2   \n",
       "4                             NaN                   WP5   \n",
       "\n",
       "                                          Batteries Voltage  \\\n",
       "0  1 Lithium Polymer batteries required. (included)     NaN   \n",
       "1      1 Lithium ion batteries required. (included)     NaN   \n",
       "2      1 Lithium ion batteries required. (included)     NaN   \n",
       "3      1 Lithium ion batteries required. (included)     NaN   \n",
       "4  1 Lithium Polymer batteries required. (included)     NaN   \n",
       "\n",
       "  Standing screen display size        Colour Color Name  \\\n",
       "0                          NaN        Orange        NaN   \n",
       "1                          NaN    Cloud Navy        NaN   \n",
       "2                          NaN           NaN        NaN   \n",
       "3                          NaN  Arctic White        NaN   \n",
       "4                          NaN         Black        NaN   \n",
       "\n",
       "  Product Dimensions (inches)  \n",
       "0          7.01 x 3.33 x 0.51  \n",
       "1            6.7 x 3.4 x 2.44  \n",
       "2            15.99 x 8.99 x 1  \n",
       "3          6.38 x 2.98 x 0.33  \n",
       "4          6.06 x 2.92 x 0.71  "
      ],
      "text/html": "<div>\n<style scoped>\n    .dataframe tbody tr th:only-of-type {\n        vertical-align: middle;\n    }\n\n    .dataframe tbody tr th {\n        vertical-align: top;\n    }\n\n    .dataframe thead th {\n        text-align: right;\n    }\n</style>\n<table border=\"1\" class=\"dataframe\">\n  <thead>\n    <tr style=\"text-align: right;\">\n      <th></th>\n      <th>name</th>\n      <th>ASIN</th>\n      <th>Best Sellers Rank</th>\n      <th>Manufacturer</th>\n      <th>Product Dimensions</th>\n      <th>Package Dimensions</th>\n      <th>Item Weight</th>\n      <th>Date First Available</th>\n      <th>Is Discontinued By Manufacturer</th>\n      <th>Item model number</th>\n      <th>Batteries</th>\n      <th>Voltage</th>\n      <th>Standing screen display size</th>\n      <th>Colour</th>\n      <th>Color Name</th>\n      <th>Product Dimensions (inches)</th>\n    </tr>\n  </thead>\n  <tbody>\n    <tr>\n      <th>0</th>\n      <td>OUKITEL WP8 Pro (2020) Rugged Smartphone, 6.49...</td>\n      <td>B08HRJM99F</td>\n      <td>#9,229 in Cell Phones &amp; Accessories ( See Top ...</td>\n      <td>OUKITEL</td>\n      <td>7.01 x 3.33 x 0.51</td>\n      <td>NaN</td>\n      <td>1.23 pounds</td>\n      <td>October 22, 2020</td>\n      <td>NaN</td>\n      <td>WP8 Pro</td>\n      <td>1 Lithium Polymer batteries required. (included)</td>\n      <td>NaN</td>\n      <td>NaN</td>\n      <td>Orange</td>\n      <td>NaN</td>\n      <td>7.01 x 3.33 x 0.51</td>\n    </tr>\n    <tr>\n      <th>1</th>\n      <td>Samsung Galaxy S20 FE 5G | Factory Unlocked An...</td>\n      <td>B08FYTSXGQ</td>\n      <td>#491 in Cell Phones &amp; Accessories ( See Top 10...</td>\n      <td>Samsung</td>\n      <td>6.7 x 3.4 x 2.44</td>\n      <td>NaN</td>\n      <td>6.7 ounces</td>\n      <td>September 23, 2020</td>\n      <td>NaN</td>\n      <td>SM-G781UZBMXAA</td>\n      <td>1 Lithium ion batteries required. (included)</td>\n      <td>NaN</td>\n      <td>NaN</td>\n      <td>Cloud Navy</td>\n      <td>NaN</td>\n      <td>6.7 x 3.4 x 2.44</td>\n    </tr>\n    <tr>\n      <th>2</th>\n      <td>BLU G90 Pro – 6.5” HD+ Gaming Smartphone, Quad...</td>\n      <td>B08C6XBCRT</td>\n      <td>#1,506 in Cell Phones &amp; Accessories ( See Top ...</td>\n      <td>BLU</td>\n      <td>15.99 x 8.99 x 1</td>\n      <td>NaN</td>\n      <td>0.023 ounces</td>\n      <td>July 1, 2020</td>\n      <td>NaN</td>\n      <td>G0310WW</td>\n      <td>1 Lithium ion batteries required. (included)</td>\n      <td>NaN</td>\n      <td>NaN</td>\n      <td>NaN</td>\n      <td>NaN</td>\n      <td>15.99 x 8.99 x 1</td>\n    </tr>\n    <tr>\n      <th>3</th>\n      <td>TCL 10L, Unlocked Android Smartphone with 6.53...</td>\n      <td>B087LY84RT</td>\n      <td>#4,182 in Cell Phones &amp; Accessories ( See Top ...</td>\n      <td>TCL</td>\n      <td>6.38 x 2.98 x 0.33</td>\n      <td>NaN</td>\n      <td>12 ounces</td>\n      <td>April 22, 2020</td>\n      <td>NaN</td>\n      <td>TCL-T770B-2ALCUS11-2</td>\n      <td>1 Lithium ion batteries required. (included)</td>\n      <td>NaN</td>\n      <td>NaN</td>\n      <td>Arctic White</td>\n      <td>NaN</td>\n      <td>6.38 x 2.98 x 0.33</td>\n    </tr>\n    <tr>\n      <th>4</th>\n      <td>OUKITEL WP5 (2020) Rugged Smartphone, 8000mAh ...</td>\n      <td>B0836TG4XB</td>\n      <td>#12,321 in Cell Phones &amp; Accessories ( See Top...</td>\n      <td>OUKITEL</td>\n      <td>6.06 x 2.92 x 0.71</td>\n      <td>NaN</td>\n      <td>9.8 ounces</td>\n      <td>December 27, 2019</td>\n      <td>NaN</td>\n      <td>WP5</td>\n      <td>1 Lithium Polymer batteries required. (included)</td>\n      <td>NaN</td>\n      <td>NaN</td>\n      <td>Black</td>\n      <td>NaN</td>\n      <td>6.06 x 2.92 x 0.71</td>\n    </tr>\n  </tbody>\n</table>\n</div>"
     },
     "metadata": {},
     "execution_count": 524
    }
   ],
   "source": [
    "final['Product Dimensions'] = final['Product Dimensions (inches)']\n",
    "final.head()"
   ]
  },
  {
   "cell_type": "code",
   "execution_count": 525,
   "metadata": {},
   "outputs": [
    {
     "output_type": "execute_result",
     "data": {
      "text/plain": [
       "                                                name        ASIN  \\\n",
       "0  OUKITEL WP8 Pro (2020) Rugged Smartphone, 6.49...  B08HRJM99F   \n",
       "1  Samsung Galaxy S20 FE 5G | Factory Unlocked An...  B08FYTSXGQ   \n",
       "2  BLU G90 Pro – 6.5” HD+ Gaming Smartphone, Quad...  B08C6XBCRT   \n",
       "3  TCL 10L, Unlocked Android Smartphone with 6.53...  B087LY84RT   \n",
       "4  OUKITEL WP5 (2020) Rugged Smartphone, 8000mAh ...  B0836TG4XB   \n",
       "\n",
       "                                   Best Sellers Rank Manufacturer  \\\n",
       "0  #9,229 in Cell Phones & Accessories ( See Top ...      OUKITEL   \n",
       "1  #491 in Cell Phones & Accessories ( See Top 10...      Samsung   \n",
       "2  #1,506 in Cell Phones & Accessories ( See Top ...          BLU   \n",
       "3  #4,182 in Cell Phones & Accessories ( See Top ...          TCL   \n",
       "4  #12,321 in Cell Phones & Accessories ( See Top...      OUKITEL   \n",
       "\n",
       "   Product Dimensions Package Dimensions   Item Weight Date First Available  \\\n",
       "0  7.01 x 3.33 x 0.51                NaN   1.23 pounds     October 22, 2020   \n",
       "1    6.7 x 3.4 x 2.44                NaN    6.7 ounces   September 23, 2020   \n",
       "2    15.99 x 8.99 x 1                NaN  0.023 ounces         July 1, 2020   \n",
       "3  6.38 x 2.98 x 0.33                NaN     12 ounces       April 22, 2020   \n",
       "4  6.06 x 2.92 x 0.71                NaN    9.8 ounces    December 27, 2019   \n",
       "\n",
       "  Is Discontinued By Manufacturer     Item model number  \\\n",
       "0                             NaN               WP8 Pro   \n",
       "1                             NaN        SM-G781UZBMXAA   \n",
       "2                             NaN               G0310WW   \n",
       "3                             NaN  TCL-T770B-2ALCUS11-2   \n",
       "4                             NaN                   WP5   \n",
       "\n",
       "                                          Batteries Voltage  \\\n",
       "0  1 Lithium Polymer batteries required. (included)     NaN   \n",
       "1      1 Lithium ion batteries required. (included)     NaN   \n",
       "2      1 Lithium ion batteries required. (included)     NaN   \n",
       "3      1 Lithium ion batteries required. (included)     NaN   \n",
       "4  1 Lithium Polymer batteries required. (included)     NaN   \n",
       "\n",
       "  Standing screen display size        Colour Color Name  \n",
       "0                          NaN        Orange        NaN  \n",
       "1                          NaN    Cloud Navy        NaN  \n",
       "2                          NaN           NaN        NaN  \n",
       "3                          NaN  Arctic White        NaN  \n",
       "4                          NaN         Black        NaN  "
      ],
      "text/html": "<div>\n<style scoped>\n    .dataframe tbody tr th:only-of-type {\n        vertical-align: middle;\n    }\n\n    .dataframe tbody tr th {\n        vertical-align: top;\n    }\n\n    .dataframe thead th {\n        text-align: right;\n    }\n</style>\n<table border=\"1\" class=\"dataframe\">\n  <thead>\n    <tr style=\"text-align: right;\">\n      <th></th>\n      <th>name</th>\n      <th>ASIN</th>\n      <th>Best Sellers Rank</th>\n      <th>Manufacturer</th>\n      <th>Product Dimensions</th>\n      <th>Package Dimensions</th>\n      <th>Item Weight</th>\n      <th>Date First Available</th>\n      <th>Is Discontinued By Manufacturer</th>\n      <th>Item model number</th>\n      <th>Batteries</th>\n      <th>Voltage</th>\n      <th>Standing screen display size</th>\n      <th>Colour</th>\n      <th>Color Name</th>\n    </tr>\n  </thead>\n  <tbody>\n    <tr>\n      <th>0</th>\n      <td>OUKITEL WP8 Pro (2020) Rugged Smartphone, 6.49...</td>\n      <td>B08HRJM99F</td>\n      <td>#9,229 in Cell Phones &amp; Accessories ( See Top ...</td>\n      <td>OUKITEL</td>\n      <td>7.01 x 3.33 x 0.51</td>\n      <td>NaN</td>\n      <td>1.23 pounds</td>\n      <td>October 22, 2020</td>\n      <td>NaN</td>\n      <td>WP8 Pro</td>\n      <td>1 Lithium Polymer batteries required. (included)</td>\n      <td>NaN</td>\n      <td>NaN</td>\n      <td>Orange</td>\n      <td>NaN</td>\n    </tr>\n    <tr>\n      <th>1</th>\n      <td>Samsung Galaxy S20 FE 5G | Factory Unlocked An...</td>\n      <td>B08FYTSXGQ</td>\n      <td>#491 in Cell Phones &amp; Accessories ( See Top 10...</td>\n      <td>Samsung</td>\n      <td>6.7 x 3.4 x 2.44</td>\n      <td>NaN</td>\n      <td>6.7 ounces</td>\n      <td>September 23, 2020</td>\n      <td>NaN</td>\n      <td>SM-G781UZBMXAA</td>\n      <td>1 Lithium ion batteries required. (included)</td>\n      <td>NaN</td>\n      <td>NaN</td>\n      <td>Cloud Navy</td>\n      <td>NaN</td>\n    </tr>\n    <tr>\n      <th>2</th>\n      <td>BLU G90 Pro – 6.5” HD+ Gaming Smartphone, Quad...</td>\n      <td>B08C6XBCRT</td>\n      <td>#1,506 in Cell Phones &amp; Accessories ( See Top ...</td>\n      <td>BLU</td>\n      <td>15.99 x 8.99 x 1</td>\n      <td>NaN</td>\n      <td>0.023 ounces</td>\n      <td>July 1, 2020</td>\n      <td>NaN</td>\n      <td>G0310WW</td>\n      <td>1 Lithium ion batteries required. (included)</td>\n      <td>NaN</td>\n      <td>NaN</td>\n      <td>NaN</td>\n      <td>NaN</td>\n    </tr>\n    <tr>\n      <th>3</th>\n      <td>TCL 10L, Unlocked Android Smartphone with 6.53...</td>\n      <td>B087LY84RT</td>\n      <td>#4,182 in Cell Phones &amp; Accessories ( See Top ...</td>\n      <td>TCL</td>\n      <td>6.38 x 2.98 x 0.33</td>\n      <td>NaN</td>\n      <td>12 ounces</td>\n      <td>April 22, 2020</td>\n      <td>NaN</td>\n      <td>TCL-T770B-2ALCUS11-2</td>\n      <td>1 Lithium ion batteries required. (included)</td>\n      <td>NaN</td>\n      <td>NaN</td>\n      <td>Arctic White</td>\n      <td>NaN</td>\n    </tr>\n    <tr>\n      <th>4</th>\n      <td>OUKITEL WP5 (2020) Rugged Smartphone, 8000mAh ...</td>\n      <td>B0836TG4XB</td>\n      <td>#12,321 in Cell Phones &amp; Accessories ( See Top...</td>\n      <td>OUKITEL</td>\n      <td>6.06 x 2.92 x 0.71</td>\n      <td>NaN</td>\n      <td>9.8 ounces</td>\n      <td>December 27, 2019</td>\n      <td>NaN</td>\n      <td>WP5</td>\n      <td>1 Lithium Polymer batteries required. (included)</td>\n      <td>NaN</td>\n      <td>NaN</td>\n      <td>Black</td>\n      <td>NaN</td>\n    </tr>\n  </tbody>\n</table>\n</div>"
     },
     "metadata": {},
     "execution_count": 525
    }
   ],
   "source": [
    "#Dropping Product Dimensions from the dataset\n",
    "final = final.drop(['Product Dimensions (inches)'], axis=1)\n",
    "final.head()"
   ]
  },
  {
   "cell_type": "code",
   "execution_count": 526,
   "metadata": {},
   "outputs": [
    {
     "output_type": "execute_result",
     "data": {
      "text/plain": [
       "          a       b\n",
       "0      1.23  pounds\n",
       "1       6.7  ounces\n",
       "2     0.023  ounces\n",
       "3        12  ounces\n",
       "4       9.8  ounces\n",
       "...     ...     ...\n",
       "2720      1  ounces\n",
       "2721  0.106  ounces\n",
       "2722   1.36  pounds\n",
       "2723   2.39  ounces\n",
       "2724    NaN     NaN\n",
       "\n",
       "[2725 rows x 2 columns]"
      ],
      "text/html": "<div>\n<style scoped>\n    .dataframe tbody tr th:only-of-type {\n        vertical-align: middle;\n    }\n\n    .dataframe tbody tr th {\n        vertical-align: top;\n    }\n\n    .dataframe thead th {\n        text-align: right;\n    }\n</style>\n<table border=\"1\" class=\"dataframe\">\n  <thead>\n    <tr style=\"text-align: right;\">\n      <th></th>\n      <th>a</th>\n      <th>b</th>\n    </tr>\n  </thead>\n  <tbody>\n    <tr>\n      <th>0</th>\n      <td>1.23</td>\n      <td>pounds</td>\n    </tr>\n    <tr>\n      <th>1</th>\n      <td>6.7</td>\n      <td>ounces</td>\n    </tr>\n    <tr>\n      <th>2</th>\n      <td>0.023</td>\n      <td>ounces</td>\n    </tr>\n    <tr>\n      <th>3</th>\n      <td>12</td>\n      <td>ounces</td>\n    </tr>\n    <tr>\n      <th>4</th>\n      <td>9.8</td>\n      <td>ounces</td>\n    </tr>\n    <tr>\n      <th>...</th>\n      <td>...</td>\n      <td>...</td>\n    </tr>\n    <tr>\n      <th>2720</th>\n      <td>1</td>\n      <td>ounces</td>\n    </tr>\n    <tr>\n      <th>2721</th>\n      <td>0.106</td>\n      <td>ounces</td>\n    </tr>\n    <tr>\n      <th>2722</th>\n      <td>1.36</td>\n      <td>pounds</td>\n    </tr>\n    <tr>\n      <th>2723</th>\n      <td>2.39</td>\n      <td>ounces</td>\n    </tr>\n    <tr>\n      <th>2724</th>\n      <td>NaN</td>\n      <td>NaN</td>\n    </tr>\n  </tbody>\n</table>\n<p>2725 rows × 2 columns</p>\n</div>"
     },
     "metadata": {},
     "execution_count": 526
    }
   ],
   "source": [
    "#Splitting Item Weight column as some weights are in ounces while some are in pound\n",
    "a = final['Item Weight'].str.split(expand=True)\n",
    "a.columns = ['a', 'b']\n",
    "a"
   ]
  },
  {
   "cell_type": "code",
   "execution_count": 527,
   "metadata": {},
   "outputs": [
    {
     "output_type": "execute_result",
     "data": {
      "text/plain": [
       "                                                name        ASIN  \\\n",
       "0  OUKITEL WP8 Pro (2020) Rugged Smartphone, 6.49...  B08HRJM99F   \n",
       "1  Samsung Galaxy S20 FE 5G | Factory Unlocked An...  B08FYTSXGQ   \n",
       "2  BLU G90 Pro – 6.5” HD+ Gaming Smartphone, Quad...  B08C6XBCRT   \n",
       "3  TCL 10L, Unlocked Android Smartphone with 6.53...  B087LY84RT   \n",
       "4  OUKITEL WP5 (2020) Rugged Smartphone, 8000mAh ...  B0836TG4XB   \n",
       "\n",
       "                                   Best Sellers Rank Manufacturer  \\\n",
       "0  #9,229 in Cell Phones & Accessories ( See Top ...      OUKITEL   \n",
       "1  #491 in Cell Phones & Accessories ( See Top 10...      Samsung   \n",
       "2  #1,506 in Cell Phones & Accessories ( See Top ...          BLU   \n",
       "3  #4,182 in Cell Phones & Accessories ( See Top ...          TCL   \n",
       "4  #12,321 in Cell Phones & Accessories ( See Top...      OUKITEL   \n",
       "\n",
       "   Product Dimensions Package Dimensions  Item Weight Date First Available  \\\n",
       "0  7.01 x 3.33 x 0.51                NaN      1.23000     October 22, 2020   \n",
       "1    6.7 x 3.4 x 2.44                NaN      1.07200   September 23, 2020   \n",
       "2    15.99 x 8.99 x 1                NaN      0.00368         July 1, 2020   \n",
       "3  6.38 x 2.98 x 0.33                NaN      1.92000       April 22, 2020   \n",
       "4  6.06 x 2.92 x 0.71                NaN      1.56800    December 27, 2019   \n",
       "\n",
       "  Is Discontinued By Manufacturer     Item model number  \\\n",
       "0                             NaN               WP8 Pro   \n",
       "1                             NaN        SM-G781UZBMXAA   \n",
       "2                             NaN               G0310WW   \n",
       "3                             NaN  TCL-T770B-2ALCUS11-2   \n",
       "4                             NaN                   WP5   \n",
       "\n",
       "                                          Batteries Voltage  \\\n",
       "0  1 Lithium Polymer batteries required. (included)     NaN   \n",
       "1      1 Lithium ion batteries required. (included)     NaN   \n",
       "2      1 Lithium ion batteries required. (included)     NaN   \n",
       "3      1 Lithium ion batteries required. (included)     NaN   \n",
       "4  1 Lithium Polymer batteries required. (included)     NaN   \n",
       "\n",
       "  Standing screen display size        Colour Color Name  \n",
       "0                          NaN        Orange        NaN  \n",
       "1                          NaN    Cloud Navy        NaN  \n",
       "2                          NaN           NaN        NaN  \n",
       "3                          NaN  Arctic White        NaN  \n",
       "4                          NaN         Black        NaN  "
      ],
      "text/html": "<div>\n<style scoped>\n    .dataframe tbody tr th:only-of-type {\n        vertical-align: middle;\n    }\n\n    .dataframe tbody tr th {\n        vertical-align: top;\n    }\n\n    .dataframe thead th {\n        text-align: right;\n    }\n</style>\n<table border=\"1\" class=\"dataframe\">\n  <thead>\n    <tr style=\"text-align: right;\">\n      <th></th>\n      <th>name</th>\n      <th>ASIN</th>\n      <th>Best Sellers Rank</th>\n      <th>Manufacturer</th>\n      <th>Product Dimensions</th>\n      <th>Package Dimensions</th>\n      <th>Item Weight</th>\n      <th>Date First Available</th>\n      <th>Is Discontinued By Manufacturer</th>\n      <th>Item model number</th>\n      <th>Batteries</th>\n      <th>Voltage</th>\n      <th>Standing screen display size</th>\n      <th>Colour</th>\n      <th>Color Name</th>\n    </tr>\n  </thead>\n  <tbody>\n    <tr>\n      <th>0</th>\n      <td>OUKITEL WP8 Pro (2020) Rugged Smartphone, 6.49...</td>\n      <td>B08HRJM99F</td>\n      <td>#9,229 in Cell Phones &amp; Accessories ( See Top ...</td>\n      <td>OUKITEL</td>\n      <td>7.01 x 3.33 x 0.51</td>\n      <td>NaN</td>\n      <td>1.23000</td>\n      <td>October 22, 2020</td>\n      <td>NaN</td>\n      <td>WP8 Pro</td>\n      <td>1 Lithium Polymer batteries required. (included)</td>\n      <td>NaN</td>\n      <td>NaN</td>\n      <td>Orange</td>\n      <td>NaN</td>\n    </tr>\n    <tr>\n      <th>1</th>\n      <td>Samsung Galaxy S20 FE 5G | Factory Unlocked An...</td>\n      <td>B08FYTSXGQ</td>\n      <td>#491 in Cell Phones &amp; Accessories ( See Top 10...</td>\n      <td>Samsung</td>\n      <td>6.7 x 3.4 x 2.44</td>\n      <td>NaN</td>\n      <td>1.07200</td>\n      <td>September 23, 2020</td>\n      <td>NaN</td>\n      <td>SM-G781UZBMXAA</td>\n      <td>1 Lithium ion batteries required. (included)</td>\n      <td>NaN</td>\n      <td>NaN</td>\n      <td>Cloud Navy</td>\n      <td>NaN</td>\n    </tr>\n    <tr>\n      <th>2</th>\n      <td>BLU G90 Pro – 6.5” HD+ Gaming Smartphone, Quad...</td>\n      <td>B08C6XBCRT</td>\n      <td>#1,506 in Cell Phones &amp; Accessories ( See Top ...</td>\n      <td>BLU</td>\n      <td>15.99 x 8.99 x 1</td>\n      <td>NaN</td>\n      <td>0.00368</td>\n      <td>July 1, 2020</td>\n      <td>NaN</td>\n      <td>G0310WW</td>\n      <td>1 Lithium ion batteries required. (included)</td>\n      <td>NaN</td>\n      <td>NaN</td>\n      <td>NaN</td>\n      <td>NaN</td>\n    </tr>\n    <tr>\n      <th>3</th>\n      <td>TCL 10L, Unlocked Android Smartphone with 6.53...</td>\n      <td>B087LY84RT</td>\n      <td>#4,182 in Cell Phones &amp; Accessories ( See Top ...</td>\n      <td>TCL</td>\n      <td>6.38 x 2.98 x 0.33</td>\n      <td>NaN</td>\n      <td>1.92000</td>\n      <td>April 22, 2020</td>\n      <td>NaN</td>\n      <td>TCL-T770B-2ALCUS11-2</td>\n      <td>1 Lithium ion batteries required. (included)</td>\n      <td>NaN</td>\n      <td>NaN</td>\n      <td>Arctic White</td>\n      <td>NaN</td>\n    </tr>\n    <tr>\n      <th>4</th>\n      <td>OUKITEL WP5 (2020) Rugged Smartphone, 8000mAh ...</td>\n      <td>B0836TG4XB</td>\n      <td>#12,321 in Cell Phones &amp; Accessories ( See Top...</td>\n      <td>OUKITEL</td>\n      <td>6.06 x 2.92 x 0.71</td>\n      <td>NaN</td>\n      <td>1.56800</td>\n      <td>December 27, 2019</td>\n      <td>NaN</td>\n      <td>WP5</td>\n      <td>1 Lithium Polymer batteries required. (included)</td>\n      <td>NaN</td>\n      <td>NaN</td>\n      <td>Black</td>\n      <td>NaN</td>\n    </tr>\n  </tbody>\n</table>\n</div>"
     },
     "metadata": {},
     "execution_count": 527
    }
   ],
   "source": [
    "#Converting ounces weight in pounds to have similar data in 'Item Weight' column. \n",
    "a.a = a['a'].astype(float)\n",
    "a['a'] = np.where(a['b'] == 'ounces',a['a'] * 0.16,a['a'])\n",
    "final['Item Weight'] = a['a']\n",
    "final.head()"
   ]
  },
  {
   "cell_type": "code",
   "execution_count": 528,
   "metadata": {},
   "outputs": [
    {
     "output_type": "execute_result",
     "data": {
      "text/plain": [
       "                                                name        ASIN  \\\n",
       "0  OUKITEL WP8 Pro (2020) Rugged Smartphone, 6.49...  B08HRJM99F   \n",
       "1  Samsung Galaxy S20 FE 5G | Factory Unlocked An...  B08FYTSXGQ   \n",
       "2  BLU G90 Pro – 6.5” HD+ Gaming Smartphone, Quad...  B08C6XBCRT   \n",
       "3  TCL 10L, Unlocked Android Smartphone with 6.53...  B087LY84RT   \n",
       "4  OUKITEL WP5 (2020) Rugged Smartphone, 8000mAh ...  B0836TG4XB   \n",
       "\n",
       "                                   Best Sellers Rank Manufacturer  \\\n",
       "0  #9,229 in Cell Phones & Accessories ( See Top ...      OUKITEL   \n",
       "1  #491 in Cell Phones & Accessories ( See Top 10...      Samsung   \n",
       "2  #1,506 in Cell Phones & Accessories ( See Top ...          BLU   \n",
       "3  #4,182 in Cell Phones & Accessories ( See Top ...          TCL   \n",
       "4  #12,321 in Cell Phones & Accessories ( See Top...      OUKITEL   \n",
       "\n",
       "  Product Dimensions (inches) Package Dimensions  Item Weight (pounds)  \\\n",
       "0          7.01 x 3.33 x 0.51                NaN               1.23000   \n",
       "1            6.7 x 3.4 x 2.44                NaN               1.07200   \n",
       "2            15.99 x 8.99 x 1                NaN               0.00368   \n",
       "3          6.38 x 2.98 x 0.33                NaN               1.92000   \n",
       "4          6.06 x 2.92 x 0.71                NaN               1.56800   \n",
       "\n",
       "  Date First Available Is Discontinued By Manufacturer     Item model number  \\\n",
       "0     October 22, 2020                             NaN               WP8 Pro   \n",
       "1   September 23, 2020                             NaN        SM-G781UZBMXAA   \n",
       "2         July 1, 2020                             NaN               G0310WW   \n",
       "3       April 22, 2020                             NaN  TCL-T770B-2ALCUS11-2   \n",
       "4    December 27, 2019                             NaN                   WP5   \n",
       "\n",
       "                                          Batteries Voltage  \\\n",
       "0  1 Lithium Polymer batteries required. (included)     NaN   \n",
       "1      1 Lithium ion batteries required. (included)     NaN   \n",
       "2      1 Lithium ion batteries required. (included)     NaN   \n",
       "3      1 Lithium ion batteries required. (included)     NaN   \n",
       "4  1 Lithium Polymer batteries required. (included)     NaN   \n",
       "\n",
       "  Standing screen display size        Colour Color Name  \n",
       "0                          NaN        Orange        NaN  \n",
       "1                          NaN    Cloud Navy        NaN  \n",
       "2                          NaN           NaN        NaN  \n",
       "3                          NaN  Arctic White        NaN  \n",
       "4                          NaN         Black        NaN  "
      ],
      "text/html": "<div>\n<style scoped>\n    .dataframe tbody tr th:only-of-type {\n        vertical-align: middle;\n    }\n\n    .dataframe tbody tr th {\n        vertical-align: top;\n    }\n\n    .dataframe thead th {\n        text-align: right;\n    }\n</style>\n<table border=\"1\" class=\"dataframe\">\n  <thead>\n    <tr style=\"text-align: right;\">\n      <th></th>\n      <th>name</th>\n      <th>ASIN</th>\n      <th>Best Sellers Rank</th>\n      <th>Manufacturer</th>\n      <th>Product Dimensions (inches)</th>\n      <th>Package Dimensions</th>\n      <th>Item Weight (pounds)</th>\n      <th>Date First Available</th>\n      <th>Is Discontinued By Manufacturer</th>\n      <th>Item model number</th>\n      <th>Batteries</th>\n      <th>Voltage</th>\n      <th>Standing screen display size</th>\n      <th>Colour</th>\n      <th>Color Name</th>\n    </tr>\n  </thead>\n  <tbody>\n    <tr>\n      <th>0</th>\n      <td>OUKITEL WP8 Pro (2020) Rugged Smartphone, 6.49...</td>\n      <td>B08HRJM99F</td>\n      <td>#9,229 in Cell Phones &amp; Accessories ( See Top ...</td>\n      <td>OUKITEL</td>\n      <td>7.01 x 3.33 x 0.51</td>\n      <td>NaN</td>\n      <td>1.23000</td>\n      <td>October 22, 2020</td>\n      <td>NaN</td>\n      <td>WP8 Pro</td>\n      <td>1 Lithium Polymer batteries required. (included)</td>\n      <td>NaN</td>\n      <td>NaN</td>\n      <td>Orange</td>\n      <td>NaN</td>\n    </tr>\n    <tr>\n      <th>1</th>\n      <td>Samsung Galaxy S20 FE 5G | Factory Unlocked An...</td>\n      <td>B08FYTSXGQ</td>\n      <td>#491 in Cell Phones &amp; Accessories ( See Top 10...</td>\n      <td>Samsung</td>\n      <td>6.7 x 3.4 x 2.44</td>\n      <td>NaN</td>\n      <td>1.07200</td>\n      <td>September 23, 2020</td>\n      <td>NaN</td>\n      <td>SM-G781UZBMXAA</td>\n      <td>1 Lithium ion batteries required. (included)</td>\n      <td>NaN</td>\n      <td>NaN</td>\n      <td>Cloud Navy</td>\n      <td>NaN</td>\n    </tr>\n    <tr>\n      <th>2</th>\n      <td>BLU G90 Pro – 6.5” HD+ Gaming Smartphone, Quad...</td>\n      <td>B08C6XBCRT</td>\n      <td>#1,506 in Cell Phones &amp; Accessories ( See Top ...</td>\n      <td>BLU</td>\n      <td>15.99 x 8.99 x 1</td>\n      <td>NaN</td>\n      <td>0.00368</td>\n      <td>July 1, 2020</td>\n      <td>NaN</td>\n      <td>G0310WW</td>\n      <td>1 Lithium ion batteries required. (included)</td>\n      <td>NaN</td>\n      <td>NaN</td>\n      <td>NaN</td>\n      <td>NaN</td>\n    </tr>\n    <tr>\n      <th>3</th>\n      <td>TCL 10L, Unlocked Android Smartphone with 6.53...</td>\n      <td>B087LY84RT</td>\n      <td>#4,182 in Cell Phones &amp; Accessories ( See Top ...</td>\n      <td>TCL</td>\n      <td>6.38 x 2.98 x 0.33</td>\n      <td>NaN</td>\n      <td>1.92000</td>\n      <td>April 22, 2020</td>\n      <td>NaN</td>\n      <td>TCL-T770B-2ALCUS11-2</td>\n      <td>1 Lithium ion batteries required. (included)</td>\n      <td>NaN</td>\n      <td>NaN</td>\n      <td>Arctic White</td>\n      <td>NaN</td>\n    </tr>\n    <tr>\n      <th>4</th>\n      <td>OUKITEL WP5 (2020) Rugged Smartphone, 8000mAh ...</td>\n      <td>B0836TG4XB</td>\n      <td>#12,321 in Cell Phones &amp; Accessories ( See Top...</td>\n      <td>OUKITEL</td>\n      <td>6.06 x 2.92 x 0.71</td>\n      <td>NaN</td>\n      <td>1.56800</td>\n      <td>December 27, 2019</td>\n      <td>NaN</td>\n      <td>WP5</td>\n      <td>1 Lithium Polymer batteries required. (included)</td>\n      <td>NaN</td>\n      <td>NaN</td>\n      <td>Black</td>\n      <td>NaN</td>\n    </tr>\n  </tbody>\n</table>\n</div>"
     },
     "metadata": {},
     "execution_count": 528
    }
   ],
   "source": [
    "#Renaming columns along with their unit values\n",
    "final = final.rename(columns={'Product Dimensions' : 'Product Dimensions (inches)', 'Item Weight':'Item Weight (pounds)'})\n",
    "final.head()"
   ]
  },
  {
   "cell_type": "code",
   "execution_count": 529,
   "metadata": {},
   "outputs": [],
   "source": [
    "#Fetching only Best Seller Rand from 'Best Seller Rank' column. \n",
    "final['Best_Sellers_Rank_fields'] = final['Best Sellers Rank'].str.split('(').str[0]"
   ]
  },
  {
   "cell_type": "code",
   "execution_count": 530,
   "metadata": {},
   "outputs": [],
   "source": [
    "final['Best Sellers Rank'] = final['Best_Sellers_Rank_fields']"
   ]
  },
  {
   "cell_type": "code",
   "execution_count": 531,
   "metadata": {},
   "outputs": [],
   "source": [
    "final['Best_Sellers_Rank_1'] = final['Best Sellers Rank'].str.split(' in').str[0]"
   ]
  },
  {
   "cell_type": "code",
   "execution_count": 532,
   "metadata": {},
   "outputs": [
    {
     "output_type": "execute_result",
     "data": {
      "text/plain": [
       "                                                   name        ASIN  \\\n",
       "0     OUKITEL WP8 Pro (2020) Rugged Smartphone, 6.49...  B08HRJM99F   \n",
       "1     Samsung Galaxy S20 FE 5G | Factory Unlocked An...  B08FYTSXGQ   \n",
       "2     BLU G90 Pro – 6.5” HD+ Gaming Smartphone, Quad...  B08C6XBCRT   \n",
       "3     TCL 10L, Unlocked Android Smartphone with 6.53...  B087LY84RT   \n",
       "4     OUKITEL WP5 (2020) Rugged Smartphone, 8000mAh ...  B0836TG4XB   \n",
       "...                                                 ...         ...   \n",
       "2720  GEESHIDA 4 Pack Earbud Headphones in-Ear mic 3...  B07P2RQVFL   \n",
       "2721  Blips - New Lab Kit 2 - Transform Your Smartph...  B07YWXZPFQ   \n",
       "2722  Godox X2T-S 2.4G TTL Wireless Flash Trigger wi...  B07W41VP3B   \n",
       "2723  Car Phone Mount,Cell Phone Holder for Car,Anti...  B08MT72RFJ   \n",
       "2724  3 Pack Beg Hug Bunny Webcam Cover Camera Priva...  B088FYXT4K   \n",
       "\n",
       "     Best Sellers Rank             Manufacturer Product Dimensions (inches)  \\\n",
       "0               #9,229                  OUKITEL          7.01 x 3.33 x 0.51   \n",
       "1                 #491                  Samsung            6.7 x 3.4 x 2.44   \n",
       "2               #1,506                      BLU            15.99 x 8.99 x 1   \n",
       "3               #4,182                      TCL          6.38 x 2.98 x 0.33   \n",
       "4              #12,321                  OUKITEL          6.06 x 2.92 x 0.71   \n",
       "...                ...                      ...                         ...   \n",
       "2720            #5,148                   Geeboy                   2 x 6 x 3   \n",
       "2721            #6,571  blips magnify the world          5.91 x 4.72 x 2.36   \n",
       "2722               #64                    Godox                         NaN   \n",
       "2723           #97,438                Senhorita                         NaN   \n",
       "2724            #2,763                      NaN                         NaN   \n",
       "\n",
       "             Package Dimensions  Item Weight (pounds) Date First Available  \\\n",
       "0                           NaN               1.23000     October 22, 2020   \n",
       "1                           NaN               1.07200   September 23, 2020   \n",
       "2                           NaN               0.00368         July 1, 2020   \n",
       "3                           NaN               1.92000       April 22, 2020   \n",
       "4                           NaN               1.56800    December 27, 2019   \n",
       "...                         ...                   ...                  ...   \n",
       "2720                        NaN               0.16000    February 24, 2019   \n",
       "2721                        NaN               0.01696    November 23, 2019   \n",
       "2722  7.72 x 5.16 x 4.49 inches               1.36000        July 25, 2019   \n",
       "2723       4.9 x 3.9 x 2 inches               0.38240     November 5, 2020   \n",
       "2724                        NaN                   NaN         May 11, 2020   \n",
       "\n",
       "     Is Discontinued By Manufacturer     Item model number  \\\n",
       "0                                NaN               WP8 Pro   \n",
       "1                                NaN        SM-G781UZBMXAA   \n",
       "2                                NaN               G0310WW   \n",
       "3                                NaN  TCL-T770B-2ALCUS11-2   \n",
       "4                                NaN                   WP5   \n",
       "...                              ...                   ...   \n",
       "2720                             NaN                   NaN   \n",
       "2721                             NaN                   NaN   \n",
       "2722                             NaN                   NaN   \n",
       "2723                             NaN                   NaN   \n",
       "2724                             NaN                   NaN   \n",
       "\n",
       "                                             Batteries Voltage  \\\n",
       "0     1 Lithium Polymer batteries required. (included)     NaN   \n",
       "1         1 Lithium ion batteries required. (included)     NaN   \n",
       "2         1 Lithium ion batteries required. (included)     NaN   \n",
       "3         1 Lithium ion batteries required. (included)     NaN   \n",
       "4     1 Lithium Polymer batteries required. (included)     NaN   \n",
       "...                                                ...     ...   \n",
       "2720                                               NaN     NaN   \n",
       "2721    2 Lithium Metal batteries required. (included)     NaN   \n",
       "2722                                               NaN     NaN   \n",
       "2723                                               NaN     NaN   \n",
       "2724                                               NaN     NaN   \n",
       "\n",
       "     Standing screen display size        Colour Color Name  \\\n",
       "0                             NaN        Orange        NaN   \n",
       "1                             NaN    Cloud Navy        NaN   \n",
       "2                             NaN           NaN        NaN   \n",
       "3                             NaN  Arctic White        NaN   \n",
       "4                             NaN         Black        NaN   \n",
       "...                           ...           ...        ...   \n",
       "2720                          NaN           NaN        NaN   \n",
       "2721                          NaN           NaN        NaN   \n",
       "2722                          NaN           NaN        NaN   \n",
       "2723                          NaN      Original        NaN   \n",
       "2724                          NaN           NaN        NaN   \n",
       "\n",
       "                          Best_Sellers_Rank_fields Best_Sellers_Rank_1  \n",
       "0             #9,229 in Cell Phones & Accessories               #9,229  \n",
       "1               #491 in Cell Phones & Accessories                 #491  \n",
       "2             #1,506 in Cell Phones & Accessories               #1,506  \n",
       "3             #4,182 in Cell Phones & Accessories               #4,182  \n",
       "4            #12,321 in Cell Phones & Accessories              #12,321  \n",
       "...                                            ...                 ...  \n",
       "2720          #5,148 in Earbud & In-Ear Headphones              #5,148  \n",
       "2721                     #6,571 in Camera & Photo               #6,571  \n",
       "2722  #64 in Photographic Lighting Remote Triggers                 #64  \n",
       "2723         #97,438 in Cell Phones & Accessories              #97,438  \n",
       "2724                             #2,763 in Webcams              #2,763  \n",
       "\n",
       "[2725 rows x 17 columns]"
      ],
      "text/html": "<div>\n<style scoped>\n    .dataframe tbody tr th:only-of-type {\n        vertical-align: middle;\n    }\n\n    .dataframe tbody tr th {\n        vertical-align: top;\n    }\n\n    .dataframe thead th {\n        text-align: right;\n    }\n</style>\n<table border=\"1\" class=\"dataframe\">\n  <thead>\n    <tr style=\"text-align: right;\">\n      <th></th>\n      <th>name</th>\n      <th>ASIN</th>\n      <th>Best Sellers Rank</th>\n      <th>Manufacturer</th>\n      <th>Product Dimensions (inches)</th>\n      <th>Package Dimensions</th>\n      <th>Item Weight (pounds)</th>\n      <th>Date First Available</th>\n      <th>Is Discontinued By Manufacturer</th>\n      <th>Item model number</th>\n      <th>Batteries</th>\n      <th>Voltage</th>\n      <th>Standing screen display size</th>\n      <th>Colour</th>\n      <th>Color Name</th>\n      <th>Best_Sellers_Rank_fields</th>\n      <th>Best_Sellers_Rank_1</th>\n    </tr>\n  </thead>\n  <tbody>\n    <tr>\n      <th>0</th>\n      <td>OUKITEL WP8 Pro (2020) Rugged Smartphone, 6.49...</td>\n      <td>B08HRJM99F</td>\n      <td>#9,229</td>\n      <td>OUKITEL</td>\n      <td>7.01 x 3.33 x 0.51</td>\n      <td>NaN</td>\n      <td>1.23000</td>\n      <td>October 22, 2020</td>\n      <td>NaN</td>\n      <td>WP8 Pro</td>\n      <td>1 Lithium Polymer batteries required. (included)</td>\n      <td>NaN</td>\n      <td>NaN</td>\n      <td>Orange</td>\n      <td>NaN</td>\n      <td>#9,229 in Cell Phones &amp; Accessories</td>\n      <td>#9,229</td>\n    </tr>\n    <tr>\n      <th>1</th>\n      <td>Samsung Galaxy S20 FE 5G | Factory Unlocked An...</td>\n      <td>B08FYTSXGQ</td>\n      <td>#491</td>\n      <td>Samsung</td>\n      <td>6.7 x 3.4 x 2.44</td>\n      <td>NaN</td>\n      <td>1.07200</td>\n      <td>September 23, 2020</td>\n      <td>NaN</td>\n      <td>SM-G781UZBMXAA</td>\n      <td>1 Lithium ion batteries required. (included)</td>\n      <td>NaN</td>\n      <td>NaN</td>\n      <td>Cloud Navy</td>\n      <td>NaN</td>\n      <td>#491 in Cell Phones &amp; Accessories</td>\n      <td>#491</td>\n    </tr>\n    <tr>\n      <th>2</th>\n      <td>BLU G90 Pro – 6.5” HD+ Gaming Smartphone, Quad...</td>\n      <td>B08C6XBCRT</td>\n      <td>#1,506</td>\n      <td>BLU</td>\n      <td>15.99 x 8.99 x 1</td>\n      <td>NaN</td>\n      <td>0.00368</td>\n      <td>July 1, 2020</td>\n      <td>NaN</td>\n      <td>G0310WW</td>\n      <td>1 Lithium ion batteries required. (included)</td>\n      <td>NaN</td>\n      <td>NaN</td>\n      <td>NaN</td>\n      <td>NaN</td>\n      <td>#1,506 in Cell Phones &amp; Accessories</td>\n      <td>#1,506</td>\n    </tr>\n    <tr>\n      <th>3</th>\n      <td>TCL 10L, Unlocked Android Smartphone with 6.53...</td>\n      <td>B087LY84RT</td>\n      <td>#4,182</td>\n      <td>TCL</td>\n      <td>6.38 x 2.98 x 0.33</td>\n      <td>NaN</td>\n      <td>1.92000</td>\n      <td>April 22, 2020</td>\n      <td>NaN</td>\n      <td>TCL-T770B-2ALCUS11-2</td>\n      <td>1 Lithium ion batteries required. (included)</td>\n      <td>NaN</td>\n      <td>NaN</td>\n      <td>Arctic White</td>\n      <td>NaN</td>\n      <td>#4,182 in Cell Phones &amp; Accessories</td>\n      <td>#4,182</td>\n    </tr>\n    <tr>\n      <th>4</th>\n      <td>OUKITEL WP5 (2020) Rugged Smartphone, 8000mAh ...</td>\n      <td>B0836TG4XB</td>\n      <td>#12,321</td>\n      <td>OUKITEL</td>\n      <td>6.06 x 2.92 x 0.71</td>\n      <td>NaN</td>\n      <td>1.56800</td>\n      <td>December 27, 2019</td>\n      <td>NaN</td>\n      <td>WP5</td>\n      <td>1 Lithium Polymer batteries required. (included)</td>\n      <td>NaN</td>\n      <td>NaN</td>\n      <td>Black</td>\n      <td>NaN</td>\n      <td>#12,321 in Cell Phones &amp; Accessories</td>\n      <td>#12,321</td>\n    </tr>\n    <tr>\n      <th>...</th>\n      <td>...</td>\n      <td>...</td>\n      <td>...</td>\n      <td>...</td>\n      <td>...</td>\n      <td>...</td>\n      <td>...</td>\n      <td>...</td>\n      <td>...</td>\n      <td>...</td>\n      <td>...</td>\n      <td>...</td>\n      <td>...</td>\n      <td>...</td>\n      <td>...</td>\n      <td>...</td>\n      <td>...</td>\n    </tr>\n    <tr>\n      <th>2720</th>\n      <td>GEESHIDA 4 Pack Earbud Headphones in-Ear mic 3...</td>\n      <td>B07P2RQVFL</td>\n      <td>#5,148</td>\n      <td>Geeboy</td>\n      <td>2 x 6 x 3</td>\n      <td>NaN</td>\n      <td>0.16000</td>\n      <td>February 24, 2019</td>\n      <td>NaN</td>\n      <td>NaN</td>\n      <td>NaN</td>\n      <td>NaN</td>\n      <td>NaN</td>\n      <td>NaN</td>\n      <td>NaN</td>\n      <td>#5,148 in Earbud &amp; In-Ear Headphones</td>\n      <td>#5,148</td>\n    </tr>\n    <tr>\n      <th>2721</th>\n      <td>Blips - New Lab Kit 2 - Transform Your Smartph...</td>\n      <td>B07YWXZPFQ</td>\n      <td>#6,571</td>\n      <td>blips magnify the world</td>\n      <td>5.91 x 4.72 x 2.36</td>\n      <td>NaN</td>\n      <td>0.01696</td>\n      <td>November 23, 2019</td>\n      <td>NaN</td>\n      <td>NaN</td>\n      <td>2 Lithium Metal batteries required. (included)</td>\n      <td>NaN</td>\n      <td>NaN</td>\n      <td>NaN</td>\n      <td>NaN</td>\n      <td>#6,571 in Camera &amp; Photo</td>\n      <td>#6,571</td>\n    </tr>\n    <tr>\n      <th>2722</th>\n      <td>Godox X2T-S 2.4G TTL Wireless Flash Trigger wi...</td>\n      <td>B07W41VP3B</td>\n      <td>#64</td>\n      <td>Godox</td>\n      <td>NaN</td>\n      <td>7.72 x 5.16 x 4.49 inches</td>\n      <td>1.36000</td>\n      <td>July 25, 2019</td>\n      <td>NaN</td>\n      <td>NaN</td>\n      <td>NaN</td>\n      <td>NaN</td>\n      <td>NaN</td>\n      <td>NaN</td>\n      <td>NaN</td>\n      <td>#64 in Photographic Lighting Remote Triggers</td>\n      <td>#64</td>\n    </tr>\n    <tr>\n      <th>2723</th>\n      <td>Car Phone Mount,Cell Phone Holder for Car,Anti...</td>\n      <td>B08MT72RFJ</td>\n      <td>#97,438</td>\n      <td>Senhorita</td>\n      <td>NaN</td>\n      <td>4.9 x 3.9 x 2 inches</td>\n      <td>0.38240</td>\n      <td>November 5, 2020</td>\n      <td>NaN</td>\n      <td>NaN</td>\n      <td>NaN</td>\n      <td>NaN</td>\n      <td>NaN</td>\n      <td>Original</td>\n      <td>NaN</td>\n      <td>#97,438 in Cell Phones &amp; Accessories</td>\n      <td>#97,438</td>\n    </tr>\n    <tr>\n      <th>2724</th>\n      <td>3 Pack Beg Hug Bunny Webcam Cover Camera Priva...</td>\n      <td>B088FYXT4K</td>\n      <td>#2,763</td>\n      <td>NaN</td>\n      <td>NaN</td>\n      <td>NaN</td>\n      <td>NaN</td>\n      <td>May 11, 2020</td>\n      <td>NaN</td>\n      <td>NaN</td>\n      <td>NaN</td>\n      <td>NaN</td>\n      <td>NaN</td>\n      <td>NaN</td>\n      <td>NaN</td>\n      <td>#2,763 in Webcams</td>\n      <td>#2,763</td>\n    </tr>\n  </tbody>\n</table>\n<p>2725 rows × 17 columns</p>\n</div>"
     },
     "metadata": {},
     "execution_count": 532
    }
   ],
   "source": [
    "final['Best Sellers Rank'] = final['Best_Sellers_Rank_1']\n",
    "final"
   ]
  },
  {
   "cell_type": "code",
   "execution_count": 533,
   "metadata": {},
   "outputs": [],
   "source": [
    "final['Best_Sellers_Rank_fields_1'] = final['Best_Sellers_Rank_fields'].str.split('in ').str[1]"
   ]
  },
  {
   "cell_type": "code",
   "execution_count": 534,
   "metadata": {},
   "outputs": [],
   "source": [
    "final['Best_Sellers_Rank_fields'] = final['Best_Sellers_Rank_fields_1']"
   ]
  },
  {
   "cell_type": "code",
   "execution_count": 535,
   "metadata": {},
   "outputs": [
    {
     "output_type": "execute_result",
     "data": {
      "text/plain": [
       "                                                name        ASIN  \\\n",
       "0  OUKITEL WP8 Pro (2020) Rugged Smartphone, 6.49...  B08HRJM99F   \n",
       "1  Samsung Galaxy S20 FE 5G | Factory Unlocked An...  B08FYTSXGQ   \n",
       "2  BLU G90 Pro – 6.5” HD+ Gaming Smartphone, Quad...  B08C6XBCRT   \n",
       "3  TCL 10L, Unlocked Android Smartphone with 6.53...  B087LY84RT   \n",
       "4  OUKITEL WP5 (2020) Rugged Smartphone, 8000mAh ...  B0836TG4XB   \n",
       "\n",
       "  Best Sellers Rank Manufacturer Product Dimensions (inches)  \\\n",
       "0            #9,229      OUKITEL          7.01 x 3.33 x 0.51   \n",
       "1              #491      Samsung            6.7 x 3.4 x 2.44   \n",
       "2            #1,506          BLU            15.99 x 8.99 x 1   \n",
       "3            #4,182          TCL          6.38 x 2.98 x 0.33   \n",
       "4           #12,321      OUKITEL          6.06 x 2.92 x 0.71   \n",
       "\n",
       "  Package Dimensions  Item Weight (pounds) Date First Available  \\\n",
       "0                NaN               1.23000     October 22, 2020   \n",
       "1                NaN               1.07200   September 23, 2020   \n",
       "2                NaN               0.00368         July 1, 2020   \n",
       "3                NaN               1.92000       April 22, 2020   \n",
       "4                NaN               1.56800    December 27, 2019   \n",
       "\n",
       "  Is Discontinued By Manufacturer     Item model number  \\\n",
       "0                             NaN               WP8 Pro   \n",
       "1                             NaN        SM-G781UZBMXAA   \n",
       "2                             NaN               G0310WW   \n",
       "3                             NaN  TCL-T770B-2ALCUS11-2   \n",
       "4                             NaN                   WP5   \n",
       "\n",
       "                                          Batteries Voltage  \\\n",
       "0  1 Lithium Polymer batteries required. (included)     NaN   \n",
       "1      1 Lithium ion batteries required. (included)     NaN   \n",
       "2      1 Lithium ion batteries required. (included)     NaN   \n",
       "3      1 Lithium ion batteries required. (included)     NaN   \n",
       "4  1 Lithium Polymer batteries required. (included)     NaN   \n",
       "\n",
       "  Standing screen display size        Colour Color Name  \\\n",
       "0                          NaN        Orange        NaN   \n",
       "1                          NaN    Cloud Navy        NaN   \n",
       "2                          NaN           NaN        NaN   \n",
       "3                          NaN  Arctic White        NaN   \n",
       "4                          NaN         Black        NaN   \n",
       "\n",
       "     Best_Sellers_Rank_fields Best_Sellers_Rank_1  Best_Sellers_Rank_fields_1  \n",
       "0  Cell Phones & Accessories               #9,229  Cell Phones & Accessories   \n",
       "1  Cell Phones & Accessories                 #491  Cell Phones & Accessories   \n",
       "2  Cell Phones & Accessories               #1,506  Cell Phones & Accessories   \n",
       "3  Cell Phones & Accessories               #4,182  Cell Phones & Accessories   \n",
       "4  Cell Phones & Accessories              #12,321  Cell Phones & Accessories   "
      ],
      "text/html": "<div>\n<style scoped>\n    .dataframe tbody tr th:only-of-type {\n        vertical-align: middle;\n    }\n\n    .dataframe tbody tr th {\n        vertical-align: top;\n    }\n\n    .dataframe thead th {\n        text-align: right;\n    }\n</style>\n<table border=\"1\" class=\"dataframe\">\n  <thead>\n    <tr style=\"text-align: right;\">\n      <th></th>\n      <th>name</th>\n      <th>ASIN</th>\n      <th>Best Sellers Rank</th>\n      <th>Manufacturer</th>\n      <th>Product Dimensions (inches)</th>\n      <th>Package Dimensions</th>\n      <th>Item Weight (pounds)</th>\n      <th>Date First Available</th>\n      <th>Is Discontinued By Manufacturer</th>\n      <th>Item model number</th>\n      <th>Batteries</th>\n      <th>Voltage</th>\n      <th>Standing screen display size</th>\n      <th>Colour</th>\n      <th>Color Name</th>\n      <th>Best_Sellers_Rank_fields</th>\n      <th>Best_Sellers_Rank_1</th>\n      <th>Best_Sellers_Rank_fields_1</th>\n    </tr>\n  </thead>\n  <tbody>\n    <tr>\n      <th>0</th>\n      <td>OUKITEL WP8 Pro (2020) Rugged Smartphone, 6.49...</td>\n      <td>B08HRJM99F</td>\n      <td>#9,229</td>\n      <td>OUKITEL</td>\n      <td>7.01 x 3.33 x 0.51</td>\n      <td>NaN</td>\n      <td>1.23000</td>\n      <td>October 22, 2020</td>\n      <td>NaN</td>\n      <td>WP8 Pro</td>\n      <td>1 Lithium Polymer batteries required. (included)</td>\n      <td>NaN</td>\n      <td>NaN</td>\n      <td>Orange</td>\n      <td>NaN</td>\n      <td>Cell Phones &amp; Accessories</td>\n      <td>#9,229</td>\n      <td>Cell Phones &amp; Accessories</td>\n    </tr>\n    <tr>\n      <th>1</th>\n      <td>Samsung Galaxy S20 FE 5G | Factory Unlocked An...</td>\n      <td>B08FYTSXGQ</td>\n      <td>#491</td>\n      <td>Samsung</td>\n      <td>6.7 x 3.4 x 2.44</td>\n      <td>NaN</td>\n      <td>1.07200</td>\n      <td>September 23, 2020</td>\n      <td>NaN</td>\n      <td>SM-G781UZBMXAA</td>\n      <td>1 Lithium ion batteries required. (included)</td>\n      <td>NaN</td>\n      <td>NaN</td>\n      <td>Cloud Navy</td>\n      <td>NaN</td>\n      <td>Cell Phones &amp; Accessories</td>\n      <td>#491</td>\n      <td>Cell Phones &amp; Accessories</td>\n    </tr>\n    <tr>\n      <th>2</th>\n      <td>BLU G90 Pro – 6.5” HD+ Gaming Smartphone, Quad...</td>\n      <td>B08C6XBCRT</td>\n      <td>#1,506</td>\n      <td>BLU</td>\n      <td>15.99 x 8.99 x 1</td>\n      <td>NaN</td>\n      <td>0.00368</td>\n      <td>July 1, 2020</td>\n      <td>NaN</td>\n      <td>G0310WW</td>\n      <td>1 Lithium ion batteries required. (included)</td>\n      <td>NaN</td>\n      <td>NaN</td>\n      <td>NaN</td>\n      <td>NaN</td>\n      <td>Cell Phones &amp; Accessories</td>\n      <td>#1,506</td>\n      <td>Cell Phones &amp; Accessories</td>\n    </tr>\n    <tr>\n      <th>3</th>\n      <td>TCL 10L, Unlocked Android Smartphone with 6.53...</td>\n      <td>B087LY84RT</td>\n      <td>#4,182</td>\n      <td>TCL</td>\n      <td>6.38 x 2.98 x 0.33</td>\n      <td>NaN</td>\n      <td>1.92000</td>\n      <td>April 22, 2020</td>\n      <td>NaN</td>\n      <td>TCL-T770B-2ALCUS11-2</td>\n      <td>1 Lithium ion batteries required. (included)</td>\n      <td>NaN</td>\n      <td>NaN</td>\n      <td>Arctic White</td>\n      <td>NaN</td>\n      <td>Cell Phones &amp; Accessories</td>\n      <td>#4,182</td>\n      <td>Cell Phones &amp; Accessories</td>\n    </tr>\n    <tr>\n      <th>4</th>\n      <td>OUKITEL WP5 (2020) Rugged Smartphone, 8000mAh ...</td>\n      <td>B0836TG4XB</td>\n      <td>#12,321</td>\n      <td>OUKITEL</td>\n      <td>6.06 x 2.92 x 0.71</td>\n      <td>NaN</td>\n      <td>1.56800</td>\n      <td>December 27, 2019</td>\n      <td>NaN</td>\n      <td>WP5</td>\n      <td>1 Lithium Polymer batteries required. (included)</td>\n      <td>NaN</td>\n      <td>NaN</td>\n      <td>Black</td>\n      <td>NaN</td>\n      <td>Cell Phones &amp; Accessories</td>\n      <td>#12,321</td>\n      <td>Cell Phones &amp; Accessories</td>\n    </tr>\n  </tbody>\n</table>\n</div>"
     },
     "metadata": {},
     "execution_count": 535
    }
   ],
   "source": [
    "final.head()"
   ]
  },
  {
   "cell_type": "code",
   "execution_count": 536,
   "metadata": {},
   "outputs": [],
   "source": [
    "#Dropping few columns which are not required\n",
    "final.drop(['Best_Sellers_Rank_1', 'Best_Sellers_Rank_fields_1'], axis=1, inplace=True)"
   ]
  },
  {
   "cell_type": "code",
   "execution_count": 537,
   "metadata": {},
   "outputs": [
    {
     "output_type": "execute_result",
     "data": {
      "text/plain": [
       "['name',\n",
       " 'ASIN',\n",
       " 'Best Sellers Rank',\n",
       " 'Manufacturer',\n",
       " 'Product Dimensions (inches)',\n",
       " 'Package Dimensions',\n",
       " 'Item Weight (pounds)',\n",
       " 'Date First Available',\n",
       " 'Is Discontinued By Manufacturer',\n",
       " 'Item model number',\n",
       " 'Batteries',\n",
       " 'Voltage',\n",
       " 'Standing screen display size',\n",
       " 'Colour',\n",
       " 'Color Name',\n",
       " 'Best_Sellers_Rank_fields']"
      ]
     },
     "metadata": {},
     "execution_count": 537
    }
   ],
   "source": [
    "cols_b1= final.columns.tolist()\n",
    "cols_b1"
   ]
  },
  {
   "cell_type": "code",
   "execution_count": 538,
   "metadata": {},
   "outputs": [
    {
     "output_type": "execute_result",
     "data": {
      "text/plain": [
       "['name',\n",
       " 'ASIN',\n",
       " 'Best Sellers Rank',\n",
       " 'Best_Sellers_Rank_fields',\n",
       " 'Manufacturer',\n",
       " 'Product Dimensions (inches)',\n",
       " 'Package Dimensions',\n",
       " 'Item Weight (pounds)',\n",
       " 'Date First Available',\n",
       " 'Is Discontinued By Manufacturer',\n",
       " 'Item model number',\n",
       " 'Batteries',\n",
       " 'Voltage',\n",
       " 'Standing screen display size',\n",
       " 'Colour',\n",
       " 'Color Name']"
      ]
     },
     "metadata": {},
     "execution_count": 538
    }
   ],
   "source": [
    "cols_b1= cols_b1[:3] + cols_b1[-1:] + cols_b1[3:-1]\n",
    "cols_b1"
   ]
  },
  {
   "cell_type": "code",
   "execution_count": 539,
   "metadata": {},
   "outputs": [
    {
     "output_type": "execute_result",
     "data": {
      "text/plain": [
       "                                                name        ASIN  \\\n",
       "0  OUKITEL WP8 Pro (2020) Rugged Smartphone, 6.49...  B08HRJM99F   \n",
       "1  Samsung Galaxy S20 FE 5G | Factory Unlocked An...  B08FYTSXGQ   \n",
       "2  BLU G90 Pro – 6.5” HD+ Gaming Smartphone, Quad...  B08C6XBCRT   \n",
       "3  TCL 10L, Unlocked Android Smartphone with 6.53...  B087LY84RT   \n",
       "4  OUKITEL WP5 (2020) Rugged Smartphone, 8000mAh ...  B0836TG4XB   \n",
       "\n",
       "  Best Sellers Rank    Best_Sellers_Rank_fields Manufacturer  \\\n",
       "0            #9,229  Cell Phones & Accessories       OUKITEL   \n",
       "1              #491  Cell Phones & Accessories       Samsung   \n",
       "2            #1,506  Cell Phones & Accessories           BLU   \n",
       "3            #4,182  Cell Phones & Accessories           TCL   \n",
       "4           #12,321  Cell Phones & Accessories       OUKITEL   \n",
       "\n",
       "  Product Dimensions (inches) Package Dimensions  Item Weight (pounds)  \\\n",
       "0          7.01 x 3.33 x 0.51                NaN               1.23000   \n",
       "1            6.7 x 3.4 x 2.44                NaN               1.07200   \n",
       "2            15.99 x 8.99 x 1                NaN               0.00368   \n",
       "3          6.38 x 2.98 x 0.33                NaN               1.92000   \n",
       "4          6.06 x 2.92 x 0.71                NaN               1.56800   \n",
       "\n",
       "  Date First Available Is Discontinued By Manufacturer     Item model number  \\\n",
       "0     October 22, 2020                             NaN               WP8 Pro   \n",
       "1   September 23, 2020                             NaN        SM-G781UZBMXAA   \n",
       "2         July 1, 2020                             NaN               G0310WW   \n",
       "3       April 22, 2020                             NaN  TCL-T770B-2ALCUS11-2   \n",
       "4    December 27, 2019                             NaN                   WP5   \n",
       "\n",
       "                                          Batteries Voltage  \\\n",
       "0  1 Lithium Polymer batteries required. (included)     NaN   \n",
       "1      1 Lithium ion batteries required. (included)     NaN   \n",
       "2      1 Lithium ion batteries required. (included)     NaN   \n",
       "3      1 Lithium ion batteries required. (included)     NaN   \n",
       "4  1 Lithium Polymer batteries required. (included)     NaN   \n",
       "\n",
       "  Standing screen display size        Colour Color Name  \n",
       "0                          NaN        Orange        NaN  \n",
       "1                          NaN    Cloud Navy        NaN  \n",
       "2                          NaN           NaN        NaN  \n",
       "3                          NaN  Arctic White        NaN  \n",
       "4                          NaN         Black        NaN  "
      ],
      "text/html": "<div>\n<style scoped>\n    .dataframe tbody tr th:only-of-type {\n        vertical-align: middle;\n    }\n\n    .dataframe tbody tr th {\n        vertical-align: top;\n    }\n\n    .dataframe thead th {\n        text-align: right;\n    }\n</style>\n<table border=\"1\" class=\"dataframe\">\n  <thead>\n    <tr style=\"text-align: right;\">\n      <th></th>\n      <th>name</th>\n      <th>ASIN</th>\n      <th>Best Sellers Rank</th>\n      <th>Best_Sellers_Rank_fields</th>\n      <th>Manufacturer</th>\n      <th>Product Dimensions (inches)</th>\n      <th>Package Dimensions</th>\n      <th>Item Weight (pounds)</th>\n      <th>Date First Available</th>\n      <th>Is Discontinued By Manufacturer</th>\n      <th>Item model number</th>\n      <th>Batteries</th>\n      <th>Voltage</th>\n      <th>Standing screen display size</th>\n      <th>Colour</th>\n      <th>Color Name</th>\n    </tr>\n  </thead>\n  <tbody>\n    <tr>\n      <th>0</th>\n      <td>OUKITEL WP8 Pro (2020) Rugged Smartphone, 6.49...</td>\n      <td>B08HRJM99F</td>\n      <td>#9,229</td>\n      <td>Cell Phones &amp; Accessories</td>\n      <td>OUKITEL</td>\n      <td>7.01 x 3.33 x 0.51</td>\n      <td>NaN</td>\n      <td>1.23000</td>\n      <td>October 22, 2020</td>\n      <td>NaN</td>\n      <td>WP8 Pro</td>\n      <td>1 Lithium Polymer batteries required. (included)</td>\n      <td>NaN</td>\n      <td>NaN</td>\n      <td>Orange</td>\n      <td>NaN</td>\n    </tr>\n    <tr>\n      <th>1</th>\n      <td>Samsung Galaxy S20 FE 5G | Factory Unlocked An...</td>\n      <td>B08FYTSXGQ</td>\n      <td>#491</td>\n      <td>Cell Phones &amp; Accessories</td>\n      <td>Samsung</td>\n      <td>6.7 x 3.4 x 2.44</td>\n      <td>NaN</td>\n      <td>1.07200</td>\n      <td>September 23, 2020</td>\n      <td>NaN</td>\n      <td>SM-G781UZBMXAA</td>\n      <td>1 Lithium ion batteries required. (included)</td>\n      <td>NaN</td>\n      <td>NaN</td>\n      <td>Cloud Navy</td>\n      <td>NaN</td>\n    </tr>\n    <tr>\n      <th>2</th>\n      <td>BLU G90 Pro – 6.5” HD+ Gaming Smartphone, Quad...</td>\n      <td>B08C6XBCRT</td>\n      <td>#1,506</td>\n      <td>Cell Phones &amp; Accessories</td>\n      <td>BLU</td>\n      <td>15.99 x 8.99 x 1</td>\n      <td>NaN</td>\n      <td>0.00368</td>\n      <td>July 1, 2020</td>\n      <td>NaN</td>\n      <td>G0310WW</td>\n      <td>1 Lithium ion batteries required. (included)</td>\n      <td>NaN</td>\n      <td>NaN</td>\n      <td>NaN</td>\n      <td>NaN</td>\n    </tr>\n    <tr>\n      <th>3</th>\n      <td>TCL 10L, Unlocked Android Smartphone with 6.53...</td>\n      <td>B087LY84RT</td>\n      <td>#4,182</td>\n      <td>Cell Phones &amp; Accessories</td>\n      <td>TCL</td>\n      <td>6.38 x 2.98 x 0.33</td>\n      <td>NaN</td>\n      <td>1.92000</td>\n      <td>April 22, 2020</td>\n      <td>NaN</td>\n      <td>TCL-T770B-2ALCUS11-2</td>\n      <td>1 Lithium ion batteries required. (included)</td>\n      <td>NaN</td>\n      <td>NaN</td>\n      <td>Arctic White</td>\n      <td>NaN</td>\n    </tr>\n    <tr>\n      <th>4</th>\n      <td>OUKITEL WP5 (2020) Rugged Smartphone, 8000mAh ...</td>\n      <td>B0836TG4XB</td>\n      <td>#12,321</td>\n      <td>Cell Phones &amp; Accessories</td>\n      <td>OUKITEL</td>\n      <td>6.06 x 2.92 x 0.71</td>\n      <td>NaN</td>\n      <td>1.56800</td>\n      <td>December 27, 2019</td>\n      <td>NaN</td>\n      <td>WP5</td>\n      <td>1 Lithium Polymer batteries required. (included)</td>\n      <td>NaN</td>\n      <td>NaN</td>\n      <td>Black</td>\n      <td>NaN</td>\n    </tr>\n  </tbody>\n</table>\n</div>"
     },
     "metadata": {},
     "execution_count": 539
    }
   ],
   "source": [
    "final = final[cols_b1]\n",
    "final.head()"
   ]
  },
  {
   "cell_type": "code",
   "execution_count": 540,
   "metadata": {},
   "outputs": [],
   "source": [
    "#Removing Hash and commas from Best Seller Rank\n",
    "final['Best Sellers Rank'] = final['Best Sellers Rank'].str.replace('#', '').str.replace(',', '')"
   ]
  },
  {
   "cell_type": "code",
   "execution_count": 541,
   "metadata": {},
   "outputs": [
    {
     "output_type": "execute_result",
     "data": {
      "text/plain": [
       "                                                name        ASIN  \\\n",
       "0  OUKITEL WP8 Pro (2020) Rugged Smartphone, 6.49...  B08HRJM99F   \n",
       "1  Samsung Galaxy S20 FE 5G | Factory Unlocked An...  B08FYTSXGQ   \n",
       "2  BLU G90 Pro – 6.5” HD+ Gaming Smartphone, Quad...  B08C6XBCRT   \n",
       "3  TCL 10L, Unlocked Android Smartphone with 6.53...  B087LY84RT   \n",
       "4  OUKITEL WP5 (2020) Rugged Smartphone, 8000mAh ...  B0836TG4XB   \n",
       "\n",
       "  Best Sellers Rank    Best_Sellers_Rank_fields Manufacturer  \\\n",
       "0              9229  Cell Phones & Accessories       OUKITEL   \n",
       "1               491  Cell Phones & Accessories       Samsung   \n",
       "2              1506  Cell Phones & Accessories           BLU   \n",
       "3              4182  Cell Phones & Accessories           TCL   \n",
       "4             12321  Cell Phones & Accessories       OUKITEL   \n",
       "\n",
       "  Product Dimensions (inches) Package Dimensions  Item Weight (pounds)  \\\n",
       "0          7.01 x 3.33 x 0.51                NaN               1.23000   \n",
       "1            6.7 x 3.4 x 2.44                NaN               1.07200   \n",
       "2            15.99 x 8.99 x 1                NaN               0.00368   \n",
       "3          6.38 x 2.98 x 0.33                NaN               1.92000   \n",
       "4          6.06 x 2.92 x 0.71                NaN               1.56800   \n",
       "\n",
       "  Date First Available Is Discontinued By Manufacturer     Item model number  \\\n",
       "0     October 22, 2020                             NaN               WP8 Pro   \n",
       "1   September 23, 2020                             NaN        SM-G781UZBMXAA   \n",
       "2         July 1, 2020                             NaN               G0310WW   \n",
       "3       April 22, 2020                             NaN  TCL-T770B-2ALCUS11-2   \n",
       "4    December 27, 2019                             NaN                   WP5   \n",
       "\n",
       "                                          Batteries Voltage  \\\n",
       "0  1 Lithium Polymer batteries required. (included)     NaN   \n",
       "1      1 Lithium ion batteries required. (included)     NaN   \n",
       "2      1 Lithium ion batteries required. (included)     NaN   \n",
       "3      1 Lithium ion batteries required. (included)     NaN   \n",
       "4  1 Lithium Polymer batteries required. (included)     NaN   \n",
       "\n",
       "  Standing screen display size        Colour Color Name  \n",
       "0                          NaN        Orange        NaN  \n",
       "1                          NaN    Cloud Navy        NaN  \n",
       "2                          NaN           NaN        NaN  \n",
       "3                          NaN  Arctic White        NaN  \n",
       "4                          NaN         Black        NaN  "
      ],
      "text/html": "<div>\n<style scoped>\n    .dataframe tbody tr th:only-of-type {\n        vertical-align: middle;\n    }\n\n    .dataframe tbody tr th {\n        vertical-align: top;\n    }\n\n    .dataframe thead th {\n        text-align: right;\n    }\n</style>\n<table border=\"1\" class=\"dataframe\">\n  <thead>\n    <tr style=\"text-align: right;\">\n      <th></th>\n      <th>name</th>\n      <th>ASIN</th>\n      <th>Best Sellers Rank</th>\n      <th>Best_Sellers_Rank_fields</th>\n      <th>Manufacturer</th>\n      <th>Product Dimensions (inches)</th>\n      <th>Package Dimensions</th>\n      <th>Item Weight (pounds)</th>\n      <th>Date First Available</th>\n      <th>Is Discontinued By Manufacturer</th>\n      <th>Item model number</th>\n      <th>Batteries</th>\n      <th>Voltage</th>\n      <th>Standing screen display size</th>\n      <th>Colour</th>\n      <th>Color Name</th>\n    </tr>\n  </thead>\n  <tbody>\n    <tr>\n      <th>0</th>\n      <td>OUKITEL WP8 Pro (2020) Rugged Smartphone, 6.49...</td>\n      <td>B08HRJM99F</td>\n      <td>9229</td>\n      <td>Cell Phones &amp; Accessories</td>\n      <td>OUKITEL</td>\n      <td>7.01 x 3.33 x 0.51</td>\n      <td>NaN</td>\n      <td>1.23000</td>\n      <td>October 22, 2020</td>\n      <td>NaN</td>\n      <td>WP8 Pro</td>\n      <td>1 Lithium Polymer batteries required. (included)</td>\n      <td>NaN</td>\n      <td>NaN</td>\n      <td>Orange</td>\n      <td>NaN</td>\n    </tr>\n    <tr>\n      <th>1</th>\n      <td>Samsung Galaxy S20 FE 5G | Factory Unlocked An...</td>\n      <td>B08FYTSXGQ</td>\n      <td>491</td>\n      <td>Cell Phones &amp; Accessories</td>\n      <td>Samsung</td>\n      <td>6.7 x 3.4 x 2.44</td>\n      <td>NaN</td>\n      <td>1.07200</td>\n      <td>September 23, 2020</td>\n      <td>NaN</td>\n      <td>SM-G781UZBMXAA</td>\n      <td>1 Lithium ion batteries required. (included)</td>\n      <td>NaN</td>\n      <td>NaN</td>\n      <td>Cloud Navy</td>\n      <td>NaN</td>\n    </tr>\n    <tr>\n      <th>2</th>\n      <td>BLU G90 Pro – 6.5” HD+ Gaming Smartphone, Quad...</td>\n      <td>B08C6XBCRT</td>\n      <td>1506</td>\n      <td>Cell Phones &amp; Accessories</td>\n      <td>BLU</td>\n      <td>15.99 x 8.99 x 1</td>\n      <td>NaN</td>\n      <td>0.00368</td>\n      <td>July 1, 2020</td>\n      <td>NaN</td>\n      <td>G0310WW</td>\n      <td>1 Lithium ion batteries required. (included)</td>\n      <td>NaN</td>\n      <td>NaN</td>\n      <td>NaN</td>\n      <td>NaN</td>\n    </tr>\n    <tr>\n      <th>3</th>\n      <td>TCL 10L, Unlocked Android Smartphone with 6.53...</td>\n      <td>B087LY84RT</td>\n      <td>4182</td>\n      <td>Cell Phones &amp; Accessories</td>\n      <td>TCL</td>\n      <td>6.38 x 2.98 x 0.33</td>\n      <td>NaN</td>\n      <td>1.92000</td>\n      <td>April 22, 2020</td>\n      <td>NaN</td>\n      <td>TCL-T770B-2ALCUS11-2</td>\n      <td>1 Lithium ion batteries required. (included)</td>\n      <td>NaN</td>\n      <td>NaN</td>\n      <td>Arctic White</td>\n      <td>NaN</td>\n    </tr>\n    <tr>\n      <th>4</th>\n      <td>OUKITEL WP5 (2020) Rugged Smartphone, 8000mAh ...</td>\n      <td>B0836TG4XB</td>\n      <td>12321</td>\n      <td>Cell Phones &amp; Accessories</td>\n      <td>OUKITEL</td>\n      <td>6.06 x 2.92 x 0.71</td>\n      <td>NaN</td>\n      <td>1.56800</td>\n      <td>December 27, 2019</td>\n      <td>NaN</td>\n      <td>WP5</td>\n      <td>1 Lithium Polymer batteries required. (included)</td>\n      <td>NaN</td>\n      <td>NaN</td>\n      <td>Black</td>\n      <td>NaN</td>\n    </tr>\n  </tbody>\n</table>\n</div>"
     },
     "metadata": {},
     "execution_count": 541
    }
   ],
   "source": [
    "final.head()"
   ]
  },
  {
   "cell_type": "code",
   "execution_count": 542,
   "metadata": {},
   "outputs": [
    {
     "output_type": "execute_result",
     "data": {
      "text/plain": [
       "name                                  0\n",
       "ASIN                                  0\n",
       "Best Sellers Rank                    27\n",
       "Best_Sellers_Rank_fields             27\n",
       "Manufacturer                        214\n",
       "Product Dimensions (inches)        1463\n",
       "Package Dimensions                 1450\n",
       "Item Weight (pounds)                148\n",
       "Date First Available                 22\n",
       "Is Discontinued By Manufacturer    1952\n",
       "Item model number                  1596\n",
       "Batteries                          2102\n",
       "Voltage                            2723\n",
       "Standing screen display size       2724\n",
       "Colour                             1673\n",
       "Color Name                         2686\n",
       "dtype: int64"
      ]
     },
     "metadata": {},
     "execution_count": 542
    }
   ],
   "source": [
    "#Quick check on Null Values\n",
    "final.isnull().sum()"
   ]
  },
  {
   "cell_type": "code",
   "execution_count": 543,
   "metadata": {},
   "outputs": [],
   "source": [
    "final['Package Dimensions (inches)'] = final['Package Dimensions'].str.rstrip(' inches')\n",
    "final['Package Dimensions'] = final['Package Dimensions (inches)']\n",
    "final = final.drop(['Package Dimensions (inches)'], axis=1)"
   ]
  },
  {
   "cell_type": "code",
   "execution_count": 544,
   "metadata": {},
   "outputs": [
    {
     "output_type": "execute_result",
     "data": {
      "text/plain": [
       "                                                   name        ASIN  \\\n",
       "0     OUKITEL WP8 Pro (2020) Rugged Smartphone, 6.49...  B08HRJM99F   \n",
       "1     Samsung Galaxy S20 FE 5G | Factory Unlocked An...  B08FYTSXGQ   \n",
       "2     BLU G90 Pro – 6.5” HD+ Gaming Smartphone, Quad...  B08C6XBCRT   \n",
       "3     TCL 10L, Unlocked Android Smartphone with 6.53...  B087LY84RT   \n",
       "4     OUKITEL WP5 (2020) Rugged Smartphone, 8000mAh ...  B0836TG4XB   \n",
       "...                                                 ...         ...   \n",
       "2720  GEESHIDA 4 Pack Earbud Headphones in-Ear mic 3...  B07P2RQVFL   \n",
       "2721  Blips - New Lab Kit 2 - Transform Your Smartph...  B07YWXZPFQ   \n",
       "2722  Godox X2T-S 2.4G TTL Wireless Flash Trigger wi...  B07W41VP3B   \n",
       "2723  Car Phone Mount,Cell Phone Holder for Car,Anti...  B08MT72RFJ   \n",
       "2724  3 Pack Beg Hug Bunny Webcam Cover Camera Priva...  B088FYXT4K   \n",
       "\n",
       "     Best Sellers Rank               Best_Sellers_Rank_fields  \\\n",
       "0                 9229             Cell Phones & Accessories    \n",
       "1                  491             Cell Phones & Accessories    \n",
       "2                 1506             Cell Phones & Accessories    \n",
       "3                 4182             Cell Phones & Accessories    \n",
       "4                12321             Cell Phones & Accessories    \n",
       "...                ...                                    ...   \n",
       "2720              5148             Earbud & In-Ear Headphones   \n",
       "2721              6571                        Camera & Photo    \n",
       "2722                64  Photographic Lighting Remote Triggers   \n",
       "2723             97438             Cell Phones & Accessories    \n",
       "2724              2763                                Webcams   \n",
       "\n",
       "                 Manufacturer Product Dimensions (inches)  \\\n",
       "0                     OUKITEL          7.01 x 3.33 x 0.51   \n",
       "1                     Samsung            6.7 x 3.4 x 2.44   \n",
       "2                         BLU            15.99 x 8.99 x 1   \n",
       "3                         TCL          6.38 x 2.98 x 0.33   \n",
       "4                     OUKITEL          6.06 x 2.92 x 0.71   \n",
       "...                       ...                         ...   \n",
       "2720                   Geeboy                   2 x 6 x 3   \n",
       "2721  blips magnify the world          5.91 x 4.72 x 2.36   \n",
       "2722                    Godox                         NaN   \n",
       "2723                Senhorita                         NaN   \n",
       "2724                      NaN                         NaN   \n",
       "\n",
       "     Package Dimensions (inches)  Item Weight (pounds) Date First Available  \\\n",
       "0                            NaN               1.23000     October 22, 2020   \n",
       "1                            NaN               1.07200   September 23, 2020   \n",
       "2                            NaN               0.00368         July 1, 2020   \n",
       "3                            NaN               1.92000       April 22, 2020   \n",
       "4                            NaN               1.56800    December 27, 2019   \n",
       "...                          ...                   ...                  ...   \n",
       "2720                         NaN               0.16000    February 24, 2019   \n",
       "2721                         NaN               0.01696    November 23, 2019   \n",
       "2722          7.72 x 5.16 x 4.49               1.36000        July 25, 2019   \n",
       "2723               4.9 x 3.9 x 2               0.38240     November 5, 2020   \n",
       "2724                         NaN                   NaN         May 11, 2020   \n",
       "\n",
       "     Is Discontinued By Manufacturer     Item model number  \\\n",
       "0                                NaN               WP8 Pro   \n",
       "1                                NaN        SM-G781UZBMXAA   \n",
       "2                                NaN               G0310WW   \n",
       "3                                NaN  TCL-T770B-2ALCUS11-2   \n",
       "4                                NaN                   WP5   \n",
       "...                              ...                   ...   \n",
       "2720                             NaN                   NaN   \n",
       "2721                             NaN                   NaN   \n",
       "2722                             NaN                   NaN   \n",
       "2723                             NaN                   NaN   \n",
       "2724                             NaN                   NaN   \n",
       "\n",
       "                                             Batteries Voltage  \\\n",
       "0     1 Lithium Polymer batteries required. (included)     NaN   \n",
       "1         1 Lithium ion batteries required. (included)     NaN   \n",
       "2         1 Lithium ion batteries required. (included)     NaN   \n",
       "3         1 Lithium ion batteries required. (included)     NaN   \n",
       "4     1 Lithium Polymer batteries required. (included)     NaN   \n",
       "...                                                ...     ...   \n",
       "2720                                               NaN     NaN   \n",
       "2721    2 Lithium Metal batteries required. (included)     NaN   \n",
       "2722                                               NaN     NaN   \n",
       "2723                                               NaN     NaN   \n",
       "2724                                               NaN     NaN   \n",
       "\n",
       "     Standing screen display size        Colour Color Name  \n",
       "0                             NaN        Orange        NaN  \n",
       "1                             NaN    Cloud Navy        NaN  \n",
       "2                             NaN           NaN        NaN  \n",
       "3                             NaN  Arctic White        NaN  \n",
       "4                             NaN         Black        NaN  \n",
       "...                           ...           ...        ...  \n",
       "2720                          NaN           NaN        NaN  \n",
       "2721                          NaN           NaN        NaN  \n",
       "2722                          NaN           NaN        NaN  \n",
       "2723                          NaN      Original        NaN  \n",
       "2724                          NaN           NaN        NaN  \n",
       "\n",
       "[2725 rows x 16 columns]"
      ],
      "text/html": "<div>\n<style scoped>\n    .dataframe tbody tr th:only-of-type {\n        vertical-align: middle;\n    }\n\n    .dataframe tbody tr th {\n        vertical-align: top;\n    }\n\n    .dataframe thead th {\n        text-align: right;\n    }\n</style>\n<table border=\"1\" class=\"dataframe\">\n  <thead>\n    <tr style=\"text-align: right;\">\n      <th></th>\n      <th>name</th>\n      <th>ASIN</th>\n      <th>Best Sellers Rank</th>\n      <th>Best_Sellers_Rank_fields</th>\n      <th>Manufacturer</th>\n      <th>Product Dimensions (inches)</th>\n      <th>Package Dimensions (inches)</th>\n      <th>Item Weight (pounds)</th>\n      <th>Date First Available</th>\n      <th>Is Discontinued By Manufacturer</th>\n      <th>Item model number</th>\n      <th>Batteries</th>\n      <th>Voltage</th>\n      <th>Standing screen display size</th>\n      <th>Colour</th>\n      <th>Color Name</th>\n    </tr>\n  </thead>\n  <tbody>\n    <tr>\n      <th>0</th>\n      <td>OUKITEL WP8 Pro (2020) Rugged Smartphone, 6.49...</td>\n      <td>B08HRJM99F</td>\n      <td>9229</td>\n      <td>Cell Phones &amp; Accessories</td>\n      <td>OUKITEL</td>\n      <td>7.01 x 3.33 x 0.51</td>\n      <td>NaN</td>\n      <td>1.23000</td>\n      <td>October 22, 2020</td>\n      <td>NaN</td>\n      <td>WP8 Pro</td>\n      <td>1 Lithium Polymer batteries required. (included)</td>\n      <td>NaN</td>\n      <td>NaN</td>\n      <td>Orange</td>\n      <td>NaN</td>\n    </tr>\n    <tr>\n      <th>1</th>\n      <td>Samsung Galaxy S20 FE 5G | Factory Unlocked An...</td>\n      <td>B08FYTSXGQ</td>\n      <td>491</td>\n      <td>Cell Phones &amp; Accessories</td>\n      <td>Samsung</td>\n      <td>6.7 x 3.4 x 2.44</td>\n      <td>NaN</td>\n      <td>1.07200</td>\n      <td>September 23, 2020</td>\n      <td>NaN</td>\n      <td>SM-G781UZBMXAA</td>\n      <td>1 Lithium ion batteries required. (included)</td>\n      <td>NaN</td>\n      <td>NaN</td>\n      <td>Cloud Navy</td>\n      <td>NaN</td>\n    </tr>\n    <tr>\n      <th>2</th>\n      <td>BLU G90 Pro – 6.5” HD+ Gaming Smartphone, Quad...</td>\n      <td>B08C6XBCRT</td>\n      <td>1506</td>\n      <td>Cell Phones &amp; Accessories</td>\n      <td>BLU</td>\n      <td>15.99 x 8.99 x 1</td>\n      <td>NaN</td>\n      <td>0.00368</td>\n      <td>July 1, 2020</td>\n      <td>NaN</td>\n      <td>G0310WW</td>\n      <td>1 Lithium ion batteries required. (included)</td>\n      <td>NaN</td>\n      <td>NaN</td>\n      <td>NaN</td>\n      <td>NaN</td>\n    </tr>\n    <tr>\n      <th>3</th>\n      <td>TCL 10L, Unlocked Android Smartphone with 6.53...</td>\n      <td>B087LY84RT</td>\n      <td>4182</td>\n      <td>Cell Phones &amp; Accessories</td>\n      <td>TCL</td>\n      <td>6.38 x 2.98 x 0.33</td>\n      <td>NaN</td>\n      <td>1.92000</td>\n      <td>April 22, 2020</td>\n      <td>NaN</td>\n      <td>TCL-T770B-2ALCUS11-2</td>\n      <td>1 Lithium ion batteries required. (included)</td>\n      <td>NaN</td>\n      <td>NaN</td>\n      <td>Arctic White</td>\n      <td>NaN</td>\n    </tr>\n    <tr>\n      <th>4</th>\n      <td>OUKITEL WP5 (2020) Rugged Smartphone, 8000mAh ...</td>\n      <td>B0836TG4XB</td>\n      <td>12321</td>\n      <td>Cell Phones &amp; Accessories</td>\n      <td>OUKITEL</td>\n      <td>6.06 x 2.92 x 0.71</td>\n      <td>NaN</td>\n      <td>1.56800</td>\n      <td>December 27, 2019</td>\n      <td>NaN</td>\n      <td>WP5</td>\n      <td>1 Lithium Polymer batteries required. (included)</td>\n      <td>NaN</td>\n      <td>NaN</td>\n      <td>Black</td>\n      <td>NaN</td>\n    </tr>\n    <tr>\n      <th>...</th>\n      <td>...</td>\n      <td>...</td>\n      <td>...</td>\n      <td>...</td>\n      <td>...</td>\n      <td>...</td>\n      <td>...</td>\n      <td>...</td>\n      <td>...</td>\n      <td>...</td>\n      <td>...</td>\n      <td>...</td>\n      <td>...</td>\n      <td>...</td>\n      <td>...</td>\n      <td>...</td>\n    </tr>\n    <tr>\n      <th>2720</th>\n      <td>GEESHIDA 4 Pack Earbud Headphones in-Ear mic 3...</td>\n      <td>B07P2RQVFL</td>\n      <td>5148</td>\n      <td>Earbud &amp; In-Ear Headphones</td>\n      <td>Geeboy</td>\n      <td>2 x 6 x 3</td>\n      <td>NaN</td>\n      <td>0.16000</td>\n      <td>February 24, 2019</td>\n      <td>NaN</td>\n      <td>NaN</td>\n      <td>NaN</td>\n      <td>NaN</td>\n      <td>NaN</td>\n      <td>NaN</td>\n      <td>NaN</td>\n    </tr>\n    <tr>\n      <th>2721</th>\n      <td>Blips - New Lab Kit 2 - Transform Your Smartph...</td>\n      <td>B07YWXZPFQ</td>\n      <td>6571</td>\n      <td>Camera &amp; Photo</td>\n      <td>blips magnify the world</td>\n      <td>5.91 x 4.72 x 2.36</td>\n      <td>NaN</td>\n      <td>0.01696</td>\n      <td>November 23, 2019</td>\n      <td>NaN</td>\n      <td>NaN</td>\n      <td>2 Lithium Metal batteries required. (included)</td>\n      <td>NaN</td>\n      <td>NaN</td>\n      <td>NaN</td>\n      <td>NaN</td>\n    </tr>\n    <tr>\n      <th>2722</th>\n      <td>Godox X2T-S 2.4G TTL Wireless Flash Trigger wi...</td>\n      <td>B07W41VP3B</td>\n      <td>64</td>\n      <td>Photographic Lighting Remote Triggers</td>\n      <td>Godox</td>\n      <td>NaN</td>\n      <td>7.72 x 5.16 x 4.49</td>\n      <td>1.36000</td>\n      <td>July 25, 2019</td>\n      <td>NaN</td>\n      <td>NaN</td>\n      <td>NaN</td>\n      <td>NaN</td>\n      <td>NaN</td>\n      <td>NaN</td>\n      <td>NaN</td>\n    </tr>\n    <tr>\n      <th>2723</th>\n      <td>Car Phone Mount,Cell Phone Holder for Car,Anti...</td>\n      <td>B08MT72RFJ</td>\n      <td>97438</td>\n      <td>Cell Phones &amp; Accessories</td>\n      <td>Senhorita</td>\n      <td>NaN</td>\n      <td>4.9 x 3.9 x 2</td>\n      <td>0.38240</td>\n      <td>November 5, 2020</td>\n      <td>NaN</td>\n      <td>NaN</td>\n      <td>NaN</td>\n      <td>NaN</td>\n      <td>NaN</td>\n      <td>Original</td>\n      <td>NaN</td>\n    </tr>\n    <tr>\n      <th>2724</th>\n      <td>3 Pack Beg Hug Bunny Webcam Cover Camera Priva...</td>\n      <td>B088FYXT4K</td>\n      <td>2763</td>\n      <td>Webcams</td>\n      <td>NaN</td>\n      <td>NaN</td>\n      <td>NaN</td>\n      <td>NaN</td>\n      <td>May 11, 2020</td>\n      <td>NaN</td>\n      <td>NaN</td>\n      <td>NaN</td>\n      <td>NaN</td>\n      <td>NaN</td>\n      <td>NaN</td>\n      <td>NaN</td>\n    </tr>\n  </tbody>\n</table>\n<p>2725 rows × 16 columns</p>\n</div>"
     },
     "metadata": {},
     "execution_count": 544
    }
   ],
   "source": [
    "final = final.rename(columns={'Package Dimensions' : 'Package Dimensions (inches)'})\n",
    "final"
   ]
  },
  {
   "cell_type": "code",
   "execution_count": 545,
   "metadata": {},
   "outputs": [],
   "source": [
    "final['Date First Available'] =  pd.to_datetime(final['Date First Available'], infer_datetime_format=True)"
   ]
  },
  {
   "cell_type": "code",
   "execution_count": 546,
   "metadata": {},
   "outputs": [],
   "source": [
    "#Dropping Color Name' column\n",
    "final = final.drop(columns= 'Color Name', axis=1)"
   ]
  },
  {
   "cell_type": "code",
   "execution_count": 547,
   "metadata": {},
   "outputs": [
    {
     "output_type": "execute_result",
     "data": {
      "text/plain": [
       "name                               OUKITEL WP8 Pro Unlocked Rugged Smartphone, An...\n",
       "ASIN                                                                      B08PFGPGRM\n",
       "Best Sellers Rank                                                              20585\n",
       "Best_Sellers_Rank_fields                                  Cell Phones & Accessories \n",
       "Manufacturer                                                    OUKITEL direct store\n",
       "Product Dimensions (inches)                                                      NaN\n",
       "Package Dimensions (inches)                                       9.53 x 8.66 x 1.81\n",
       "Item Weight (pounds)                                                            1.24\n",
       "Date First Available                                             2020-12-02 00:00:00\n",
       "Is Discontinued By Manufacturer                                                  NaN\n",
       "Item model number                                                                NaN\n",
       "Batteries                                                                        NaN\n",
       "Voltage                                                                          NaN\n",
       "Standing screen display size                                                     NaN\n",
       "Colour                                                                         Black\n",
       "Name: 30, dtype: object"
      ]
     },
     "metadata": {},
     "execution_count": 547
    }
   ],
   "source": [
    "final.iloc[30]"
   ]
  },
  {
   "cell_type": "code",
   "execution_count": 548,
   "metadata": {},
   "outputs": [
    {
     "output_type": "execute_result",
     "data": {
      "text/plain": [
       "name                                       object\n",
       "ASIN                                       object\n",
       "Best Sellers Rank                          object\n",
       "Best_Sellers_Rank_fields                   object\n",
       "Manufacturer                               object\n",
       "Product Dimensions (inches)                object\n",
       "Package Dimensions (inches)                object\n",
       "Item Weight (pounds)                      float64\n",
       "Date First Available               datetime64[ns]\n",
       "Is Discontinued By Manufacturer            object\n",
       "Item model number                          object\n",
       "Batteries                                  object\n",
       "Voltage                                    object\n",
       "Standing screen display size               object\n",
       "Colour                                     object\n",
       "dtype: object"
      ]
     },
     "metadata": {},
     "execution_count": 548
    }
   ],
   "source": [
    "final.dtypes"
   ]
  },
  {
   "cell_type": "code",
   "execution_count": 549,
   "metadata": {},
   "outputs": [],
   "source": [
    "final['Product Dimensions (inches)'].fillna(final['Package Dimensions (inches)'], inplace=True)\n",
    "del final['Package Dimensions (inches)']\n"
   ]
  },
  {
   "cell_type": "code",
   "execution_count": 550,
   "metadata": {},
   "outputs": [
    {
     "output_type": "execute_result",
     "data": {
      "text/plain": [
       "name                                  0\n",
       "ASIN                                  0\n",
       "Best Sellers Rank                    27\n",
       "Best_Sellers_Rank_fields             27\n",
       "Manufacturer                        214\n",
       "Product Dimensions (inches)         188\n",
       "Item Weight (pounds)                148\n",
       "Date First Available                 22\n",
       "Is Discontinued By Manufacturer    1952\n",
       "Item model number                  1596\n",
       "Batteries                          2102\n",
       "Voltage                            2723\n",
       "Standing screen display size       2724\n",
       "Colour                             1673\n",
       "dtype: int64"
      ]
     },
     "metadata": {},
     "execution_count": 550
    }
   ],
   "source": [
    "final.isnull().sum()"
   ]
  },
  {
   "cell_type": "code",
   "execution_count": 551,
   "metadata": {},
   "outputs": [],
   "source": [
    "#Filling Null Values in Best Seller Rank Column\n",
    "final['Best Sellers Rank'].fillna(0, inplace= True)"
   ]
  },
  {
   "cell_type": "code",
   "execution_count": 552,
   "metadata": {},
   "outputs": [],
   "source": [
    "#Converting Best Sellers Rank as float\n",
    "final['Best Sellers Rank'] = final['Best Sellers Rank'].astype('float')"
   ]
  },
  {
   "cell_type": "code",
   "execution_count": 553,
   "metadata": {},
   "outputs": [],
   "source": [
    "#Deleting few\n",
    "del final['Voltage']"
   ]
  },
  {
   "cell_type": "code",
   "execution_count": 554,
   "metadata": {},
   "outputs": [],
   "source": [
    "del final['Standing screen display size']"
   ]
  },
  {
   "cell_type": "code",
   "execution_count": 555,
   "metadata": {},
   "outputs": [],
   "source": [
    "#Saving cleaned data to CSV for SQL Analysis\n",
    "final.to_csv('product_smartphone.csv')"
   ]
  },
  {
   "cell_type": "code",
   "execution_count": null,
   "metadata": {},
   "outputs": [],
   "source": [
    "#Pushing everything to MySQL for further analysis"
   ]
  },
  {
   "cell_type": "code",
   "execution_count": 556,
   "metadata": {},
   "outputs": [],
   "source": [
    "# db_data = 'mysql+mysqldb://' + 'root' + ':' + '234024_Anup' + '@' + 'localhost' + ':3306/' \\\n",
    "#        + 'smartphone' + '?charset=utf8mb4'\n",
    "# engine = create_engine(db_data)\n",
    "\n",
    "# # Connect to the database\n",
    "# connection = pymysql.connect(host='localhost',\n",
    "#                          user='root',\n",
    "#                          password='234024_Anup',\n",
    "#                          db='smartphone')    "
   ]
  },
  {
   "cell_type": "code",
   "execution_count": 558,
   "metadata": {},
   "outputs": [],
   "source": [
    "#connection"
   ]
  },
  {
   "cell_type": "code",
   "execution_count": 1182,
   "metadata": {
    "tags": []
   },
   "outputs": [],
   "source": [
    "# # create cursor\n",
    "# cursor=connection.cursor()\n",
    "# # Execute the to_sql for writting DF into SQL\n",
    "# new_f3.to_sql('search', engine, if_exists='append', index=False)    \n",
    "\n",
    "# # Execute query\n",
    "# sql = \"SELECT * FROM search\"\n",
    "# cursor.execute(sql)\n",
    "\n",
    "# # Fetch all the records\n",
    "# result = cursor.fetchall()\n",
    "# for i in result:\n",
    "#     print(i)\n",
    "\n",
    "# engine.dispose()\n",
    "# connection.close()"
   ]
  },
  {
   "cell_type": "code",
   "execution_count": null,
   "metadata": {},
   "outputs": [],
   "source": []
  }
 ]
}